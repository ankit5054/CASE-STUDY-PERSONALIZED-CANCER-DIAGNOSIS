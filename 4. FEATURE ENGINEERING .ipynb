{
 "cells": [
  {
   "cell_type": "markdown",
   "metadata": {},
   "source": [
    "# FEATURE ENGINEERING "
   ]
  },
  {
   "cell_type": "markdown",
   "metadata": {
    "colab_type": "text",
    "id": "M7AMKFKcOQu1"
   },
   "source": [
    "<h2>3.1. Reading Data</h2>"
   ]
  },
  {
   "cell_type": "markdown",
   "metadata": {
    "colab_type": "text",
    "id": "aBdBb2H3OQu2"
   },
   "source": [
    "<h3>3.1.1. Reading Gene and Variation Data</h3>"
   ]
  },
  {
   "cell_type": "code",
   "execution_count": 7,
   "metadata": {
    "colab": {},
    "colab_type": "code",
    "id": "0Os-owW1OQu2",
    "outputId": "ff8ef255-d908-403a-f72a-1eef6225ba7f"
   },
   "outputs": [
    {
     "name": "stdout",
     "output_type": "stream",
     "text": [
      "Number of data points :  3321\n",
      "Number of features :  4\n",
      "Features :  ['ID' 'Gene' 'Variation' 'Class']\n"
     ]
    },
    {
     "data": {
      "text/html": [
       "<div>\n",
       "<style>\n",
       "    .dataframe thead tr:only-child th {\n",
       "        text-align: right;\n",
       "    }\n",
       "\n",
       "    .dataframe thead th {\n",
       "        text-align: left;\n",
       "    }\n",
       "\n",
       "    .dataframe tbody tr th {\n",
       "        vertical-align: top;\n",
       "    }\n",
       "</style>\n",
       "<table border=\"1\" class=\"dataframe\">\n",
       "  <thead>\n",
       "    <tr style=\"text-align: right;\">\n",
       "      <th></th>\n",
       "      <th>ID</th>\n",
       "      <th>Gene</th>\n",
       "      <th>Variation</th>\n",
       "      <th>Class</th>\n",
       "    </tr>\n",
       "  </thead>\n",
       "  <tbody>\n",
       "    <tr>\n",
       "      <th>0</th>\n",
       "      <td>0</td>\n",
       "      <td>FAM58A</td>\n",
       "      <td>Truncating Mutations</td>\n",
       "      <td>1</td>\n",
       "    </tr>\n",
       "    <tr>\n",
       "      <th>1</th>\n",
       "      <td>1</td>\n",
       "      <td>CBL</td>\n",
       "      <td>W802*</td>\n",
       "      <td>2</td>\n",
       "    </tr>\n",
       "    <tr>\n",
       "      <th>2</th>\n",
       "      <td>2</td>\n",
       "      <td>CBL</td>\n",
       "      <td>Q249E</td>\n",
       "      <td>2</td>\n",
       "    </tr>\n",
       "    <tr>\n",
       "      <th>3</th>\n",
       "      <td>3</td>\n",
       "      <td>CBL</td>\n",
       "      <td>N454D</td>\n",
       "      <td>3</td>\n",
       "    </tr>\n",
       "    <tr>\n",
       "      <th>4</th>\n",
       "      <td>4</td>\n",
       "      <td>CBL</td>\n",
       "      <td>L399V</td>\n",
       "      <td>4</td>\n",
       "    </tr>\n",
       "  </tbody>\n",
       "</table>\n",
       "</div>"
      ],
      "text/plain": [
       "   ID    Gene             Variation  Class\n",
       "0   0  FAM58A  Truncating Mutations      1\n",
       "1   1     CBL                 W802*      2\n",
       "2   2     CBL                 Q249E      2\n",
       "3   3     CBL                 N454D      3\n",
       "4   4     CBL                 L399V      4"
      ]
     },
     "execution_count": 7,
     "metadata": {},
     "output_type": "execute_result"
    }
   ],
   "source": [
    "data = pd.read_csv('training/training_variants')\n",
    "print('Number of data points : ', data.shape[0])\n",
    "print('Number of features : ', data.shape[1])\n",
    "print('Features : ', data.columns.values)\n",
    "data.head()"
   ]
  },
  {
   "cell_type": "markdown",
   "metadata": {
    "colab_type": "text",
    "id": "6VYO0fvbOQu8"
   },
   "source": [
    "<p>\n",
    "    training/training_variants is a comma separated file containing the description of the genetic mutations used for training. <br>\n",
    "    Fields are \n",
    "    <ul>\n",
    "        <li><b>ID : </b>the id of the row used to link the mutation to the clinical evidence</li>\n",
    "        <li><b>Gene : </b>the gene where this genetic mutation is located </li>\n",
    "        <li><b>Variation : </b>the aminoacid change for this mutations </li>\n",
    "        <li><b>Class :</b> 1-9 the class this genetic mutation has been classified on</li>\n",
    "    </ul>"
   ]
  },
  {
   "cell_type": "markdown",
   "metadata": {
    "colab_type": "text",
    "id": "RPubFke6OQu9"
   },
   "source": [
    "<h3>3.1.2. Reading Text Data</h3>"
   ]
  },
  {
   "cell_type": "code",
   "execution_count": 8,
   "metadata": {
    "colab": {},
    "colab_type": "code",
    "id": "1i30WJEyOQu9",
    "outputId": "558efb9a-6580-4ff7-a54e-1147907f3afb"
   },
   "outputs": [
    {
     "name": "stdout",
     "output_type": "stream",
     "text": [
      "Number of data points :  3321\n",
      "Number of features :  2\n",
      "Features :  ['ID' 'TEXT']\n"
     ]
    },
    {
     "data": {
      "text/html": [
       "<div>\n",
       "<style>\n",
       "    .dataframe thead tr:only-child th {\n",
       "        text-align: right;\n",
       "    }\n",
       "\n",
       "    .dataframe thead th {\n",
       "        text-align: left;\n",
       "    }\n",
       "\n",
       "    .dataframe tbody tr th {\n",
       "        vertical-align: top;\n",
       "    }\n",
       "</style>\n",
       "<table border=\"1\" class=\"dataframe\">\n",
       "  <thead>\n",
       "    <tr style=\"text-align: right;\">\n",
       "      <th></th>\n",
       "      <th>ID</th>\n",
       "      <th>TEXT</th>\n",
       "    </tr>\n",
       "  </thead>\n",
       "  <tbody>\n",
       "    <tr>\n",
       "      <th>0</th>\n",
       "      <td>0</td>\n",
       "      <td>Cyclin-dependent kinases (CDKs) regulate a var...</td>\n",
       "    </tr>\n",
       "    <tr>\n",
       "      <th>1</th>\n",
       "      <td>1</td>\n",
       "      <td>Abstract Background  Non-small cell lung canc...</td>\n",
       "    </tr>\n",
       "    <tr>\n",
       "      <th>2</th>\n",
       "      <td>2</td>\n",
       "      <td>Abstract Background  Non-small cell lung canc...</td>\n",
       "    </tr>\n",
       "    <tr>\n",
       "      <th>3</th>\n",
       "      <td>3</td>\n",
       "      <td>Recent evidence has demonstrated that acquired...</td>\n",
       "    </tr>\n",
       "    <tr>\n",
       "      <th>4</th>\n",
       "      <td>4</td>\n",
       "      <td>Oncogenic mutations in the monomeric Casitas B...</td>\n",
       "    </tr>\n",
       "  </tbody>\n",
       "</table>\n",
       "</div>"
      ],
      "text/plain": [
       "   ID                                               TEXT\n",
       "0   0  Cyclin-dependent kinases (CDKs) regulate a var...\n",
       "1   1   Abstract Background  Non-small cell lung canc...\n",
       "2   2   Abstract Background  Non-small cell lung canc...\n",
       "3   3  Recent evidence has demonstrated that acquired...\n",
       "4   4  Oncogenic mutations in the monomeric Casitas B..."
      ]
     },
     "execution_count": 8,
     "metadata": {},
     "output_type": "execute_result"
    }
   ],
   "source": [
    "# note the seprator in this file\n",
    "data_text =pd.read_csv(\"training/training_text\",sep=\"\\|\\|\",engine=\"python\",names=[\"ID\",\"TEXT\"],skiprows=1)\n",
    "print('Number of data points : ', data_text.shape[0])\n",
    "print('Number of features : ', data_text.shape[1])\n",
    "print('Features : ', data_text.columns.values)\n",
    "data_text.head()"
   ]
  },
  {
   "cell_type": "markdown",
   "metadata": {
    "colab_type": "text",
    "id": "ZSy3O7VvOQvC"
   },
   "source": [
    "<h3>3.1.3. Preprocessing of text</h3>"
   ]
  },
  {
   "cell_type": "code",
   "execution_count": 9,
   "metadata": {
    "colab": {},
    "colab_type": "code",
    "collapsed": true,
    "id": "Y9RpP_0QOQvD"
   },
   "outputs": [],
   "source": [
    "# loading stop words from nltk library\n",
    "stop_words = set(stopwords.words('english'))\n",
    "\n",
    "\n",
    "def nlp_preprocessing(total_text, index, column):\n",
    "    if type(total_text) is not int:\n",
    "        string = \"\"\n",
    "        # replace every special char with space\n",
    "        total_text = re.sub('[^a-zA-Z0-9\\n]', ' ', total_text)\n",
    "        # replace multiple spaces with single space\n",
    "        total_text = re.sub('\\s+',' ', total_text)\n",
    "        # converting all the chars into lower-case.\n",
    "        total_text = total_text.lower()\n",
    "        \n",
    "        for word in total_text.split():\n",
    "        # if the word is a not a stop word then retain that word from the data\n",
    "            if not word in stop_words:\n",
    "                string += word + \" \"\n",
    "        \n",
    "        data_text[column][index] = string"
   ]
  },
  {
   "cell_type": "code",
   "execution_count": 10,
   "metadata": {
    "colab": {},
    "colab_type": "code",
    "id": "lkCyyQm6OQvH",
    "outputId": "b2f0be09-126d-43d9-f615-744dd504bcb8"
   },
   "outputs": [
    {
     "name": "stdout",
     "output_type": "stream",
     "text": [
      "Time took for preprocessing the text : 120.35254947918148 seconds\n"
     ]
    }
   ],
   "source": [
    "#text processing stage.\n",
    "start_time = time.clock()\n",
    "for index, row in data_text.iterrows():\n",
    "    if type(row['TEXT']) is str:\n",
    "        nlp_preprocessing(row['TEXT'], index, 'TEXT')\n",
    "    else:\n",
    "        print(\"there is no text description for id:\",index)\n",
    "print('Time took for preprocessing the text :',time.clock() - start_time, \"seconds\")"
   ]
  },
  {
   "cell_type": "code",
   "execution_count": 11,
   "metadata": {
    "colab": {},
    "colab_type": "code",
    "id": "qk8gHyNhOQvL",
    "outputId": "4d49462b-26e1-4621-8f76-b4b4b65f529d"
   },
   "outputs": [
    {
     "data": {
      "text/html": [
       "<div>\n",
       "<style>\n",
       "    .dataframe thead tr:only-child th {\n",
       "        text-align: right;\n",
       "    }\n",
       "\n",
       "    .dataframe thead th {\n",
       "        text-align: left;\n",
       "    }\n",
       "\n",
       "    .dataframe tbody tr th {\n",
       "        vertical-align: top;\n",
       "    }\n",
       "</style>\n",
       "<table border=\"1\" class=\"dataframe\">\n",
       "  <thead>\n",
       "    <tr style=\"text-align: right;\">\n",
       "      <th></th>\n",
       "      <th>ID</th>\n",
       "      <th>Gene</th>\n",
       "      <th>Variation</th>\n",
       "      <th>Class</th>\n",
       "      <th>TEXT</th>\n",
       "    </tr>\n",
       "  </thead>\n",
       "  <tbody>\n",
       "    <tr>\n",
       "      <th>0</th>\n",
       "      <td>0</td>\n",
       "      <td>FAM58A</td>\n",
       "      <td>Truncating Mutations</td>\n",
       "      <td>1</td>\n",
       "      <td>cyclin dependent kinases cdks regulate variety...</td>\n",
       "    </tr>\n",
       "    <tr>\n",
       "      <th>1</th>\n",
       "      <td>1</td>\n",
       "      <td>CBL</td>\n",
       "      <td>W802*</td>\n",
       "      <td>2</td>\n",
       "      <td>abstract background non small cell lung cancer...</td>\n",
       "    </tr>\n",
       "    <tr>\n",
       "      <th>2</th>\n",
       "      <td>2</td>\n",
       "      <td>CBL</td>\n",
       "      <td>Q249E</td>\n",
       "      <td>2</td>\n",
       "      <td>abstract background non small cell lung cancer...</td>\n",
       "    </tr>\n",
       "    <tr>\n",
       "      <th>3</th>\n",
       "      <td>3</td>\n",
       "      <td>CBL</td>\n",
       "      <td>N454D</td>\n",
       "      <td>3</td>\n",
       "      <td>recent evidence demonstrated acquired uniparen...</td>\n",
       "    </tr>\n",
       "    <tr>\n",
       "      <th>4</th>\n",
       "      <td>4</td>\n",
       "      <td>CBL</td>\n",
       "      <td>L399V</td>\n",
       "      <td>4</td>\n",
       "      <td>oncogenic mutations monomeric casitas b lineag...</td>\n",
       "    </tr>\n",
       "  </tbody>\n",
       "</table>\n",
       "</div>"
      ],
      "text/plain": [
       "   ID    Gene             Variation  Class  \\\n",
       "0   0  FAM58A  Truncating Mutations      1   \n",
       "1   1     CBL                 W802*      2   \n",
       "2   2     CBL                 Q249E      2   \n",
       "3   3     CBL                 N454D      3   \n",
       "4   4     CBL                 L399V      4   \n",
       "\n",
       "                                                TEXT  \n",
       "0  cyclin dependent kinases cdks regulate variety...  \n",
       "1  abstract background non small cell lung cancer...  \n",
       "2  abstract background non small cell lung cancer...  \n",
       "3  recent evidence demonstrated acquired uniparen...  \n",
       "4  oncogenic mutations monomeric casitas b lineag...  "
      ]
     },
     "execution_count": 11,
     "metadata": {},
     "output_type": "execute_result"
    }
   ],
   "source": [
    "#merging both gene_variations and text data based on ID\n",
    "result = pd.merge(data, data_text,on='ID', how='left')\n",
    "result.head()"
   ]
  },
  {
   "cell_type": "markdown",
   "metadata": {},
   "source": [
    "## FEATURE  :1\n",
    "<p>Adding all the texts of Gene, Variation and Text</p>"
   ]
  },
  {
   "cell_type": "code",
   "execution_count": 12,
   "metadata": {
    "collapsed": true
   },
   "outputs": [],
   "source": [
    "result['Gene_Variation_Text']=result['Gene']+' '+result['Variation']+' '+result['TEXT']"
   ]
  },
  {
   "cell_type": "code",
   "execution_count": 13,
   "metadata": {
    "collapsed": true
   },
   "outputs": [],
   "source": [
    "arr=[]\n",
    "for i in result['Gene_Variation_Text']:\n",
    "    arr.append(len(i))\n",
    "    "
   ]
  },
  {
   "cell_type": "markdown",
   "metadata": {},
   "source": [
    "## FEATURE  :2\n",
    "<p>Length of the Gene_Variation_Text</p>"
   ]
  },
  {
   "cell_type": "code",
   "execution_count": 14,
   "metadata": {
    "collapsed": true
   },
   "outputs": [],
   "source": [
    "result['LEN']=arr"
   ]
  },
  {
   "cell_type": "markdown",
   "metadata": {},
   "source": [
    "## FEATURE  :3\n",
    "<p>Adding the Gene and variation</p>"
   ]
  },
  {
   "cell_type": "code",
   "execution_count": 15,
   "metadata": {
    "collapsed": true
   },
   "outputs": [],
   "source": [
    "result['Gene_Variation']=result['Gene']+' '+result['Variation']"
   ]
  },
  {
   "cell_type": "code",
   "execution_count": 16,
   "metadata": {
    "scrolled": false
   },
   "outputs": [
    {
     "data": {
      "text/html": [
       "<div>\n",
       "<style>\n",
       "    .dataframe thead tr:only-child th {\n",
       "        text-align: right;\n",
       "    }\n",
       "\n",
       "    .dataframe thead th {\n",
       "        text-align: left;\n",
       "    }\n",
       "\n",
       "    .dataframe tbody tr th {\n",
       "        vertical-align: top;\n",
       "    }\n",
       "</style>\n",
       "<table border=\"1\" class=\"dataframe\">\n",
       "  <thead>\n",
       "    <tr style=\"text-align: right;\">\n",
       "      <th></th>\n",
       "      <th>ID</th>\n",
       "      <th>Gene</th>\n",
       "      <th>Variation</th>\n",
       "      <th>Class</th>\n",
       "      <th>TEXT</th>\n",
       "      <th>Gene_Variation_Text</th>\n",
       "      <th>LEN</th>\n",
       "      <th>Gene_Variation</th>\n",
       "    </tr>\n",
       "  </thead>\n",
       "  <tbody>\n",
       "    <tr>\n",
       "      <th>0</th>\n",
       "      <td>0</td>\n",
       "      <td>FAM58A</td>\n",
       "      <td>Truncating Mutations</td>\n",
       "      <td>1</td>\n",
       "      <td>cyclin dependent kinases cdks regulate variety...</td>\n",
       "      <td>FAM58A Truncating Mutations cyclin dependent k...</td>\n",
       "      <td>30864</td>\n",
       "      <td>FAM58A Truncating Mutations</td>\n",
       "    </tr>\n",
       "    <tr>\n",
       "      <th>1</th>\n",
       "      <td>1</td>\n",
       "      <td>CBL</td>\n",
       "      <td>W802*</td>\n",
       "      <td>2</td>\n",
       "      <td>abstract background non small cell lung cancer...</td>\n",
       "      <td>CBL W802* abstract background non small cell l...</td>\n",
       "      <td>27854</td>\n",
       "      <td>CBL W802*</td>\n",
       "    </tr>\n",
       "    <tr>\n",
       "      <th>2</th>\n",
       "      <td>2</td>\n",
       "      <td>CBL</td>\n",
       "      <td>Q249E</td>\n",
       "      <td>2</td>\n",
       "      <td>abstract background non small cell lung cancer...</td>\n",
       "      <td>CBL Q249E abstract background non small cell l...</td>\n",
       "      <td>27854</td>\n",
       "      <td>CBL Q249E</td>\n",
       "    </tr>\n",
       "    <tr>\n",
       "      <th>3</th>\n",
       "      <td>3</td>\n",
       "      <td>CBL</td>\n",
       "      <td>N454D</td>\n",
       "      <td>3</td>\n",
       "      <td>recent evidence demonstrated acquired uniparen...</td>\n",
       "      <td>CBL N454D recent evidence demonstrated acquire...</td>\n",
       "      <td>28103</td>\n",
       "      <td>CBL N454D</td>\n",
       "    </tr>\n",
       "    <tr>\n",
       "      <th>4</th>\n",
       "      <td>4</td>\n",
       "      <td>CBL</td>\n",
       "      <td>L399V</td>\n",
       "      <td>4</td>\n",
       "      <td>oncogenic mutations monomeric casitas b lineag...</td>\n",
       "      <td>CBL L399V oncogenic mutations monomeric casita...</td>\n",
       "      <td>31659</td>\n",
       "      <td>CBL L399V</td>\n",
       "    </tr>\n",
       "    <tr>\n",
       "      <th>5</th>\n",
       "      <td>5</td>\n",
       "      <td>CBL</td>\n",
       "      <td>V391I</td>\n",
       "      <td>4</td>\n",
       "      <td>oncogenic mutations monomeric casitas b lineag...</td>\n",
       "      <td>CBL V391I oncogenic mutations monomeric casita...</td>\n",
       "      <td>31659</td>\n",
       "      <td>CBL V391I</td>\n",
       "    </tr>\n",
       "    <tr>\n",
       "      <th>6</th>\n",
       "      <td>6</td>\n",
       "      <td>CBL</td>\n",
       "      <td>V430M</td>\n",
       "      <td>5</td>\n",
       "      <td>oncogenic mutations monomeric casitas b lineag...</td>\n",
       "      <td>CBL V430M oncogenic mutations monomeric casita...</td>\n",
       "      <td>31659</td>\n",
       "      <td>CBL V430M</td>\n",
       "    </tr>\n",
       "    <tr>\n",
       "      <th>7</th>\n",
       "      <td>7</td>\n",
       "      <td>CBL</td>\n",
       "      <td>Deletion</td>\n",
       "      <td>1</td>\n",
       "      <td>cbl negative regulator activated receptor tyro...</td>\n",
       "      <td>CBL Deletion cbl negative regulator activated ...</td>\n",
       "      <td>78244</td>\n",
       "      <td>CBL Deletion</td>\n",
       "    </tr>\n",
       "    <tr>\n",
       "      <th>8</th>\n",
       "      <td>8</td>\n",
       "      <td>CBL</td>\n",
       "      <td>Y371H</td>\n",
       "      <td>4</td>\n",
       "      <td>abstract juvenile myelomonocytic leukemia jmml...</td>\n",
       "      <td>CBL Y371H abstract juvenile myelomonocytic leu...</td>\n",
       "      <td>62184</td>\n",
       "      <td>CBL Y371H</td>\n",
       "    </tr>\n",
       "    <tr>\n",
       "      <th>9</th>\n",
       "      <td>9</td>\n",
       "      <td>CBL</td>\n",
       "      <td>C384R</td>\n",
       "      <td>4</td>\n",
       "      <td>abstract juvenile myelomonocytic leukemia jmml...</td>\n",
       "      <td>CBL C384R abstract juvenile myelomonocytic leu...</td>\n",
       "      <td>30535</td>\n",
       "      <td>CBL C384R</td>\n",
       "    </tr>\n",
       "    <tr>\n",
       "      <th>10</th>\n",
       "      <td>10</td>\n",
       "      <td>CBL</td>\n",
       "      <td>P395A</td>\n",
       "      <td>4</td>\n",
       "      <td>oncogenic mutations monomeric casitas b lineag...</td>\n",
       "      <td>CBL P395A oncogenic mutations monomeric casita...</td>\n",
       "      <td>31659</td>\n",
       "      <td>CBL P395A</td>\n",
       "    </tr>\n",
       "    <tr>\n",
       "      <th>11</th>\n",
       "      <td>11</td>\n",
       "      <td>CBL</td>\n",
       "      <td>K382E</td>\n",
       "      <td>4</td>\n",
       "      <td>noonan syndrome autosomal dominant congenital ...</td>\n",
       "      <td>CBL K382E noonan syndrome autosomal dominant c...</td>\n",
       "      <td>65905</td>\n",
       "      <td>CBL K382E</td>\n",
       "    </tr>\n",
       "    <tr>\n",
       "      <th>12</th>\n",
       "      <td>12</td>\n",
       "      <td>CBL</td>\n",
       "      <td>R420Q</td>\n",
       "      <td>4</td>\n",
       "      <td>noonan syndrome autosomal dominant congenital ...</td>\n",
       "      <td>CBL R420Q noonan syndrome autosomal dominant c...</td>\n",
       "      <td>137066</td>\n",
       "      <td>CBL R420Q</td>\n",
       "    </tr>\n",
       "    <tr>\n",
       "      <th>13</th>\n",
       "      <td>13</td>\n",
       "      <td>CBL</td>\n",
       "      <td>C381A</td>\n",
       "      <td>4</td>\n",
       "      <td>noonan syndrome autosomal dominant congenital ...</td>\n",
       "      <td>CBL C381A noonan syndrome autosomal dominant c...</td>\n",
       "      <td>65905</td>\n",
       "      <td>CBL C381A</td>\n",
       "    </tr>\n",
       "    <tr>\n",
       "      <th>14</th>\n",
       "      <td>14</td>\n",
       "      <td>CBL</td>\n",
       "      <td>P428L</td>\n",
       "      <td>5</td>\n",
       "      <td>oncogenic mutations monomeric casitas b lineag...</td>\n",
       "      <td>CBL P428L oncogenic mutations monomeric casita...</td>\n",
       "      <td>31659</td>\n",
       "      <td>CBL P428L</td>\n",
       "    </tr>\n",
       "    <tr>\n",
       "      <th>15</th>\n",
       "      <td>15</td>\n",
       "      <td>CBL</td>\n",
       "      <td>D390Y</td>\n",
       "      <td>4</td>\n",
       "      <td>noonan syndrome autosomal dominant congenital ...</td>\n",
       "      <td>CBL D390Y noonan syndrome autosomal dominant c...</td>\n",
       "      <td>34256</td>\n",
       "      <td>CBL D390Y</td>\n",
       "    </tr>\n",
       "    <tr>\n",
       "      <th>16</th>\n",
       "      <td>16</td>\n",
       "      <td>CBL</td>\n",
       "      <td>Truncating Mutations</td>\n",
       "      <td>1</td>\n",
       "      <td>determine residual cylindrical refractive erro...</td>\n",
       "      <td>CBL Truncating Mutations determine residual cy...</td>\n",
       "      <td>42599</td>\n",
       "      <td>CBL Truncating Mutations</td>\n",
       "    </tr>\n",
       "    <tr>\n",
       "      <th>17</th>\n",
       "      <td>17</td>\n",
       "      <td>CBL</td>\n",
       "      <td>Q367P</td>\n",
       "      <td>4</td>\n",
       "      <td>acquired uniparental disomy aupd common featur...</td>\n",
       "      <td>CBL Q367P acquired uniparental disomy aupd com...</td>\n",
       "      <td>16303</td>\n",
       "      <td>CBL Q367P</td>\n",
       "    </tr>\n",
       "    <tr>\n",
       "      <th>18</th>\n",
       "      <td>18</td>\n",
       "      <td>CBL</td>\n",
       "      <td>M374V</td>\n",
       "      <td>5</td>\n",
       "      <td>oncogenic mutations monomeric casitas b lineag...</td>\n",
       "      <td>CBL M374V oncogenic mutations monomeric casita...</td>\n",
       "      <td>31659</td>\n",
       "      <td>CBL M374V</td>\n",
       "    </tr>\n",
       "    <tr>\n",
       "      <th>19</th>\n",
       "      <td>19</td>\n",
       "      <td>CBL</td>\n",
       "      <td>Y371S</td>\n",
       "      <td>4</td>\n",
       "      <td>acquired uniparental disomy aupd common featur...</td>\n",
       "      <td>CBL Y371S acquired uniparental disomy aupd com...</td>\n",
       "      <td>16303</td>\n",
       "      <td>CBL Y371S</td>\n",
       "    </tr>\n",
       "    <tr>\n",
       "      <th>20</th>\n",
       "      <td>20</td>\n",
       "      <td>CBL</td>\n",
       "      <td>H94Y</td>\n",
       "      <td>6</td>\n",
       "      <td>abstract background non small cell lung cancer...</td>\n",
       "      <td>CBL H94Y abstract background non small cell lu...</td>\n",
       "      <td>59502</td>\n",
       "      <td>CBL H94Y</td>\n",
       "    </tr>\n",
       "    <tr>\n",
       "      <th>21</th>\n",
       "      <td>21</td>\n",
       "      <td>CBL</td>\n",
       "      <td>C396R</td>\n",
       "      <td>4</td>\n",
       "      <td>oncogenic mutations monomeric casitas b lineag...</td>\n",
       "      <td>CBL C396R oncogenic mutations monomeric casita...</td>\n",
       "      <td>31659</td>\n",
       "      <td>CBL C396R</td>\n",
       "    </tr>\n",
       "    <tr>\n",
       "      <th>22</th>\n",
       "      <td>22</td>\n",
       "      <td>CBL</td>\n",
       "      <td>G375P</td>\n",
       "      <td>4</td>\n",
       "      <td>oncogenic mutations monomeric casitas b lineag...</td>\n",
       "      <td>CBL G375P oncogenic mutations monomeric casita...</td>\n",
       "      <td>31659</td>\n",
       "      <td>CBL G375P</td>\n",
       "    </tr>\n",
       "    <tr>\n",
       "      <th>23</th>\n",
       "      <td>23</td>\n",
       "      <td>CBL</td>\n",
       "      <td>S376F</td>\n",
       "      <td>4</td>\n",
       "      <td>recent evidence demonstrated acquired uniparen...</td>\n",
       "      <td>CBL S376F recent evidence demonstrated acquire...</td>\n",
       "      <td>28103</td>\n",
       "      <td>CBL S376F</td>\n",
       "    </tr>\n",
       "    <tr>\n",
       "      <th>24</th>\n",
       "      <td>24</td>\n",
       "      <td>CBL</td>\n",
       "      <td>P417A</td>\n",
       "      <td>4</td>\n",
       "      <td>recent evidence demonstrated acquired uniparen...</td>\n",
       "      <td>CBL P417A recent evidence demonstrated acquire...</td>\n",
       "      <td>28103</td>\n",
       "      <td>CBL P417A</td>\n",
       "    </tr>\n",
       "    <tr>\n",
       "      <th>25</th>\n",
       "      <td>25</td>\n",
       "      <td>CBL</td>\n",
       "      <td>H398Y</td>\n",
       "      <td>4</td>\n",
       "      <td>recent evidence demonstrated acquired uniparen...</td>\n",
       "      <td>CBL H398Y recent evidence demonstrated acquire...</td>\n",
       "      <td>28103</td>\n",
       "      <td>CBL H398Y</td>\n",
       "    </tr>\n",
       "    <tr>\n",
       "      <th>26</th>\n",
       "      <td>26</td>\n",
       "      <td>SHOC2</td>\n",
       "      <td>S2G</td>\n",
       "      <td>4</td>\n",
       "      <td>abstract n myristoylation common form co trans...</td>\n",
       "      <td>SHOC2 S2G abstract n myristoylation common for...</td>\n",
       "      <td>35970</td>\n",
       "      <td>SHOC2 S2G</td>\n",
       "    </tr>\n",
       "    <tr>\n",
       "      <th>27</th>\n",
       "      <td>27</td>\n",
       "      <td>TERT</td>\n",
       "      <td>Y846C</td>\n",
       "      <td>4</td>\n",
       "      <td>heterozygous mutations telomerase components t...</td>\n",
       "      <td>TERT Y846C heterozygous mutations telomerase c...</td>\n",
       "      <td>7195</td>\n",
       "      <td>TERT Y846C</td>\n",
       "    </tr>\n",
       "    <tr>\n",
       "      <th>28</th>\n",
       "      <td>28</td>\n",
       "      <td>TERT</td>\n",
       "      <td>C228T</td>\n",
       "      <td>7</td>\n",
       "      <td>sequencing studies identified many recurrent c...</td>\n",
       "      <td>TERT C228T sequencing studies identified many ...</td>\n",
       "      <td>70407</td>\n",
       "      <td>TERT C228T</td>\n",
       "    </tr>\n",
       "    <tr>\n",
       "      <th>29</th>\n",
       "      <td>29</td>\n",
       "      <td>TERT</td>\n",
       "      <td>H412Y</td>\n",
       "      <td>4</td>\n",
       "      <td>heterozygous mutations telomerase components t...</td>\n",
       "      <td>TERT H412Y heterozygous mutations telomerase c...</td>\n",
       "      <td>7195</td>\n",
       "      <td>TERT H412Y</td>\n",
       "    </tr>\n",
       "    <tr>\n",
       "      <th>...</th>\n",
       "      <td>...</td>\n",
       "      <td>...</td>\n",
       "      <td>...</td>\n",
       "      <td>...</td>\n",
       "      <td>...</td>\n",
       "      <td>...</td>\n",
       "      <td>...</td>\n",
       "      <td>...</td>\n",
       "    </tr>\n",
       "    <tr>\n",
       "      <th>3291</th>\n",
       "      <td>3291</td>\n",
       "      <td>RET</td>\n",
       "      <td>C620R</td>\n",
       "      <td>7</td>\n",
       "      <td>investigatedthe transformingactivityofthe ret ...</td>\n",
       "      <td>RET C620R investigatedthe transformingactivity...</td>\n",
       "      <td>9272</td>\n",
       "      <td>RET C620R</td>\n",
       "    </tr>\n",
       "    <tr>\n",
       "      <th>3292</th>\n",
       "      <td>3292</td>\n",
       "      <td>RET</td>\n",
       "      <td>C634Y</td>\n",
       "      <td>7</td>\n",
       "      <td>investigatedthe transformingactivityofthe ret ...</td>\n",
       "      <td>RET C634Y investigatedthe transformingactivity...</td>\n",
       "      <td>9272</td>\n",
       "      <td>RET C634Y</td>\n",
       "    </tr>\n",
       "    <tr>\n",
       "      <th>3293</th>\n",
       "      <td>3293</td>\n",
       "      <td>RET</td>\n",
       "      <td>V804G</td>\n",
       "      <td>1</td>\n",
       "      <td>ret transmembrane tyrosine kinase participatin...</td>\n",
       "      <td>RET V804G ret transmembrane tyrosine kinase pa...</td>\n",
       "      <td>20417</td>\n",
       "      <td>RET V804G</td>\n",
       "    </tr>\n",
       "    <tr>\n",
       "      <th>3294</th>\n",
       "      <td>3294</td>\n",
       "      <td>RET</td>\n",
       "      <td>R886W</td>\n",
       "      <td>7</td>\n",
       "      <td>introduction inherited germ line activating mu...</td>\n",
       "      <td>RET R886W introduction inherited germ line act...</td>\n",
       "      <td>27541</td>\n",
       "      <td>RET R886W</td>\n",
       "    </tr>\n",
       "    <tr>\n",
       "      <th>3295</th>\n",
       "      <td>3295</td>\n",
       "      <td>RET</td>\n",
       "      <td>F893L</td>\n",
       "      <td>4</td>\n",
       "      <td>many missense mutations ret proto oncogene fou...</td>\n",
       "      <td>RET F893L many missense mutations ret proto on...</td>\n",
       "      <td>25419</td>\n",
       "      <td>RET F893L</td>\n",
       "    </tr>\n",
       "    <tr>\n",
       "      <th>3296</th>\n",
       "      <td>3296</td>\n",
       "      <td>RET</td>\n",
       "      <td>Y791F</td>\n",
       "      <td>7</td>\n",
       "      <td>ret proto oncogene encodes receptor tyrosine k...</td>\n",
       "      <td>RET Y791F ret proto oncogene encodes receptor ...</td>\n",
       "      <td>94390</td>\n",
       "      <td>RET Y791F</td>\n",
       "    </tr>\n",
       "    <tr>\n",
       "      <th>3297</th>\n",
       "      <td>3297</td>\n",
       "      <td>RUNX1</td>\n",
       "      <td>R177*</td>\n",
       "      <td>4</td>\n",
       "      <td>aml1 gene known frequent target chromosomal tr...</td>\n",
       "      <td>RUNX1 R177* aml1 gene known frequent target ch...</td>\n",
       "      <td>79378</td>\n",
       "      <td>RUNX1 R177*</td>\n",
       "    </tr>\n",
       "    <tr>\n",
       "      <th>3298</th>\n",
       "      <td>3298</td>\n",
       "      <td>RUNX1</td>\n",
       "      <td>Y113*</td>\n",
       "      <td>4</td>\n",
       "      <td>introduction myelodysplastic syndromes mds het...</td>\n",
       "      <td>RUNX1 Y113* introduction myelodysplastic syndr...</td>\n",
       "      <td>30812</td>\n",
       "      <td>RUNX1 Y113*</td>\n",
       "    </tr>\n",
       "    <tr>\n",
       "      <th>3299</th>\n",
       "      <td>3299</td>\n",
       "      <td>RUNX1</td>\n",
       "      <td>R139G</td>\n",
       "      <td>4</td>\n",
       "      <td>bcr abl fusion protein generated 9 22 q34 q11 ...</td>\n",
       "      <td>RUNX1 R139G bcr abl fusion protein generated 9...</td>\n",
       "      <td>34092</td>\n",
       "      <td>RUNX1 R139G</td>\n",
       "    </tr>\n",
       "    <tr>\n",
       "      <th>3300</th>\n",
       "      <td>3300</td>\n",
       "      <td>RUNX1</td>\n",
       "      <td>K83N</td>\n",
       "      <td>4</td>\n",
       "      <td>frequent mutations associated leukemia recurre...</td>\n",
       "      <td>RUNX1 K83N frequent mutations associated leuke...</td>\n",
       "      <td>52593</td>\n",
       "      <td>RUNX1 K83N</td>\n",
       "    </tr>\n",
       "    <tr>\n",
       "      <th>3301</th>\n",
       "      <td>3301</td>\n",
       "      <td>RUNX1</td>\n",
       "      <td>R177Q</td>\n",
       "      <td>4</td>\n",
       "      <td>frequent mutations associated leukemia recurre...</td>\n",
       "      <td>RUNX1 R177Q frequent mutations associated leuk...</td>\n",
       "      <td>57990</td>\n",
       "      <td>RUNX1 R177Q</td>\n",
       "    </tr>\n",
       "    <tr>\n",
       "      <th>3302</th>\n",
       "      <td>3302</td>\n",
       "      <td>RUNX1</td>\n",
       "      <td>R166Q</td>\n",
       "      <td>4</td>\n",
       "      <td>familial platelet disorder predisposition acut...</td>\n",
       "      <td>RUNX1 R166Q familial platelet disorder predisp...</td>\n",
       "      <td>30086</td>\n",
       "      <td>RUNX1 R166Q</td>\n",
       "    </tr>\n",
       "    <tr>\n",
       "      <th>3303</th>\n",
       "      <td>3303</td>\n",
       "      <td>RUNX1</td>\n",
       "      <td>P173S</td>\n",
       "      <td>4</td>\n",
       "      <td>introduction myelodysplastic syndromes mds het...</td>\n",
       "      <td>RUNX1 P173S introduction myelodysplastic syndr...</td>\n",
       "      <td>30812</td>\n",
       "      <td>RUNX1 P173S</td>\n",
       "    </tr>\n",
       "    <tr>\n",
       "      <th>3304</th>\n",
       "      <td>3304</td>\n",
       "      <td>RUNX1</td>\n",
       "      <td>R201Q</td>\n",
       "      <td>4</td>\n",
       "      <td>familial platelet disorder predisposition acut...</td>\n",
       "      <td>RUNX1 R201Q familial platelet disorder predisp...</td>\n",
       "      <td>30086</td>\n",
       "      <td>RUNX1 R201Q</td>\n",
       "    </tr>\n",
       "    <tr>\n",
       "      <th>3305</th>\n",
       "      <td>3305</td>\n",
       "      <td>RUNX1</td>\n",
       "      <td>S70fsX93</td>\n",
       "      <td>4</td>\n",
       "      <td>introduction myelodysplastic syndromes mds het...</td>\n",
       "      <td>RUNX1 S70fsX93 introduction myelodysplastic sy...</td>\n",
       "      <td>30815</td>\n",
       "      <td>RUNX1 S70fsX93</td>\n",
       "    </tr>\n",
       "    <tr>\n",
       "      <th>3306</th>\n",
       "      <td>3306</td>\n",
       "      <td>RUNX1</td>\n",
       "      <td>W279*</td>\n",
       "      <td>1</td>\n",
       "      <td>report two new runx1 mutations one patient con...</td>\n",
       "      <td>RUNX1 W279* report two new runx1 mutations one...</td>\n",
       "      <td>9334</td>\n",
       "      <td>RUNX1 W279*</td>\n",
       "    </tr>\n",
       "    <tr>\n",
       "      <th>3307</th>\n",
       "      <td>3307</td>\n",
       "      <td>RUNX1</td>\n",
       "      <td>Truncating Mutations</td>\n",
       "      <td>1</td>\n",
       "      <td>runx genes come prominence recently roles esse...</td>\n",
       "      <td>RUNX1 Truncating Mutations runx genes come pro...</td>\n",
       "      <td>76180</td>\n",
       "      <td>RUNX1 Truncating Mutations</td>\n",
       "    </tr>\n",
       "    <tr>\n",
       "      <th>3308</th>\n",
       "      <td>3308</td>\n",
       "      <td>RUNX1</td>\n",
       "      <td>R174*</td>\n",
       "      <td>7</td>\n",
       "      <td>familial platelet disorder propensity acute my...</td>\n",
       "      <td>RUNX1 R174* familial platelet disorder propens...</td>\n",
       "      <td>31934</td>\n",
       "      <td>RUNX1 R174*</td>\n",
       "    </tr>\n",
       "    <tr>\n",
       "      <th>3309</th>\n",
       "      <td>3309</td>\n",
       "      <td>RUNX1</td>\n",
       "      <td>D171G</td>\n",
       "      <td>1</td>\n",
       "      <td>bcr abl fusion protein generated 9 22 q34 q11 ...</td>\n",
       "      <td>RUNX1 D171G bcr abl fusion protein generated 9...</td>\n",
       "      <td>34092</td>\n",
       "      <td>RUNX1 D171G</td>\n",
       "    </tr>\n",
       "    <tr>\n",
       "      <th>3310</th>\n",
       "      <td>3310</td>\n",
       "      <td>RUNX1</td>\n",
       "      <td>Amplification</td>\n",
       "      <td>7</td>\n",
       "      <td>runx proteins belong family metazoan transcrip...</td>\n",
       "      <td>RUNX1 Amplification runx proteins belong famil...</td>\n",
       "      <td>53237</td>\n",
       "      <td>RUNX1 Amplification</td>\n",
       "    </tr>\n",
       "    <tr>\n",
       "      <th>3311</th>\n",
       "      <td>3311</td>\n",
       "      <td>RUNX1</td>\n",
       "      <td>RUNX1-EVI1 Fusion</td>\n",
       "      <td>4</td>\n",
       "      <td>aml1 evi 1 chimeric gene generated 3 21 q26 q2...</td>\n",
       "      <td>RUNX1 RUNX1-EVI1 Fusion aml1 evi 1 chimeric ge...</td>\n",
       "      <td>44820</td>\n",
       "      <td>RUNX1 RUNX1-EVI1 Fusion</td>\n",
       "    </tr>\n",
       "    <tr>\n",
       "      <th>3312</th>\n",
       "      <td>3312</td>\n",
       "      <td>RUNX1</td>\n",
       "      <td>TEL-RUNX1 Fusion</td>\n",
       "      <td>4</td>\n",
       "      <td>balanced chromosomal translocations frequently...</td>\n",
       "      <td>RUNX1 TEL-RUNX1 Fusion balanced chromosomal tr...</td>\n",
       "      <td>25932</td>\n",
       "      <td>RUNX1 TEL-RUNX1 Fusion</td>\n",
       "    </tr>\n",
       "    <tr>\n",
       "      <th>3313</th>\n",
       "      <td>3313</td>\n",
       "      <td>RUNX1</td>\n",
       "      <td>H78Q</td>\n",
       "      <td>4</td>\n",
       "      <td>bcr abl fusion protein generated 9 22 q34 q11 ...</td>\n",
       "      <td>RUNX1 H78Q bcr abl fusion protein generated 9 ...</td>\n",
       "      <td>34091</td>\n",
       "      <td>RUNX1 H78Q</td>\n",
       "    </tr>\n",
       "    <tr>\n",
       "      <th>3314</th>\n",
       "      <td>3314</td>\n",
       "      <td>RUNX1</td>\n",
       "      <td>G42R</td>\n",
       "      <td>6</td>\n",
       "      <td>introduction myelodysplastic syndromes mds het...</td>\n",
       "      <td>RUNX1 G42R introduction myelodysplastic syndro...</td>\n",
       "      <td>72674</td>\n",
       "      <td>RUNX1 G42R</td>\n",
       "    </tr>\n",
       "    <tr>\n",
       "      <th>3315</th>\n",
       "      <td>3315</td>\n",
       "      <td>RUNX1</td>\n",
       "      <td>RUNX1-RUNX1T1 Fusion</td>\n",
       "      <td>4</td>\n",
       "      <td>runx gene family includes three evolutionarily...</td>\n",
       "      <td>RUNX1 RUNX1-RUNX1T1 Fusion runx gene family in...</td>\n",
       "      <td>62371</td>\n",
       "      <td>RUNX1 RUNX1-RUNX1T1 Fusion</td>\n",
       "    </tr>\n",
       "    <tr>\n",
       "      <th>3316</th>\n",
       "      <td>3316</td>\n",
       "      <td>RUNX1</td>\n",
       "      <td>D171N</td>\n",
       "      <td>4</td>\n",
       "      <td>introduction myelodysplastic syndromes mds het...</td>\n",
       "      <td>RUNX1 D171N introduction myelodysplastic syndr...</td>\n",
       "      <td>57229</td>\n",
       "      <td>RUNX1 D171N</td>\n",
       "    </tr>\n",
       "    <tr>\n",
       "      <th>3317</th>\n",
       "      <td>3317</td>\n",
       "      <td>RUNX1</td>\n",
       "      <td>A122*</td>\n",
       "      <td>1</td>\n",
       "      <td>introduction myelodysplastic syndromes mds het...</td>\n",
       "      <td>RUNX1 A122* introduction myelodysplastic syndr...</td>\n",
       "      <td>30812</td>\n",
       "      <td>RUNX1 A122*</td>\n",
       "    </tr>\n",
       "    <tr>\n",
       "      <th>3318</th>\n",
       "      <td>3318</td>\n",
       "      <td>RUNX1</td>\n",
       "      <td>Fusions</td>\n",
       "      <td>1</td>\n",
       "      <td>runt related transcription factor 1 gene runx1...</td>\n",
       "      <td>RUNX1 Fusions runt related transcription facto...</td>\n",
       "      <td>28094</td>\n",
       "      <td>RUNX1 Fusions</td>\n",
       "    </tr>\n",
       "    <tr>\n",
       "      <th>3319</th>\n",
       "      <td>3319</td>\n",
       "      <td>RUNX1</td>\n",
       "      <td>R80C</td>\n",
       "      <td>4</td>\n",
       "      <td>runx1 aml1 gene frequent target chromosomal tr...</td>\n",
       "      <td>RUNX1 R80C runx1 aml1 gene frequent target chr...</td>\n",
       "      <td>25415</td>\n",
       "      <td>RUNX1 R80C</td>\n",
       "    </tr>\n",
       "    <tr>\n",
       "      <th>3320</th>\n",
       "      <td>3320</td>\n",
       "      <td>RUNX1</td>\n",
       "      <td>K83E</td>\n",
       "      <td>4</td>\n",
       "      <td>frequent mutations associated leukemia recurre...</td>\n",
       "      <td>RUNX1 K83E frequent mutations associated leuke...</td>\n",
       "      <td>52593</td>\n",
       "      <td>RUNX1 K83E</td>\n",
       "    </tr>\n",
       "  </tbody>\n",
       "</table>\n",
       "<p>3321 rows × 8 columns</p>\n",
       "</div>"
      ],
      "text/plain": [
       "        ID    Gene             Variation  Class  \\\n",
       "0        0  FAM58A  Truncating Mutations      1   \n",
       "1        1     CBL                 W802*      2   \n",
       "2        2     CBL                 Q249E      2   \n",
       "3        3     CBL                 N454D      3   \n",
       "4        4     CBL                 L399V      4   \n",
       "5        5     CBL                 V391I      4   \n",
       "6        6     CBL                 V430M      5   \n",
       "7        7     CBL              Deletion      1   \n",
       "8        8     CBL                 Y371H      4   \n",
       "9        9     CBL                 C384R      4   \n",
       "10      10     CBL                 P395A      4   \n",
       "11      11     CBL                 K382E      4   \n",
       "12      12     CBL                 R420Q      4   \n",
       "13      13     CBL                 C381A      4   \n",
       "14      14     CBL                 P428L      5   \n",
       "15      15     CBL                 D390Y      4   \n",
       "16      16     CBL  Truncating Mutations      1   \n",
       "17      17     CBL                 Q367P      4   \n",
       "18      18     CBL                 M374V      5   \n",
       "19      19     CBL                 Y371S      4   \n",
       "20      20     CBL                  H94Y      6   \n",
       "21      21     CBL                 C396R      4   \n",
       "22      22     CBL                 G375P      4   \n",
       "23      23     CBL                 S376F      4   \n",
       "24      24     CBL                 P417A      4   \n",
       "25      25     CBL                 H398Y      4   \n",
       "26      26   SHOC2                   S2G      4   \n",
       "27      27    TERT                 Y846C      4   \n",
       "28      28    TERT                 C228T      7   \n",
       "29      29    TERT                 H412Y      4   \n",
       "...    ...     ...                   ...    ...   \n",
       "3291  3291     RET                 C620R      7   \n",
       "3292  3292     RET                 C634Y      7   \n",
       "3293  3293     RET                 V804G      1   \n",
       "3294  3294     RET                 R886W      7   \n",
       "3295  3295     RET                 F893L      4   \n",
       "3296  3296     RET                 Y791F      7   \n",
       "3297  3297   RUNX1                 R177*      4   \n",
       "3298  3298   RUNX1                 Y113*      4   \n",
       "3299  3299   RUNX1                 R139G      4   \n",
       "3300  3300   RUNX1                  K83N      4   \n",
       "3301  3301   RUNX1                 R177Q      4   \n",
       "3302  3302   RUNX1                 R166Q      4   \n",
       "3303  3303   RUNX1                 P173S      4   \n",
       "3304  3304   RUNX1                 R201Q      4   \n",
       "3305  3305   RUNX1              S70fsX93      4   \n",
       "3306  3306   RUNX1                 W279*      1   \n",
       "3307  3307   RUNX1  Truncating Mutations      1   \n",
       "3308  3308   RUNX1                 R174*      7   \n",
       "3309  3309   RUNX1                 D171G      1   \n",
       "3310  3310   RUNX1         Amplification      7   \n",
       "3311  3311   RUNX1     RUNX1-EVI1 Fusion      4   \n",
       "3312  3312   RUNX1      TEL-RUNX1 Fusion      4   \n",
       "3313  3313   RUNX1                  H78Q      4   \n",
       "3314  3314   RUNX1                  G42R      6   \n",
       "3315  3315   RUNX1  RUNX1-RUNX1T1 Fusion      4   \n",
       "3316  3316   RUNX1                 D171N      4   \n",
       "3317  3317   RUNX1                 A122*      1   \n",
       "3318  3318   RUNX1               Fusions      1   \n",
       "3319  3319   RUNX1                  R80C      4   \n",
       "3320  3320   RUNX1                  K83E      4   \n",
       "\n",
       "                                                   TEXT  \\\n",
       "0     cyclin dependent kinases cdks regulate variety...   \n",
       "1     abstract background non small cell lung cancer...   \n",
       "2     abstract background non small cell lung cancer...   \n",
       "3     recent evidence demonstrated acquired uniparen...   \n",
       "4     oncogenic mutations monomeric casitas b lineag...   \n",
       "5     oncogenic mutations monomeric casitas b lineag...   \n",
       "6     oncogenic mutations monomeric casitas b lineag...   \n",
       "7     cbl negative regulator activated receptor tyro...   \n",
       "8     abstract juvenile myelomonocytic leukemia jmml...   \n",
       "9     abstract juvenile myelomonocytic leukemia jmml...   \n",
       "10    oncogenic mutations monomeric casitas b lineag...   \n",
       "11    noonan syndrome autosomal dominant congenital ...   \n",
       "12    noonan syndrome autosomal dominant congenital ...   \n",
       "13    noonan syndrome autosomal dominant congenital ...   \n",
       "14    oncogenic mutations monomeric casitas b lineag...   \n",
       "15    noonan syndrome autosomal dominant congenital ...   \n",
       "16    determine residual cylindrical refractive erro...   \n",
       "17    acquired uniparental disomy aupd common featur...   \n",
       "18    oncogenic mutations monomeric casitas b lineag...   \n",
       "19    acquired uniparental disomy aupd common featur...   \n",
       "20    abstract background non small cell lung cancer...   \n",
       "21    oncogenic mutations monomeric casitas b lineag...   \n",
       "22    oncogenic mutations monomeric casitas b lineag...   \n",
       "23    recent evidence demonstrated acquired uniparen...   \n",
       "24    recent evidence demonstrated acquired uniparen...   \n",
       "25    recent evidence demonstrated acquired uniparen...   \n",
       "26    abstract n myristoylation common form co trans...   \n",
       "27    heterozygous mutations telomerase components t...   \n",
       "28    sequencing studies identified many recurrent c...   \n",
       "29    heterozygous mutations telomerase components t...   \n",
       "...                                                 ...   \n",
       "3291  investigatedthe transformingactivityofthe ret ...   \n",
       "3292  investigatedthe transformingactivityofthe ret ...   \n",
       "3293  ret transmembrane tyrosine kinase participatin...   \n",
       "3294  introduction inherited germ line activating mu...   \n",
       "3295  many missense mutations ret proto oncogene fou...   \n",
       "3296  ret proto oncogene encodes receptor tyrosine k...   \n",
       "3297  aml1 gene known frequent target chromosomal tr...   \n",
       "3298  introduction myelodysplastic syndromes mds het...   \n",
       "3299  bcr abl fusion protein generated 9 22 q34 q11 ...   \n",
       "3300  frequent mutations associated leukemia recurre...   \n",
       "3301  frequent mutations associated leukemia recurre...   \n",
       "3302  familial platelet disorder predisposition acut...   \n",
       "3303  introduction myelodysplastic syndromes mds het...   \n",
       "3304  familial platelet disorder predisposition acut...   \n",
       "3305  introduction myelodysplastic syndromes mds het...   \n",
       "3306  report two new runx1 mutations one patient con...   \n",
       "3307  runx genes come prominence recently roles esse...   \n",
       "3308  familial platelet disorder propensity acute my...   \n",
       "3309  bcr abl fusion protein generated 9 22 q34 q11 ...   \n",
       "3310  runx proteins belong family metazoan transcrip...   \n",
       "3311  aml1 evi 1 chimeric gene generated 3 21 q26 q2...   \n",
       "3312  balanced chromosomal translocations frequently...   \n",
       "3313  bcr abl fusion protein generated 9 22 q34 q11 ...   \n",
       "3314  introduction myelodysplastic syndromes mds het...   \n",
       "3315  runx gene family includes three evolutionarily...   \n",
       "3316  introduction myelodysplastic syndromes mds het...   \n",
       "3317  introduction myelodysplastic syndromes mds het...   \n",
       "3318  runt related transcription factor 1 gene runx1...   \n",
       "3319  runx1 aml1 gene frequent target chromosomal tr...   \n",
       "3320  frequent mutations associated leukemia recurre...   \n",
       "\n",
       "                                    Gene_Variation_Text     LEN  \\\n",
       "0     FAM58A Truncating Mutations cyclin dependent k...   30864   \n",
       "1     CBL W802* abstract background non small cell l...   27854   \n",
       "2     CBL Q249E abstract background non small cell l...   27854   \n",
       "3     CBL N454D recent evidence demonstrated acquire...   28103   \n",
       "4     CBL L399V oncogenic mutations monomeric casita...   31659   \n",
       "5     CBL V391I oncogenic mutations monomeric casita...   31659   \n",
       "6     CBL V430M oncogenic mutations monomeric casita...   31659   \n",
       "7     CBL Deletion cbl negative regulator activated ...   78244   \n",
       "8     CBL Y371H abstract juvenile myelomonocytic leu...   62184   \n",
       "9     CBL C384R abstract juvenile myelomonocytic leu...   30535   \n",
       "10    CBL P395A oncogenic mutations monomeric casita...   31659   \n",
       "11    CBL K382E noonan syndrome autosomal dominant c...   65905   \n",
       "12    CBL R420Q noonan syndrome autosomal dominant c...  137066   \n",
       "13    CBL C381A noonan syndrome autosomal dominant c...   65905   \n",
       "14    CBL P428L oncogenic mutations monomeric casita...   31659   \n",
       "15    CBL D390Y noonan syndrome autosomal dominant c...   34256   \n",
       "16    CBL Truncating Mutations determine residual cy...   42599   \n",
       "17    CBL Q367P acquired uniparental disomy aupd com...   16303   \n",
       "18    CBL M374V oncogenic mutations monomeric casita...   31659   \n",
       "19    CBL Y371S acquired uniparental disomy aupd com...   16303   \n",
       "20    CBL H94Y abstract background non small cell lu...   59502   \n",
       "21    CBL C396R oncogenic mutations monomeric casita...   31659   \n",
       "22    CBL G375P oncogenic mutations monomeric casita...   31659   \n",
       "23    CBL S376F recent evidence demonstrated acquire...   28103   \n",
       "24    CBL P417A recent evidence demonstrated acquire...   28103   \n",
       "25    CBL H398Y recent evidence demonstrated acquire...   28103   \n",
       "26    SHOC2 S2G abstract n myristoylation common for...   35970   \n",
       "27    TERT Y846C heterozygous mutations telomerase c...    7195   \n",
       "28    TERT C228T sequencing studies identified many ...   70407   \n",
       "29    TERT H412Y heterozygous mutations telomerase c...    7195   \n",
       "...                                                 ...     ...   \n",
       "3291  RET C620R investigatedthe transformingactivity...    9272   \n",
       "3292  RET C634Y investigatedthe transformingactivity...    9272   \n",
       "3293  RET V804G ret transmembrane tyrosine kinase pa...   20417   \n",
       "3294  RET R886W introduction inherited germ line act...   27541   \n",
       "3295  RET F893L many missense mutations ret proto on...   25419   \n",
       "3296  RET Y791F ret proto oncogene encodes receptor ...   94390   \n",
       "3297  RUNX1 R177* aml1 gene known frequent target ch...   79378   \n",
       "3298  RUNX1 Y113* introduction myelodysplastic syndr...   30812   \n",
       "3299  RUNX1 R139G bcr abl fusion protein generated 9...   34092   \n",
       "3300  RUNX1 K83N frequent mutations associated leuke...   52593   \n",
       "3301  RUNX1 R177Q frequent mutations associated leuk...   57990   \n",
       "3302  RUNX1 R166Q familial platelet disorder predisp...   30086   \n",
       "3303  RUNX1 P173S introduction myelodysplastic syndr...   30812   \n",
       "3304  RUNX1 R201Q familial platelet disorder predisp...   30086   \n",
       "3305  RUNX1 S70fsX93 introduction myelodysplastic sy...   30815   \n",
       "3306  RUNX1 W279* report two new runx1 mutations one...    9334   \n",
       "3307  RUNX1 Truncating Mutations runx genes come pro...   76180   \n",
       "3308  RUNX1 R174* familial platelet disorder propens...   31934   \n",
       "3309  RUNX1 D171G bcr abl fusion protein generated 9...   34092   \n",
       "3310  RUNX1 Amplification runx proteins belong famil...   53237   \n",
       "3311  RUNX1 RUNX1-EVI1 Fusion aml1 evi 1 chimeric ge...   44820   \n",
       "3312  RUNX1 TEL-RUNX1 Fusion balanced chromosomal tr...   25932   \n",
       "3313  RUNX1 H78Q bcr abl fusion protein generated 9 ...   34091   \n",
       "3314  RUNX1 G42R introduction myelodysplastic syndro...   72674   \n",
       "3315  RUNX1 RUNX1-RUNX1T1 Fusion runx gene family in...   62371   \n",
       "3316  RUNX1 D171N introduction myelodysplastic syndr...   57229   \n",
       "3317  RUNX1 A122* introduction myelodysplastic syndr...   30812   \n",
       "3318  RUNX1 Fusions runt related transcription facto...   28094   \n",
       "3319  RUNX1 R80C runx1 aml1 gene frequent target chr...   25415   \n",
       "3320  RUNX1 K83E frequent mutations associated leuke...   52593   \n",
       "\n",
       "                   Gene_Variation  \n",
       "0     FAM58A Truncating Mutations  \n",
       "1                       CBL W802*  \n",
       "2                       CBL Q249E  \n",
       "3                       CBL N454D  \n",
       "4                       CBL L399V  \n",
       "5                       CBL V391I  \n",
       "6                       CBL V430M  \n",
       "7                    CBL Deletion  \n",
       "8                       CBL Y371H  \n",
       "9                       CBL C384R  \n",
       "10                      CBL P395A  \n",
       "11                      CBL K382E  \n",
       "12                      CBL R420Q  \n",
       "13                      CBL C381A  \n",
       "14                      CBL P428L  \n",
       "15                      CBL D390Y  \n",
       "16       CBL Truncating Mutations  \n",
       "17                      CBL Q367P  \n",
       "18                      CBL M374V  \n",
       "19                      CBL Y371S  \n",
       "20                       CBL H94Y  \n",
       "21                      CBL C396R  \n",
       "22                      CBL G375P  \n",
       "23                      CBL S376F  \n",
       "24                      CBL P417A  \n",
       "25                      CBL H398Y  \n",
       "26                      SHOC2 S2G  \n",
       "27                     TERT Y846C  \n",
       "28                     TERT C228T  \n",
       "29                     TERT H412Y  \n",
       "...                           ...  \n",
       "3291                    RET C620R  \n",
       "3292                    RET C634Y  \n",
       "3293                    RET V804G  \n",
       "3294                    RET R886W  \n",
       "3295                    RET F893L  \n",
       "3296                    RET Y791F  \n",
       "3297                  RUNX1 R177*  \n",
       "3298                  RUNX1 Y113*  \n",
       "3299                  RUNX1 R139G  \n",
       "3300                   RUNX1 K83N  \n",
       "3301                  RUNX1 R177Q  \n",
       "3302                  RUNX1 R166Q  \n",
       "3303                  RUNX1 P173S  \n",
       "3304                  RUNX1 R201Q  \n",
       "3305               RUNX1 S70fsX93  \n",
       "3306                  RUNX1 W279*  \n",
       "3307   RUNX1 Truncating Mutations  \n",
       "3308                  RUNX1 R174*  \n",
       "3309                  RUNX1 D171G  \n",
       "3310          RUNX1 Amplification  \n",
       "3311      RUNX1 RUNX1-EVI1 Fusion  \n",
       "3312       RUNX1 TEL-RUNX1 Fusion  \n",
       "3313                   RUNX1 H78Q  \n",
       "3314                   RUNX1 G42R  \n",
       "3315   RUNX1 RUNX1-RUNX1T1 Fusion  \n",
       "3316                  RUNX1 D171N  \n",
       "3317                  RUNX1 A122*  \n",
       "3318                RUNX1 Fusions  \n",
       "3319                   RUNX1 R80C  \n",
       "3320                   RUNX1 K83E  \n",
       "\n",
       "[3321 rows x 8 columns]"
      ]
     },
     "execution_count": 16,
     "metadata": {},
     "output_type": "execute_result"
    }
   ],
   "source": [
    "result"
   ]
  },
  {
   "cell_type": "code",
   "execution_count": 18,
   "metadata": {
    "colab": {},
    "colab_type": "code",
    "collapsed": true,
    "id": "co1v4XZ7OQvU"
   },
   "outputs": [],
   "source": [
    "result.loc[result['TEXT'].isnull(),'TEXT'] = result['Gene'] +' '+result['Variation']"
   ]
  },
  {
   "cell_type": "markdown",
   "metadata": {
    "colab_type": "text",
    "id": "4ha0M1aOOQvg"
   },
   "source": [
    "<h3>3.1.4. Test, Train and Cross Validation Split</h3>"
   ]
  },
  {
   "cell_type": "markdown",
   "metadata": {
    "colab_type": "text",
    "id": "Mb_GBIh1OQvi"
   },
   "source": [
    "<h4>3.1.4.1. Splitting data into train, test and cross validation (64:20:16)</h4>"
   ]
  },
  {
   "cell_type": "code",
   "execution_count": 19,
   "metadata": {
    "colab": {},
    "colab_type": "code",
    "collapsed": true,
    "id": "ijj-MmMwOQvk"
   },
   "outputs": [],
   "source": [
    "y_true = result['Class'].values\n",
    "result.Gene      = result.Gene.str.replace('\\s+', '_')\n",
    "result.Variation = result.Variation.str.replace('\\s+', '_')\n",
    "\n",
    "# split the data into test and train by maintaining same distribution of output varaible 'y_true' [stratify=y_true]\n",
    "X_train, test_df, y_train, y_test = train_test_split(result, y_true, stratify=y_true, test_size=0.2)\n",
    "# split the train data into train and cross validation by maintaining same distribution of output varaible 'y_train' [stratify=y_train]\n",
    "train_df, cv_df, y_train, y_cv = train_test_split(X_train, y_train, stratify=y_train, test_size=0.2)"
   ]
  },
  {
   "cell_type": "markdown",
   "metadata": {
    "colab_type": "text",
    "id": "oWPLX4M9OQvo"
   },
   "source": [
    "<p> We split the data into train, test and cross validation data sets, preserving the ratio of class distribution in the original data set  </p>"
   ]
  },
  {
   "cell_type": "code",
   "execution_count": 20,
   "metadata": {
    "colab": {},
    "colab_type": "code",
    "id": "wbzQMYZWOQvp",
    "outputId": "3a3df35e-bcfe-4a63-a3fd-e269d6d382e5"
   },
   "outputs": [
    {
     "name": "stdout",
     "output_type": "stream",
     "text": [
      "Number of data points in train data: 2124\n",
      "Number of data points in test data: 665\n",
      "Number of data points in cross validation data: 532\n"
     ]
    }
   ],
   "source": [
    "print('Number of data points in train data:', train_df.shape[0])\n",
    "print('Number of data points in test data:', test_df.shape[0])\n",
    "print('Number of data points in cross validation data:', cv_df.shape[0])"
   ]
  },
  {
   "cell_type": "markdown",
   "metadata": {
    "colab_type": "text",
    "id": "NQeo-HuDOQvs"
   },
   "source": [
    "<h4>3.1.4.2. Distribution of y_i's in Train, Test and Cross Validation datasets</h4>"
   ]
  },
  {
   "cell_type": "code",
   "execution_count": 21,
   "metadata": {
    "colab": {},
    "colab_type": "code",
    "id": "KC3KErJmOQvt",
    "outputId": "126ce930-39bc-4512-ae32-5c2928b2730b",
    "scrolled": false
   },
   "outputs": [
    {
     "data": {
      "image/png": "[encoded data removed]",
      "text/plain": [
       "<matplotlib.figure.Figure at 0xc378bf0>"
      ]
     },
     "metadata": {},
     "output_type": "display_data"
    },
    {
     "name": "stdout",
     "output_type": "stream",
     "text": [
      "Number of data points in class 7 : 609 ( 28.672 %)\n",
      "Number of data points in class 4 : 439 ( 20.669 %)\n",
      "Number of data points in class 1 : 363 ( 17.09 %)\n",
      "Number of data points in class 2 : 289 ( 13.606 %)\n",
      "Number of data points in class 6 : 176 ( 8.286 %)\n",
      "Number of data points in class 5 : 155 ( 7.298 %)\n",
      "Number of data points in class 3 : 57 ( 2.684 %)\n",
      "Number of data points in class 9 : 24 ( 1.13 %)\n",
      "Number of data points in class 8 : 12 ( 0.565 %)\n",
      "--------------------------------------------------------------------------------\n"
     ]
    },
    {
     "data": {
      "image/png": "[encoded data removed]",
      "text/plain": [
       "<matplotlib.figure.Figure at 0x1b4fbd0>"
      ]
     },
     "metadata": {},
     "output_type": "display_data"
    },
    {
     "name": "stdout",
     "output_type": "stream",
     "text": [
      "Number of data points in class 7 : 191 ( 28.722 %)\n",
      "Number of data points in class 4 : 137 ( 20.602 %)\n",
      "Number of data points in class 1 : 114 ( 17.143 %)\n",
      "Number of data points in class 2 : 91 ( 13.684 %)\n",
      "Number of data points in class 6 : 55 ( 8.271 %)\n",
      "Number of data points in class 5 : 48 ( 7.218 %)\n",
      "Number of data points in class 3 : 18 ( 2.707 %)\n",
      "Number of data points in class 9 : 7 ( 1.053 %)\n",
      "Number of data points in class 8 : 4 ( 0.602 %)\n",
      "--------------------------------------------------------------------------------\n"
     ]
    },
    {
     "data": {
      "image/png": "[encoded data removed]",
      "text/plain": [
       "<matplotlib.figure.Figure at 0x1baa570>"
      ]
     },
     "metadata": {},
     "output_type": "display_data"
    },
    {
     "name": "stdout",
     "output_type": "stream",
     "text": [
      "Number of data points in class 7 : 153 ( 28.759 %)\n",
      "Number of data points in class 4 : 110 ( 20.677 %)\n",
      "Number of data points in class 1 : 91 ( 17.105 %)\n",
      "Number of data points in class 2 : 72 ( 13.534 %)\n",
      "Number of data points in class 6 : 44 ( 8.271 %)\n",
      "Number of data points in class 5 : 39 ( 7.331 %)\n",
      "Number of data points in class 3 : 14 ( 2.632 %)\n",
      "Number of data points in class 9 : 6 ( 1.128 %)\n",
      "Number of data points in class 8 : 3 ( 0.564 %)\n"
     ]
    }
   ],
   "source": [
    "# it returns a dict, keys as class labels and values as the number of data points in that class\n",
    "train_class_distribution = train_df['Class'].value_counts().sortlevel()\n",
    "test_class_distribution = test_df['Class'].value_counts().sortlevel()\n",
    "cv_class_distribution = cv_df['Class'].value_counts().sortlevel()\n",
    "\n",
    "my_colors = 'rgbkymc'\n",
    "train_class_distribution.plot(kind='bar')\n",
    "plt.xlabel('Class')\n",
    "plt.ylabel('Data points per Class')\n",
    "plt.title('Distribution of yi in train data')\n",
    "plt.grid()\n",
    "plt.show()\n",
    "\n",
    "# ref: argsort https://docs.scipy.org/doc/numpy/reference/generated/numpy.argsort.html\n",
    "# -(train_class_distribution.values): the minus sign will give us in decreasing order\n",
    "sorted_yi = np.argsort(-train_class_distribution.values)\n",
    "for i in sorted_yi:\n",
    "    print('Number of data points in class', i+1, ':',train_class_distribution.values[i], '(', np.round((train_class_distribution.values[i]/train_df.shape[0]*100), 3), '%)')\n",
    "\n",
    "    \n",
    "print('-'*80)\n",
    "my_colors = 'rgbkymc'\n",
    "test_class_distribution.plot(kind='bar')\n",
    "plt.xlabel('Class')\n",
    "plt.ylabel('Data points per Class')\n",
    "plt.title('Distribution of yi in test data')\n",
    "plt.grid()\n",
    "plt.show()\n",
    "\n",
    "# ref: argsort https://docs.scipy.org/doc/numpy/reference/generated/numpy.argsort.html\n",
    "# -(train_class_distribution.values): the minus sign will give us in decreasing order\n",
    "sorted_yi = np.argsort(-test_class_distribution.values)\n",
    "for i in sorted_yi:\n",
    "    print('Number of data points in class', i+1, ':',test_class_distribution.values[i], '(', np.round((test_class_distribution.values[i]/test_df.shape[0]*100), 3), '%)')\n",
    "\n",
    "print('-'*80)\n",
    "my_colors = 'rgbkymc'\n",
    "cv_class_distribution.plot(kind='bar')\n",
    "plt.xlabel('Class')\n",
    "plt.ylabel('Data points per Class')\n",
    "plt.title('Distribution of yi in cross validation data')\n",
    "plt.grid()\n",
    "plt.show()\n",
    "\n",
    "# ref: argsort https://docs.scipy.org/doc/numpy/reference/generated/numpy.argsort.html\n",
    "# -(train_class_distribution.values): the minus sign will give us in decreasing order\n",
    "sorted_yi = np.argsort(-train_class_distribution.values)\n",
    "for i in sorted_yi:\n",
    "    print('Number of data points in class', i+1, ':',cv_class_distribution.values[i], '(', np.round((cv_class_distribution.values[i]/cv_df.shape[0]*100), 3), '%)')\n"
   ]
  },
  {
   "cell_type": "markdown",
   "metadata": {
    "colab_type": "text",
    "id": "J87b3_pEOQyE"
   },
   "source": [
    "<h3>3.2.3 Univariate Analysis on Gene_Variation_Text Feature</h3>"
   ]
  },
  {
   "cell_type": "markdown",
   "metadata": {
    "colab_type": "text",
    "id": "Go1Lmf9tOQyF"
   },
   "source": [
    "1. How many unique words are present in train data?\n",
    "2. How are word frequencies distributed?\n",
    "3. How to featurize text field?\n",
    "4. Is the text feature useful in predicitng y_i?\n",
    "5. Is the text feature stable across train, test and CV datasets?"
   ]
  },
  {
   "cell_type": "code",
   "execution_count": 22,
   "metadata": {
    "colab": {},
    "colab_type": "code",
    "collapsed": true,
    "id": "xV59LrzTOQyF"
   },
   "outputs": [],
   "source": [
    "# cls_text is a data frame\n",
    "# for every row in data fram consider the 'TEXT'\n",
    "# split the words by space\n",
    "# make a dict with those words\n",
    "# increment its count whenever we see that word\n",
    "\n",
    "def extract_dictionary_paddle(cls_text):\n",
    "    dictionary = defaultdict(int)\n",
    "    for index, row in cls_text.iterrows():\n",
    "        for word in row['Gene_Variation_Text'].split():\n",
    "            dictionary[word] +=1\n",
    "    return dictionary"
   ]
  },
  {
   "cell_type": "code",
   "execution_count": 23,
   "metadata": {
    "colab": {},
    "colab_type": "code",
    "collapsed": true,
    "id": "p8Y15a_1OQyH"
   },
   "outputs": [],
   "source": [
    "import math\n",
    "#https://stackoverflow.com/a/1602964\n",
    "def get_text_responsecoding(df):\n",
    "    text_feature_responseCoding = np.zeros((df.shape[0],9))\n",
    "    for i in range(0,9):\n",
    "        row_index = 0\n",
    "        for index, row in df.iterrows():\n",
    "            sum_prob = 0\n",
    "            for word in row['Gene_Variation_Text'].split():\n",
    "                sum_prob += math.log(((dict_list[i].get(word,0)+10 )/(total_dict.get(word,0)+90)))\n",
    "            text_feature_responseCoding[row_index][i] = math.exp(sum_prob/len(row['Gene_Variation_Text'].split()))\n",
    "            row_index += 1\n",
    "    return text_feature_responseCoding"
   ]
  },
  {
   "cell_type": "code",
   "execution_count": 24,
   "metadata": {
    "colab": {},
    "colab_type": "code",
    "id": "FnAaW3teOQyL",
    "outputId": "19a8f77b-6a9d-4454-8475-c59b340827d3"
   },
   "outputs": [
    {
     "name": "stdout",
     "output_type": "stream",
     "text": [
      "Total number of unique words in train data : 1500\n"
     ]
    }
   ],
   "source": [
    "# building a CountVectorizer with all the words that occured minimum 3 times in train data\n",
    "text_vectorizer = TfidfVectorizer(min_df=3,max_features=1500,use_idf= True)\n",
    "train_text_feature_onehotCoding = text_vectorizer.fit_transform(train_df['Gene_Variation_Text'])\n",
    "# getting all the feature names (words)\n",
    "train_text_features= text_vectorizer.get_feature_names()\n",
    "\n",
    "# train_text_feature_onehotCoding.sum(axis=0).A1 will sum every row and returns (1*number of features) vector\n",
    "train_text_fea_counts = train_text_feature_onehotCoding.sum(axis=0).A1\n",
    "\n",
    "# zip(list(text_features),text_fea_counts) will zip a word with its number of times it occured\n",
    "text_fea_dict = dict(zip(list(train_text_features),train_text_fea_counts))\n",
    "\n",
    "\n",
    "print(\"Total number of unique words in train data :\", len(train_text_features))"
   ]
  },
  {
   "cell_type": "code",
   "execution_count": 25,
   "metadata": {
    "colab": {},
    "colab_type": "code",
    "collapsed": true,
    "id": "lO_CtltnOQyR"
   },
   "outputs": [],
   "source": [
    "dict_list = []\n",
    "# dict_list =[] contains 9 dictoinaries each corresponds to a class\n",
    "for i in range(1,10):\n",
    "    cls_text = train_df[train_df['Class']==i]\n",
    "    # build a word dict based on the words in that class\n",
    "    dict_list.append(extract_dictionary_paddle(cls_text))\n",
    "    # append it to dict_list\n",
    "\n",
    "# dict_list[i] is build on i'th  class text data\n",
    "# total_dict is buid on whole training text data\n",
    "total_dict = extract_dictionary_paddle(train_df)\n",
    "\n",
    "\n",
    "confuse_array = []\n",
    "for i in train_text_features:\n",
    "    ratios = []\n",
    "    max_val = -1\n",
    "    for j in range(0,9):\n",
    "        ratios.append((dict_list[j][i]+10 )/(total_dict[i]+90))\n",
    "    confuse_array.append(ratios)\n",
    "confuse_array = np.array(confuse_array)"
   ]
  },
  {
   "cell_type": "code",
   "execution_count": 26,
   "metadata": {
    "colab": {},
    "colab_type": "code",
    "collapsed": true,
    "id": "uaI8RUu0OQyU"
   },
   "outputs": [],
   "source": [
    "#response coding of text features\n",
    "train_text_feature_responseCoding  = get_text_responsecoding(train_df)\n",
    "test_text_feature_responseCoding  = get_text_responsecoding(test_df)\n",
    "cv_text_feature_responseCoding  = get_text_responsecoding(cv_df)"
   ]
  },
  {
   "cell_type": "code",
   "execution_count": 27,
   "metadata": {
    "colab": {},
    "colab_type": "code",
    "collapsed": true,
    "id": "ZYqYSUjoOQyV"
   },
   "outputs": [],
   "source": [
    "# https://stackoverflow.com/a/16202486\n",
    "# we convert each row values such that they sum to 1  \n",
    "train1_text_feature_responseCoding = (train_text_feature_responseCoding.T/train_text_feature_responseCoding.sum(axis=1)).T\n",
    "test1_text_feature_responseCoding = (test_text_feature_responseCoding.T/test_text_feature_responseCoding.sum(axis=1)).T\n",
    "cv1_text_feature_responseCoding = (cv_text_feature_responseCoding.T/cv_text_feature_responseCoding.sum(axis=1)).T"
   ]
  },
  {
   "cell_type": "code",
   "execution_count": 28,
   "metadata": {
    "colab": {},
    "colab_type": "code",
    "collapsed": true,
    "id": "3UEk7cxGOQyX"
   },
   "outputs": [],
   "source": [
    "# don't forget to normalize every feature\n",
    "train2_text_feature_onehotCoding = normalize(train_text_feature_onehotCoding, axis=0)\n",
    "\n",
    "# we use the same vectorizer that was trained on train data\n",
    "test_text_feature_onehotCoding = text_vectorizer.transform(test_df['Gene_Variation_Text'])\n",
    "# don't forget to normalize every feature\n",
    "test2_text_feature_onehotCoding = normalize(test_text_feature_onehotCoding, axis=0)\n",
    "\n",
    "# we use the same vectorizer that was trained on train data\n",
    "cv_text_feature_onehotCoding = text_vectorizer.transform(cv_df['Gene_Variation_Text'])\n",
    "# don't forget to normalize every feature\n",
    "cv2_text_feature_onehotCoding = normalize(cv_text_feature_onehotCoding, axis=0)"
   ]
  },
  {
   "cell_type": "code",
   "execution_count": 29,
   "metadata": {
    "colab": {},
    "colab_type": "code",
    "collapsed": true,
    "id": "Ox21AjDkOQyZ"
   },
   "outputs": [],
   "source": [
    "#https://stackoverflow.com/a/2258273/4084039\n",
    "sorted_text_fea_dict = dict(sorted(text_fea_dict.items(), key=lambda x: x[1] , reverse=True))\n",
    "sorted_text_occur = np.array(list(sorted_text_fea_dict.values()))"
   ]
  },
  {
   "cell_type": "code",
   "execution_count": 30,
   "metadata": {
    "colab": {},
    "colab_type": "code",
    "id": "gT0OrfaTOQyb",
    "outputId": "7dcd0214-afd8-4a7c-ee17-f26e7281975e",
    "scrolled": true
   },
   "outputs": [
    {
     "name": "stdout",
     "output_type": "stream",
     "text": [
      "Counter({222.71827886376815: 1, 156.77739754842068: 1, 129.27500033849824: 1, 117.79542326409403: 1, 112.25508702095104: 1, 106.48871905118489: 1, 106.21796868161937: 1, 104.45911359326742: 1, 98.439676371368165: 1, 96.353907186009877: 1, 96.247957656086385: 1, 84.696579754558883: 1, 82.992456187646695: 1, 77.012214582661343: 1, 76.048938934889435: 1, 72.296594331719305: 1, 71.659849586581714: 1, 71.414918472829129: 1, 71.021197133689313: 1, 68.825512455546033: 1, 68.192353476742355: 1, 66.13375558436033: 1, 62.930644651707766: 1, 60.675317566991005: 1, 59.291003325946761: 1, 58.333787133736237: 1, 58.145619420018306: 1, 58.120624052656396: 1, 57.879795705630087: 1, 57.170616489209074: 1, 56.892676420953229: 1, 56.21866749552251: 1, 55.873187862009502: 1, 54.82093499670485: 1, 52.954563338098886: 1, 52.763930285616908: 1, 51.386993741449864: 1, 50.070798438126879: 1, 49.162264260597233: 1, 47.659510848634312: 1, 47.151443453105514: 1, 45.985169019713929: 1, 44.83883386772488: 1, 44.559151865448804: 1, 44.259601175508735: 1, 44.1775127454518: 1, 44.109842306412538: 1, 41.712943798451661: 1, 40.709646725883893: 1, 40.645189749506478: 1, 40.406568593394113: 1, 40.307538652433266: 1, 38.967409958649995: 1, 38.339349656366601: 1, 38.327430342711565: 1, 38.10639515921703: 1, 37.706631467685575: 1, 37.666469997700133: 1, 37.57576576971136: 1, 37.248998957891352: 1, 37.179248782784086: 1, 36.731083510081156: 1, 36.687292890819251: 1, 36.318465913730805: 1, 36.274918808275693: 1, 36.072514605215119: 1, 35.505603182120602: 1, 34.984231173096028: 1, 34.80592597821407: 1, 34.58652812540543: 1, 34.462389605112804: 1, 34.399586693087457: 1, 34.371295498521953: 1, 33.97446031032166: 1, 33.898566826092456: 1, 33.68451526613233: 1, 33.339884263245274: 1, 33.231080204102028: 1, 32.320573588650959: 1, 31.952924976339254: 1, 31.846502602126527: 1, 31.772972084271874: 1, 31.768349634766221: 1, 31.711671877379988: 1, 31.43847283788195: 1, 31.216041042895494: 1, 31.002377014354732: 1, 30.643995766870482: 1, 30.602961524189304: 1, 30.48015794949384: 1, 30.243163277013561: 1, 29.747148041698331: 1, 29.593464583000593: 1, 29.400831826263421: 1, 29.186320907461809: 1, 29.169145984913975: 1, 29.112823528274593: 1, 28.81747947643283: 1, 28.806194430675845: 1, 28.778374629505663: 1, 28.570424218737131: 1, 28.520936687917246: 1, 28.492840917110989: 1, 28.239310687255923: 1, 28.154892989662166: 1, 28.152803792993115: 1, 28.119232919473799: 1, 27.934444586064807: 1, 27.932146875989286: 1, 27.893498799660538: 1, 27.667919354955455: 1, 27.656455188802219: 1, 27.637642088759456: 1, 27.574595406398824: 1, 27.521219347953583: 1, 27.435523609418802: 1, 27.31316070067906: 1, 27.157584592500353: 1, 27.026919843608322: 1, 26.788878709988474: 1, 26.783895161084331: 1, 26.631351911503966: 1, 26.509023693039815: 1, 26.374593038108753: 1, 26.212122475112277: 1, 26.173258296922768: 1, 26.112329511089349: 1, 26.072315528060482: 1, 25.873390810786741: 1, 25.627462412265071: 1, 25.621365092443902: 1, 25.389365910062555: 1, 25.314705158992787: 1, 25.278426830673602: 1, 25.248326344856231: 1, 25.053694373626001: 1, 24.898617204859903: 1, 24.431923488719761: 1, 24.230875770203003: 1, 24.213787047881752: 1, 24.202012583901574: 1, 24.121706763837221: 1, 23.912171263451334: 1, 23.854485363558741: 1, 23.806749599978179: 1, 23.745876242961856: 1, 23.69049065551658: 1, 23.578840818228926: 1, 23.473759483454877: 1, 23.410304723825991: 1, 23.298661767913188: 1, 23.293504096274631: 1, 23.253727206514828: 1, 23.19854915445919: 1, 23.186182397490626: 1, 23.145680718826895: 1, 22.696243124337688: 1, 22.621414115316917: 1, 22.577533682416323: 1, 22.490055863238531: 1, 22.488270661913969: 1, 22.356798692719885: 1, 22.265823972984194: 1, 22.138652042722786: 1, 22.033911334014995: 1, 21.862154078608338: 1, 21.798274634294316: 1, 21.673364738355492: 1, 21.662826720742018: 1, 21.652260461660166: 1, 21.562265801089467: 1, 21.455277023904792: 1, 21.426847952824396: 1, 21.403100871475864: 1, 21.342488245059108: 1, 21.283008468891651: 1, 21.24191519655421: 1, 21.106618171746497: 1, 20.911711355026242: 1, 20.897762993313364: 1, 20.804224074530413: 1, 20.797685163702536: 1, 20.749607767861921: 1, 20.7441670938986: 1, 20.632953057964393: 1, 20.583753900081483: 1, 20.505353081839242: 1, 20.476105699938024: 1, 20.411701275079562: 1, 20.398704739933187: 1, 20.354488750926727: 1, 20.191334313076005: 1, 20.132108722688333: 1, 20.129574401697244: 1, 20.117600079209758: 1, 20.088981129542912: 1, 20.061129739452412: 1, 19.977478996951987: 1, 19.937488780368586: 1, 19.925151939848682: 1, 19.903306851542045: 1, 19.789273368009841: 1, 19.776021320027755: 1, 19.717000462184743: 1, 19.672706044522528: 1, 19.667465405672218: 1, 19.655925044363258: 1, 19.607218180066756: 1, 19.60514556681682: 1, 19.588213147111581: 1, 19.51995788753975: 1, 19.510014995527744: 1, 19.475521677141856: 1, 19.434411193869721: 1, 19.354933823748318: 1, 19.352723097495197: 1, 19.303063546062862: 1, 19.241204989002799: 1, 19.222657430391802: 1, 19.182126011789908: 1, 19.159704095333534: 1, 19.156111451624358: 1, 19.103362402824935: 1, 19.014459404608065: 1, 18.997173232347922: 1, 18.966853708971819: 1, 18.79378548526779: 1, 18.773173644399225: 1, 18.754261931664388: 1, 18.748017797934899: 1, 18.723178136708089: 1, 18.717127844863782: 1, 18.689788980273914: 1, 18.680437426716022: 1, 18.670552658940739: 1, 18.612111957474077: 1, 18.595021347915644: 1, 18.58085430535116: 1, 18.354840771614249: 1, 18.212858264030565: 1, 18.165702769498257: 1, 18.132691233965073: 1, 18.131951999727775: 1, 18.125430151628688: 1, 18.117704747326222: 1, 18.114120183494229: 1, 18.096628487425747: 1, 18.000868009492475: 1, 17.985494703072629: 1, 17.983236671112827: 1, 17.962229378492825: 1, 17.901193550837863: 1, 17.889049106525427: 1, 17.870043180250182: 1, 17.859763632545086: 1, 17.838717913127784: 1, 17.82257996763899: 1, 17.802904553294763: 1, 17.751666258579348: 1, 17.718811984868371: 1, 17.665954272293998: 1, 17.654104979227924: 1, 17.622223498132399: 1, 17.604645915767314: 1, 17.53560739840831: 1, 17.453569934675819: 1, 17.449968394441751: 1, 17.393643950290169: 1, 17.380271813302144: 1, 17.327297906579407: 1, 17.26060711182307: 1, 17.229624958092369: 1, 17.178090134740792: 1, 17.138229946183099: 1, 17.130179880250243: 1, 17.121915791694047: 1, 17.121502765988279: 1, 17.111039065867658: 1, 17.048225837180574: 1, 17.010242834494466: 1, 16.924309683064504: 1, 16.899837021080561: 1, 16.864698946343424: 1, 16.863563199982575: 1, 16.852735963490417: 1, 16.787625503419179: 1, 16.718604614411472: 1, 16.684297391628295: 1, 16.682735517907972: 1, 16.672823876026737: 1, 16.662222582792015: 1, 16.514199732822419: 1, 16.470943539272515: 1, 16.443219699579082: 1, 16.422973274809355: 1, 16.388027429372375: 1, 16.360317964410935: 1, 16.3595884213447: 1, 16.280597411918087: 1, 16.265047607881197: 1, 16.24750859531034: 1, 16.201254817331993: 1, 16.178715626035995: 1, 16.040683663346609: 1, 16.036045392073547: 1, 15.998012397143603: 1, 15.931605517121548: 1, 15.889908583782642: 1, 15.875775664652826: 1, 15.863425148447487: 1, 15.85731007794503: 1, 15.771615068066925: 1, 15.768221599336718: 1, 15.734006602010982: 1, 15.638630845725713: 1, 15.623929765711154: 1, 15.622890024447981: 1, 15.619754965985791: 1, 15.611543644052324: 1, 15.556923162993032: 1, 15.481651352593829: 1, 15.433439862899291: 1, 15.423438390413912: 1, 15.321058291326109: 1, 15.284027031001429: 1, 15.256130269453227: 1, 15.25452548641813: 1, 15.206209836222932: 1, 15.200918898128798: 1, 15.144060346412443: 1, 15.106949942150926: 1, 15.104978647964286: 1, 15.084934079181973: 1, 15.082805843550442: 1, 15.076833967760715: 1, 15.073956215254217: 1, 15.042944978426577: 1, 15.032983655877224: 1, 15.01560337876815: 1, 15.010329541940308: 1, 14.950405044835589: 1, 14.929315509558187: 1, 14.917183512608938: 1, 14.898955990487433: 1, 14.842244001943177: 1, 14.786622131059666: 1, 14.776459933807676: 1, 14.76949446748068: 1, 14.741034113812079: 1, 14.715712411395561: 1, 14.713326199188794: 1, 14.709535159298968: 1, 14.684971590192699: 1, 14.66767892887345: 1, 14.633437271289921: 1, 14.633397988277762: 1, 14.626199399035404: 1, 14.614430416364948: 1, 14.612406282075099: 1, 14.599486350370514: 1, 14.55905224290667: 1, 14.526580474561511: 1, 14.492031387485047: 1, 14.465074925275768: 1, 14.447406375711687: 1, 14.443836814780951: 1, 14.401163561368605: 1, 14.397035209872785: 1, 14.361870340963907: 1, 14.308079978619482: 1, 14.304605900120366: 1, 14.239550759361943: 1, 14.231503408522547: 1, 14.205339817846699: 1, 14.163890940449569: 1, 14.109279255726648: 1, 14.106849168815245: 1, 14.083354224922887: 1, 14.077963776837681: 1, 14.048971590939816: 1, 14.047517282741776: 1, 14.02778110006609: 1, 14.014295120565205: 1, 13.99190492448084: 1, 13.986069589426982: 1, 13.983383263372794: 1, 13.941323221600392: 1, 13.927183804262821: 1, 13.908063296783071: 1, 13.90664472044867: 1, 13.85280160884623: 1, 13.84584428454942: 1, 13.811962234498685: 1, 13.752263565777728: 1, 13.727736247554832: 1, 13.726641409784101: 1, 13.697489990732818: 1, 13.691780623583016: 1, 13.666250215335015: 1, 13.657719097584133: 1, 13.650244743177989: 1, 13.638450167495135: 1, 13.636137749634095: 1, 13.625011552232113: 1, 13.60599781476642: 1, 13.596119193351754: 1, 13.578187183652522: 1, 13.568126641072368: 1, 13.528696844778272: 1, 13.512048913056139: 1, 13.499651766817397: 1, 13.48236520993119: 1, 13.47850210438401: 1, 13.461614371207313: 1, 13.437646850880464: 1, 13.376280338557432: 1, 13.374740694460371: 1, 13.359453647944607: 1, 13.35626110850766: 1, 13.346036518963729: 1, 13.34453151415754: 1, 13.297227701849502: 1, 13.28034663671056: 1, 13.246165752883341: 1, 13.220515995318708: 1, 13.21085698455267: 1, 13.208559635576906: 1, 13.204849369695602: 1, 13.190024518345878: 1, 13.155974728974595: 1, 13.09317067500043: 1, 13.082720010251121: 1, 13.065977336586881: 1, 13.048273831344288: 1, 13.039036854869886: 1, 13.01585137483892: 1, 13.002740887321472: 1, 12.988463035489247: 1, 12.98466209196525: 1, 12.965653827581072: 1, 12.961840825023975: 1, 12.948976956895484: 1, 12.934016993684821: 1, 12.932225385878809: 1, 12.928602116639507: 1, 12.90348910153679: 1, 12.864890807040222: 1, 12.862311780114384: 1, 12.854698015771261: 1, 12.841643050219757: 1, 12.837154169566082: 1, 12.821817293392488: 1, 12.797285313164929: 1, 12.77999468323363: 1, 12.753374437702853: 1, 12.749487971521315: 1, 12.739923227596123: 1, 12.726116970724663: 1, 12.659727345078192: 1, 12.657084847607631: 1, 12.643608704658156: 1, 12.643053740472107: 1, 12.618293854719786: 1, 12.607451696308612: 1, 12.602604547726207: 1, 12.530036197392919: 1, 12.522745666323035: 1, 12.52208102113036: 1, 12.518455749876804: 1, 12.516986368690201: 1, 12.508754447860055: 1, 12.482491682044794: 1, 12.477690444450459: 1, 12.440275078996015: 1, 12.433979316108376: 1, 12.408859860575664: 1, 12.401669759982756: 1, 12.397687284100835: 1, 12.379944525064793: 1, 12.375175080856275: 1, 12.361905098466904: 1, 12.357991614906151: 1, 12.284690813176635: 1, 12.270398060251484: 1, 12.268509731627288: 1, 12.266893165957569: 1, 12.249858448737383: 1, 12.246746567075801: 1, 12.222084477372334: 1, 12.218985000056032: 1, 12.203905978545599: 1, 12.184491593852382: 1, 12.173077170178395: 1, 12.161517901028231: 1, 12.109240488671929: 1, 12.106096571289006: 1, 12.071523798648798: 1, 12.070763171242529: 1, 12.041462040514629: 1, 12.035139702453208: 1, 12.029934655867928: 1, 12.01616926207693: 1, 11.951545572885848: 1, 11.943506654613888: 1, 11.904645559009372: 1, 11.902769110798912: 1, 11.87174143468342: 1, 11.863658851269532: 1, 11.853935741655137: 1, 11.850451843684455: 1, 11.845591834681283: 1, 11.839138918921462: 1, 11.791002804295239: 1, 11.781358281767973: 1, 11.768509287779585: 1, 11.739552237593838: 1, 11.730650461235651: 1, 11.684465724505309: 1, 11.676563307242198: 1, 11.669679822560374: 1, 11.653260207638564: 1, 11.646829785490219: 1, 11.641502485457551: 1, 11.640690113720506: 1, 11.622332506361015: 1, 11.603192906036364: 1, 11.598396503640966: 1, 11.591912483203295: 1, 11.581621415353228: 1, 11.57393312388178: 1, 11.569791335254362: 1, 11.554771342052632: 1, 11.452095017577498: 1, 11.450502621154065: 1, 11.443119788298288: 1, 11.441425922674091: 1, 11.418732560441651: 1, 11.417232359978998: 1, 11.413270521864122: 1, 11.409410567670813: 1, 11.396123036607509: 1, 11.389922111163591: 1, 11.314107959273672: 1, 11.281510802953667: 1, 11.240623378443608: 1, 11.235784649498946: 1, 11.215232870682664: 1, 11.199719335868785: 1, 11.149018178785564: 1, 11.141981961407632: 1, 11.140675222516911: 1, 11.140101119273764: 1, 11.137830907935856: 1, 11.108310066460103: 1, 11.104907712522149: 1, 11.095713693029268: 1, 11.07558018016204: 1, 11.067555142617124: 1, 11.065232887508465: 1, 10.993687748822831: 1, 10.98356028078241: 1, 10.956943718344508: 1, 10.951654198052379: 1, 10.93321018328402: 1, 10.915368743394799: 1, 10.915178451840744: 1, 10.875839451970245: 1, 10.867763563573247: 1, 10.850211042409928: 1, 10.834142331518358: 1, 10.830830735570304: 1, 10.824823459641582: 1, 10.823454672652106: 1, 10.822663118316727: 1, 10.82042470803245: 1, 10.78268813896357: 1, 10.759064547634116: 1, 10.752782240266962: 1, 10.738496890703676: 1, 10.736865011472903: 1, 10.73655593995367: 1, 10.674916585750825: 1, 10.657540731513176: 1, 10.65522196519689: 1, 10.653845274150234: 1, 10.628867323352337: 1, 10.617151184075741: 1, 10.615198848745823: 1, 10.608103420290751: 1, 10.588361763803684: 1, 10.582113098760864: 1, 10.546252042664198: 1, 10.535310360241828: 1, 10.529536673705904: 1, 10.52724705116051: 1, 10.521358071356333: 1, 10.519238577779188: 1, 10.517295126707703: 1, 10.496742031055399: 1, 10.488334074432556: 1, 10.470676989268084: 1, 10.464943485941401: 1, 10.4639570532905: 1, 10.450649422704666: 1, 10.450246245158578: 1, 10.44592695530215: 1, 10.417561869268312: 1, 10.393255712446971: 1, 10.349256330941625: 1, 10.347990536333674: 1, 10.337331332168098: 1, 10.331941526881314: 1, 10.331513283159168: 1, 10.313707219970285: 1, 10.307494878384457: 1, 10.306293791031697: 1, 10.289524957063039: 1, 10.282483017992988: 1, 10.266539899419437: 1, 10.263123093274743: 1, 10.257767395808461: 1, 10.245269131695213: 1, 10.238411715507246: 1, 10.190024933711339: 1, 10.187741842439062: 1, 10.174924832479395: 1, 10.135328462152549: 1, 10.125162370812454: 1, 10.113097356544943: 1, 10.089684182440054: 1, 10.075897652283423: 1, 10.074633887492261: 1, 10.073929049382814: 1, 10.073377394831757: 1, 10.006785822369219: 1, 10.006014174200862: 1, 10.005364734806738: 1, 10.003093997099819: 1, 9.997051633450992: 1, 9.9958696595819667: 1, 9.9889809515505217: 1, 9.9738159187661157: 1, 9.9666845723789308: 1, 9.9334377521232025: 1, 9.9272988909027511: 1, 9.9199359916451577: 1, 9.9123768366761258: 1, 9.8810081059790242: 1, 9.8751241260978126: 1, 9.8650488060123394: 1, 9.8603133425263305: 1, 9.8547520846627865: 1, 9.8479544754379464: 1, 9.8473563318117208: 1, 9.841606134665291: 1, 9.8413481291327347: 1, 9.8265815296832812: 1, 9.8173236477639421: 1, 9.7878685345224703: 1, 9.7807402048918402: 1, 9.7752006500367621: 1, 9.757783771128528: 1, 9.7524618483400936: 1, 9.7490236950492672: 1, 9.7444302231544029: 1, 9.7443226368004776: 1, 9.7401536697132993: 1, 9.7299289201839958: 1, 9.7284879432309417: 1, 9.7234378675509081: 1, 9.7145372174798652: 1, 9.7029059622098863: 1, 9.6978488092662882: 1, 9.6925525690806609: 1, 9.6868169694368191: 1, 9.6810695168459215: 1, 9.6704473026751288: 1, 9.6681633655774828: 1, 9.6475296833661197: 1, 9.6463912416746656: 1, 9.6409518601534199: 1, 9.6295304749740929: 1, 9.625994105664244: 1, 9.6241702014986306: 1, 9.6234923683158602: 1, 9.6202074155008148: 1, 9.6148433925901422: 1, 9.6137782602338824: 1, 9.5967640826975504: 1, 9.5851256085884238: 1, 9.5726815107398746: 1, 9.5562917466557415: 1, 9.5437171113467585: 1, 9.524513898060869: 1, 9.5148465785094238: 1, 9.5065858458259846: 1, 9.4908187138081939: 1, 9.4854946138073739: 1, 9.4821915016666836: 1, 9.4772009536733961: 1, 9.4747352433635079: 1, 9.47282265672: 1, 9.4691079995986147: 1, 9.4638572661521252: 1, 9.4616523547705107: 1, 9.4572221666556615: 1, 9.455423021578488: 1, 9.445088494144585: 1, 9.4388684466558992: 1, 9.4074814385849237: 1, 9.3853685048733642: 1, 9.3832691272572166: 1, 9.3807490609678457: 1, 9.372847828843696: 1, 9.3714008829471744: 1, 9.3646783615691689: 1, 9.3593828717446375: 1, 9.357254356935961: 1, 9.3504435207665377: 1, 9.3487278887633867: 1, 9.3420513948373802: 1, 9.3391710675729538: 1, 9.3335720246558331: 1, 9.3299207524444583: 1, 9.3225146388683378: 1, 9.2873466183825055: 1, 9.2740599139401549: 1, 9.2729539171868751: 1, 9.2513332626948728: 1, 9.2397662763252377: 1, 9.2350341200457908: 1, 9.2306028051440556: 1, 9.1859755381086003: 1, 9.1849360251614591: 1, 9.1846284104183642: 1, 9.1813512030211939: 1, 9.1808802623635763: 1, 9.1719482708179587: 1, 9.1102167547779622: 1, 9.1086459919655436: 1, 9.107021390222318: 1, 9.1048046029545961: 1, 9.0976429291641683: 1, 9.097074416658586: 1, 9.090020519265309: 1, 9.0865495253772774: 1, 9.0659418543420376: 1, 9.0591997227065999: 1, 9.0554078535005331: 1, 9.028276963203874: 1, 9.0108077262662913: 1, 8.997719517710129: 1, 8.9893637232585668: 1, 8.986605793580333: 1, 8.964428526371222: 1, 8.9631185323063569: 1, 8.9548375693262123: 1, 8.9458405928954541: 1, 8.945583646721099: 1, 8.9192238857425217: 1, 8.9164866913270497: 1, 8.9071395002406266: 1, 8.9052408969019936: 1, 8.8952593951836576: 1, 8.8688183089284216: 1, 8.8668360103286812: 1, 8.8666126886543744: 1, 8.8414577944574368: 1, 8.826072823579473: 1, 8.8211488965511702: 1, 8.8191484178012072: 1, 8.8107359723563921: 1, 8.8006479406235698: 1, 8.8004321002944934: 1, 8.7765748070716398: 1, 8.7758177269962019: 1, 8.7722930391561036: 1, 8.7704530279374282: 1, 8.7693490128686662: 1, 8.7680102078353883: 1, 8.7602861301131583: 1, 8.7571457731196514: 1, 8.7550128601847863: 1, 8.7531326655294794: 1, 8.7421879267668778: 1, 8.7412728392655819: 1, 8.7383586288420698: 1, 8.7319672774996295: 1, 8.7315610620816564: 1, 8.7302789110794681: 1, 8.7293984900760382: 1, 8.7173102613064248: 1, 8.7090007021053211: 1, 8.7059631374331659: 1, 8.7010825608179676: 1, 8.700127687152996: 1, 8.6902779374854902: 1, 8.6834239846117356: 1, 8.6794600871193932: 1, 8.6701086181603415: 1, 8.6599243621710773: 1, 8.6568516107725451: 1, 8.6500843407495118: 1, 8.6347680320575915: 1, 8.6342657622772414: 1, 8.6242990538224031: 1, 8.6100193070785025: 1, 8.6019990849786883: 1, 8.5991212791066136: 1, 8.5984671929113787: 1, 8.5891971093769008: 1, 8.5883542685324326: 1, 8.5814332306332535: 1, 8.5358249307815921: 1, 8.5309587972439136: 1, 8.5302387272134599: 1, 8.5279314251635299: 1, 8.5186062024692717: 1, 8.5150711721847188: 1, 8.5143624161112879: 1, 8.5128660087937984: 1, 8.5076844683205692: 1, 8.4930817143661574: 1, 8.4797107317512008: 1, 8.4761840423174775: 1, 8.4645229276292344: 1, 8.4486095245243398: 1, 8.4445904327260575: 1, 8.4360143034804693: 1, 8.4326907161034885: 1, 8.4212442940736807: 1, 8.411171667768528: 1, 8.4104567212701618: 1, 8.4101942363103817: 1, 8.4082463230668836: 1, 8.3842100359989633: 1, 8.3807188180864021: 1, 8.3726686500332193: 1, 8.3686997381248069: 1, 8.3538471412907302: 1, 8.3509333053395025: 1, 8.3384950655153371: 1, 8.3361445218307448: 1, 8.3298605234255252: 1, 8.3117895168945832: 1, 8.3039495605969051: 1, 8.3027521682166103: 1, 8.2950139986916707: 1, 8.2915171946283994: 1, 8.2904957865648878: 1, 8.2870011170187095: 1, 8.2806575199916121: 1, 8.2616616621825099: 1, 8.2582115410919901: 1, 8.2250794067734105: 1, 8.2221104355390455: 1, 8.2177246042816332: 1, 8.2095972099876189: 1, 8.2071439469606755: 1, 8.2048148286392806: 1, 8.202738134658258: 1, 8.1992583337265632: 1, 8.1991508047411905: 1, 8.1879804643116838: 1, 8.1799159270836679: 1, 8.1788251777336356: 1, 8.1658527631706264: 1, 8.1541305069617138: 1, 8.1539773449621116: 1, 8.1432943924947807: 1, 8.1290728626596316: 1, 8.1241044325340308: 1, 8.1210874921179173: 1, 8.0877920310551232: 1, 8.0870785567792307: 1, 8.0776293002766693: 1, 8.0747399304845437: 1, 8.0704084493420769: 1, 8.0539628669273764: 1, 8.040157512162482: 1, 8.0358427413586693: 1, 8.0326710866525275: 1, 8.0126893102186934: 1, 8.0070736851468514: 1, 8.0032199973355098: 1, 7.9994594628173257: 1, 7.9977729585124804: 1, 7.9977641495932241: 1, 7.9976592670605386: 1, 7.9937303259110157: 1, 7.992495500556033: 1, 7.9852427732449076: 1, 7.9801456762716629: 1, 7.9796962062577155: 1, 7.9793543974207957: 1, 7.9755646597973939: 1, 7.9702698179834925: 1, 7.9659627510571118: 1, 7.9546615281346496: 1, 7.9534289319748588: 1, 7.9524066860781648: 1, 7.9448052943384093: 1, 7.9414473626163788: 1, 7.9366631195888049: 1, 7.9292637340595089: 1, 7.9281826984765402: 1, 7.924788683793853: 1, 7.9223930917955556: 1, 7.92238592733771: 1, 7.9200421081503336: 1, 7.9174112445352947: 1, 7.9092272098601031: 1, 7.9066187361745186: 1, 7.8922819981552736: 1, 7.8719655744311003: 1, 7.8707760648107081: 1, 7.8625391859884441: 1, 7.8496219203950828: 1, 7.8472142821579212: 1, 7.8316634806097785: 1, 7.828372652595494: 1, 7.8242947057830765: 1, 7.8177215946823555: 1, 7.8155865924674073: 1, 7.7892239980452223: 1, 7.7869890480968698: 1, 7.7809422327642492: 1, 7.779693510761077: 1, 7.7629080265072217: 1, 7.7618830779462114: 1, 7.7565180090756902: 1, 7.750304742692677: 1, 7.7486412817321026: 1, 7.7441722983560872: 1, 7.7362293367141914: 1, 7.7311848776934289: 1, 7.7279953653380513: 1, 7.7179548584917868: 1, 7.7140587669149117: 1, 7.7131904386433421: 1, 7.7087981466172844: 1, 7.7069589799778626: 1, 7.7060212000500812: 1, 7.7002376112482116: 1, 7.6994458403486199: 1, 7.6985960259797475: 1, 7.6911974397903347: 1, 7.6905909254113443: 1, 7.683971569339632: 1, 7.6748294613239461: 1, 7.6602938749285734: 1, 7.651172786562495: 1, 7.6504757351640178: 1, 7.642572390646885: 1, 7.6238259705681068: 1, 7.6234335622026466: 1, 7.6219784032665263: 1, 7.6187984812526324: 1, 7.6127801378916597: 1, 7.5978847886035199: 1, 7.592730374913522: 1, 7.5884651906353024: 1, 7.5858036782627698: 1, 7.5834374046180564: 1, 7.5593678775035613: 1, 7.5467678220517067: 1, 7.5461007193843885: 1, 7.5319108062222861: 1, 7.5315980546578194: 1, 7.5291298595107063: 1, 7.5183189125321022: 1, 7.4917005148132771: 1, 7.4809963922877705: 1, 7.4797249931335799: 1, 7.4765590355378944: 1, 7.4660159390458833: 1, 7.4595558513037004: 1, 7.4555028752323045: 1, 7.451022698224226: 1, 7.4437545952465696: 1, 7.4305162865170367: 1, 7.4247377521545328: 1, 7.4236293760781393: 1, 7.4162981291979806: 1, 7.4145463311927289: 1, 7.3982383042570881: 1, 7.3970978400398133: 1, 7.3895690933245319: 1, 7.3889389925424309: 1, 7.3880485538900489: 1, 7.3853965388293448: 1, 7.3783922721127873: 1, 7.3704435845823371: 1, 7.3501155170184429: 1, 7.3444603194153393: 1, 7.3407072128324149: 1, 7.3211107287271089: 1, 7.2924040069164162: 1, 7.2897600995155685: 1, 7.2855492778087365: 1, 7.2823535976469422: 1, 7.2821381142979833: 1, 7.2700999434832463: 1, 7.2627699243860571: 1, 7.2576285699395022: 1, 7.252691780089652: 1, 7.2429994386561072: 1, 7.2392804920094518: 1, 7.2384039890717968: 1, 7.2340302347800485: 1, 7.2283405095013382: 1, 7.2192084910682759: 1, 7.2090193630376094: 1, 7.2054025055249138: 1, 7.2050487470402604: 1, 7.1980641202470839: 1, 7.1979745446894547: 1, 7.1904383417623388: 1, 7.1812145418691546: 1, 7.1789124036812684: 1, 7.1767186755110259: 1, 7.1590317030526052: 1, 7.1293201159294242: 1, 7.127861814194957: 1, 7.1270894811600556: 1, 7.1198245415982591: 1, 7.117044565254032: 1, 7.0982876510757578: 1, 7.0961340453624295: 1, 7.0908603527331673: 1, 7.0893500287102968: 1, 7.0828283001347714: 1, 7.0806010925309435: 1, 7.0776852533636205: 1, 7.0749469622495047: 1, 7.0736259395870054: 1, 7.0733353865892346: 1, 7.0721106256433446: 1, 7.0713597352058626: 1, 7.0699606841642018: 1, 7.0682118836648948: 1, 7.0612992078907419: 1, 7.0577437820630715: 1, 7.0557545656195684: 1, 7.051122384915872: 1, 7.0377343886496604: 1, 7.0321440920733043: 1, 7.0316591125454302: 1, 7.0306139470481064: 1, 7.0298101904148478: 1, 7.0297735129294878: 1, 7.024997446716668: 1, 7.0227639459574753: 1, 7.0171011573503419: 1, 7.0158480176780218: 1, 7.012527327158244: 1, 7.0092243214305157: 1, 7.0084966604592989: 1, 7.0069962032248805: 1, 7.0065051781924481: 1, 7.0061342900473038: 1, 6.999006057629356: 1, 6.9984338144484042: 1, 6.9905338738494818: 1, 6.9892642006532206: 1, 6.9865684694903507: 1, 6.9864524930769418: 1, 6.9863162080649657: 1, 6.978166624094678: 1, 6.9780431279297828: 1, 6.975701248608658: 1, 6.9736323763508068: 1, 6.957839092879448: 1, 6.9573781968078654: 1, 6.9362408165687039: 1, 6.9316878690449233: 1, 6.9302656490812646: 1, 6.92738444739798: 1, 6.9010628915078627: 1, 6.8975165587487375: 1, 6.8902458251936078: 1, 6.8884270936732896: 1, 6.8881571547020224: 1, 6.8863333209481308: 1, 6.8830265084193574: 1, 6.8616670706644536: 1, 6.8610994205110467: 1, 6.8547502228849178: 1, 6.8443649078092577: 1, 6.8405328388782829: 1, 6.8385286364590723: 1, 6.817761365771096: 1, 6.806977525280538: 1, 6.7974901029349866: 1, 6.7875308218856274: 1, 6.7865024115884687: 1, 6.7800743085697892: 1, 6.7699228946796675: 1, 6.7686839616974037: 1, 6.7675717741586503: 1, 6.7657601794326885: 1, 6.7558816027058306: 1, 6.7521738670510256: 1, 6.7520158063551108: 1, 6.7471301988295345: 1, 6.7446275639602238: 1, 6.7402521465842593: 1, 6.7373916216097589: 1, 6.724521557431081: 1, 6.7162440035990771: 1, 6.7023939278567664: 1, 6.7008949305616818: 1, 6.697589525036765: 1, 6.6961970029328839: 1, 6.6888141635227383: 1, 6.6788520529015223: 1, 6.6514653616776771: 1, 6.6444509525940596: 1, 6.6339476147579894: 1, 6.6337679612582363: 1, 6.631828340180804: 1, 6.5976810072053738: 1, 6.5943640536483308: 1, 6.5913643678293177: 1, 6.5689158462088537: 1, 6.5639702834282883: 1, 6.5596379100740538: 1, 6.5586345285034087: 1, 6.549614541765763: 1, 6.5464042575123544: 1, 6.5271184200235473: 1, 6.5257905104306584: 1, 6.5214234636119404: 1, 6.5151583114909126: 1, 6.5123621913280951: 1, 6.4999935392040857: 1, 6.4972513362097235: 1, 6.4946251115839404: 1, 6.4933770565953663: 1, 6.4926467216070032: 1, 6.4869155278318269: 1, 6.4867590446540655: 1, 6.4736209085785452: 1, 6.472135169346811: 1, 6.4704936812881719: 1, 6.4697763719583969: 1, 6.4680370398313025: 1, 6.4653682885698434: 1, 6.464683185858938: 1, 6.4573944496738909: 1, 6.4562320898339136: 1, 6.4546064091612081: 1, 6.4523586401089652: 1, 6.4506970131412675: 1, 6.4458182535819457: 1, 6.4096088089955252: 1, 6.4024962175718185: 1, 6.3975708146314183: 1, 6.3946899758056137: 1, 6.393533860717401: 1, 6.3912918431176786: 1, 6.3826036186823298: 1, 6.3821079452915397: 1, 6.3763915316304542: 1, 6.3586212051702926: 1, 6.3484918182378713: 1, 6.3448263726953522: 1, 6.343050518400668: 1, 6.339323378896208: 1, 6.3381611546311696: 1, 6.319841092925647: 1, 6.3150553160893983: 1, 6.3080850990754849: 1, 6.3034402850456983: 1, 6.3002278201632: 1, 6.2937186110880017: 1, 6.2777289398463969: 1, 6.2775892368331512: 1, 6.2672963706347451: 1, 6.2628332161225977: 1, 6.2560881462388398: 1, 6.254484447985921: 1, 6.2502619982328378: 1, 6.2454653402884652: 1, 6.2308936882288579: 1, 6.2237969695948978: 1, 6.220915858556503: 1, 6.2077641462840836: 1, 6.2077004861204408: 1, 6.2048964336202532: 1, 6.2005088187511204: 1, 6.1998992349542332: 1, 6.1793652259328304: 1, 6.1741237890735201: 1, 6.1660300541978961: 1, 6.1649133280402255: 1, 6.1481874876063864: 1, 6.1479345832403878: 1, 6.1424221450480117: 1, 6.1380280575816473: 1, 6.1355536640570927: 1, 6.1346802918241226: 1, 6.1343046488542363: 1, 6.1198474441881094: 1, 6.1163054685107676: 1, 6.1134511133620082: 1, 6.1123881221522911: 1, 6.0945615281402645: 1, 6.0942654740519204: 1, 6.0892293513725777: 1, 6.0880428390189643: 1, 6.0799876772759429: 1, 6.0774023721109351: 1, 6.076647360062724: 1, 6.0749596439274569: 1, 6.0654541252327761: 1, 6.0585530788782265: 1, 6.0542646696227642: 1, 6.052936434880281: 1, 6.0529122548138652: 1, 6.0440946567653695: 1, 6.0284735982400353: 1, 6.0279056785664311: 1, 6.0267706597354653: 1, 6.0256861660435836: 1, 6.0251579836146139: 1, 6.0188424602049482: 1, 6.0156221016717843: 1, 6.0063468964651037: 1, 5.9949460573059694: 1, 5.9819887450176736: 1, 5.9746867973765951: 1, 5.9744849090525696: 1, 5.9732499193987865: 1, 5.9636053653018584: 1, 5.9604236087101325: 1, 5.9583194437655873: 1, 5.9543043808083382: 1, 5.9539689700563487: 1, 5.9490321127728416: 1, 5.9487493395781366: 1, 5.9407098349253866: 1, 5.9405551123895073: 1, 5.9378075156689931: 1, 5.9277982375554501: 1, 5.9276365279864232: 1, 5.9233352968546376: 1, 5.9214076263155198: 1, 5.9168494112946597: 1, 5.9157591913437617: 1, 5.9077150916889662: 1, 5.9057034418146079: 1, 5.9005503693291708: 1, 5.886682792317079: 1, 5.8853388908797442: 1, 5.8840802788607514: 1, 5.877793487890842: 1, 5.8628706500344023: 1, 5.8618539411071673: 1, 5.860056201349467: 1, 5.8558455890595269: 1, 5.8493255220221085: 1, 5.8290649347986117: 1, 5.8246211648315231: 1, 5.8123949237537262: 1, 5.8045267375000806: 1, 5.8001956796958938: 1, 5.7912752849640503: 1, 5.7908849801845452: 1, 5.7888080766863999: 1, 5.7883760547752159: 1, 5.7882869203340395: 1, 5.7876536267817844: 1, 5.7857806588131284: 1, 5.7788618596040129: 1, 5.7775358838120612: 1, 5.7686631836272477: 1, 5.7642729962771684: 1, 5.7629553548389829: 1, 5.7425490705404494: 1, 5.7383031025702937: 1, 5.7382128991955295: 1, 5.7308952645960787: 1, 5.7297644834457557: 1, 5.7273789040097105: 1, 5.7198590689947792: 1, 5.7166741913393331: 1, 5.71219188891589: 1, 5.6978073131926985: 1, 5.695116949947824: 1, 5.6928422788338411: 1, 5.6861738091788023: 1, 5.6849970070351148: 1, 5.6781889543912651: 1, 5.6770578622309404: 1, 5.667232743208289: 1, 5.6663269110046262: 1, 5.6657842299120214: 1, 5.6632090905448775: 1, 5.642561907847484: 1, 5.6398659047061219: 1, 5.6362777621402964: 1, 5.6287152879945568: 1, 5.6247615054090767: 1, 5.6103102540197796: 1, 5.6059500794031809: 1, 5.6017615559867382: 1, 5.5932979186548604: 1, 5.5742408898396496: 1, 5.5741609996117667: 1, 5.5586445776716236: 1, 5.558413981206173: 1, 5.553375525462485: 1, 5.5427434348324534: 1, 5.5394563774194596: 1, 5.5323432089265996: 1, 5.5301010639457848: 1, 5.5239948765677171: 1, 5.5206852995310456: 1, 5.5095090204746482: 1, 5.5081568202116244: 1, 5.4982743605230544: 1, 5.4928423925546044: 1, 5.4885239542187705: 1, 5.4867376399228061: 1, 5.4853387289081548: 1, 5.4770350098179872: 1, 5.4598917407218508: 1, 5.4579060432172692: 1, 5.4570738476187115: 1, 5.446255507898984: 1, 5.4453363308524487: 1, 5.4375378861752939: 1, 5.4361702960993297: 1, 5.4228441882761942: 1, 5.4207108108128041: 1, 5.4110823547686442: 1, 5.404630624295387: 1, 5.4008023777676444: 1, 5.3914943537865208: 1, 5.3891939705023235: 1, 5.3856689913840263: 1, 5.3799890946062972: 1, 5.3793796667721079: 1, 5.372455761730877: 1, 5.3706263765430133: 1, 5.3675012372978079: 1, 5.3560347475607628: 1, 5.3534157647632163: 1, 5.3502792195388666: 1, 5.3485098240164843: 1, 5.346798423660875: 1, 5.3336595015257604: 1, 5.332646201072782: 1, 5.3312361637384145: 1, 5.3307051860152308: 1, 5.3267129275492326: 1, 5.3240609837248716: 1, 5.3213548857964845: 1, 5.3040263689167491: 1, 5.2969929637609754: 1, 5.2941376631682875: 1, 5.2938673413473234: 1, 5.2872841606695919: 1, 5.2848176643289451: 1, 5.2835324279503721: 1, 5.2793560986824248: 1, 5.2692388773634509: 1, 5.2691555419396563: 1, 5.2669955064646059: 1, 5.2630880621087721: 1, 5.2622825766129422: 1, 5.2561292166385369: 1, 5.2559642212214914: 1, 5.2486325914194021: 1, 5.2396121693605711: 1, 5.2306165004821912: 1, 5.2271141131250056: 1, 5.2150203667668746: 1, 5.2115738205161666: 1, 5.2079969574498257: 1, 5.2034854422396419: 1, 5.2024667710360726: 1, 5.2000258007593763: 1, 5.1992244548075091: 1, 5.1907802650151602: 1, 5.1755207134573302: 1, 5.1716346261166342: 1, 5.1636996462084426: 1, 5.1603024874627206: 1, 5.1579133312499614: 1, 5.1523468832659516: 1, 5.1463679968400173: 1, 5.145144160408945: 1, 5.1259960893022054: 1, 5.1255198809066886: 1, 5.1237826112868747: 1, 5.1216062451673832: 1, 5.1193522065955896: 1, 5.1179604813594377: 1, 5.1177421404517895: 1, 5.1139228831968593: 1, 5.1072490949851375: 1, 5.1030237237537719: 1, 5.1025743257449472: 1, 5.0984885113335956: 1, 5.097696226009834: 1, 5.0674687960841789: 1, 5.0590367405053893: 1, 5.0495964062951968: 1, 5.0458457030510822: 1, 5.039215875777451: 1, 5.0267720196679031: 1, 5.0222528802906412: 1, 5.0203000614831925: 1, 5.0114784980083265: 1, 5.0102227058436819: 1, 5.0022122226924415: 1, 4.999504281721368: 1, 4.996462434375764: 1, 4.9958760363520351: 1, 4.9908545453936313: 1, 4.9893152989302942: 1, 4.9892312433360546: 1, 4.9889124486631493: 1, 4.9843897250053217: 1, 4.9798559605149091: 1, 4.9790134230579222: 1, 4.9728388470025999: 1, 4.9715396274654013: 1, 4.9535005429243171: 1, 4.9505785027058318: 1, 4.9495285021309501: 1, 4.9354340272757016: 1, 4.9277598497305934: 1, 4.9268525701837227: 1, 4.9050799989749452: 1, 4.8888524453985163: 1, 4.8860530884528011: 1, 4.8819616047728607: 1, 4.8819495974959954: 1, 4.8747860937373808: 1, 4.8487681928651547: 1, 4.8256381470248586: 1, 4.8233892057370467: 1, 4.8161581019075417: 1, 4.8133306266063665: 1, 4.813235440766281: 1, 4.8110777822029931: 1, 4.8097470813422936: 1, 4.8072699899019717: 1, 4.8002809523051857: 1, 4.7978282672392352: 1, 4.7756936354540249: 1, 4.7529781804225735: 1, 4.7504177429852552: 1, 4.747434824702613: 1, 4.7381325517233828: 1, 4.7297365940488039: 1, 4.7259342359584338: 1, 4.7258593534223996: 1, 4.717034477019169: 1, 4.7124518656002152: 1, 4.7043467593985042: 1, 4.6916390041649603: 1, 4.655766823345882: 1, 4.6427740126447414: 1, 4.6416492693545948: 1, 4.6401967769671337: 1, 4.633326111107384: 1, 4.6305110906170555: 1, 4.6170968465376658: 1, 4.6099043974355833: 1, 4.5894362266069049: 1, 4.5851021006267185: 1, 4.5847715471786135: 1, 4.5747698181109797: 1, 4.5468588228796936: 1, 4.5393544508285251: 1, 4.5346057243805902: 1, 4.5216478894735976: 1, 4.5081499257801516: 1, 4.4973807039904532: 1, 4.4740160956487225: 1, 4.4302096611622783: 1, 4.418480180771005: 1, 4.4148144764944037: 1, 4.4076214146602428: 1, 4.3681601651691357: 1, 4.3590112012713753: 1, 4.3388983991369177: 1, 4.2845574477469759: 1, 4.2760751461454509: 1, 4.2524670031214375: 1, 4.2388951333587856: 1, 4.2370513840857082: 1, 4.1532287001321242: 1, 4.1105078549319822: 1, 3.8164841966236689: 1, 3.7612053099590921: 1})\n"
     ]
    }
   ],
   "source": [
    "# Number of words for a given frequency.\n",
    "print(Counter(sorted_text_occur))"
   ]
  },
  {
   "cell_type": "code",
   "execution_count": 31,
   "metadata": {
    "colab": {},
    "colab_type": "code",
    "id": "1sys81mqOQyh",
    "outputId": "9e15531f-4120-4079-9802-1923bea0c4d4"
   },
   "outputs": [
    {
     "name": "stdout",
     "output_type": "stream",
     "text": [
      "For values of alpha =  1e-05 The log loss is: 0.965001210792\n",
      "For values of alpha =  0.0001 The log loss is: 0.955190489247\n",
      "For values of alpha =  0.001 The log loss is: 1.20985693367\n",
      "For values of alpha =  0.01 The log loss is: 1.74360045344\n",
      "For values of alpha =  0.1 The log loss is: 1.94945887262\n",
      "For values of alpha =  1 The log loss is: 1.94610840708\n"
     ]
    },
    {
     "data": {
      "image/png": "[encoded data removed]",
      "text/plain": [
       "<matplotlib.figure.Figure at 0x34a02c10>"
      ]
     },
     "metadata": {},
     "output_type": "display_data"
    },
    {
     "name": "stdout",
     "output_type": "stream",
     "text": [
      "For values of best alpha =  0.0001 The train log loss is: 0.788498564723\n",
      "For values of best alpha =  0.0001 The cross validation log loss is: 0.955190489247\n",
      "For values of best alpha =  0.0001 The test log loss is: 1.14178265856\n"
     ]
    }
   ],
   "source": [
    "# Train a Logistic regression+Calibration model using text features whicha re on-hot encoded\n",
    "alpha = [10 ** x for x in range(-5, 1)]\n",
    "\n",
    "# read more about SGDClassifier() at http://scikit-learn.org/stable/modules/generated/sklearn.linear_model.SGDClassifier.html\n",
    "# ------------------------------\n",
    "# default parameters\n",
    "# SGDClassifier(loss=’hinge’, penalty=’l2’, alpha=0.0001, l1_ratio=0.15, fit_intercept=True, max_iter=None, tol=None, \n",
    "# shuffle=True, verbose=0, epsilon=0.1, n_jobs=1, random_state=None, learning_rate=’optimal’, eta0=0.0, power_t=0.5, \n",
    "# class_weight=None, warm_start=False, average=False, n_iter=None)\n",
    "\n",
    "# some of methods\n",
    "# fit(X, y[, coef_init, intercept_init, …])\tFit linear model with Stochastic Gradient Descent.\n",
    "# predict(X)\tPredict class labels for samples in X.\n",
    "\n",
    "#-------------------------------\n",
    "# video link: \n",
    "#------------------------------\n",
    "\n",
    "\n",
    "cv_log_error_array=[]\n",
    "for i in alpha:\n",
    "    clf = SGDClassifier(alpha=i, penalty='l2', loss='log', random_state=42)\n",
    "    clf.fit(train_text_feature_onehotCoding, y_train)\n",
    "    \n",
    "    sig_clf = CalibratedClassifierCV(clf, method=\"sigmoid\")\n",
    "    sig_clf.fit(train2_text_feature_onehotCoding, y_train)\n",
    "    predict_y = sig_clf.predict_proba(cv2_text_feature_onehotCoding)\n",
    "    cv_log_error_array.append(log_loss(y_cv, predict_y, labels=clf.classes_, eps=1e-15))\n",
    "    print('For values of alpha = ', i, \"The log loss is:\",log_loss(y_cv, predict_y, labels=clf.classes_, eps=1e-15))\n",
    "\n",
    "fig, ax = plt.subplots()\n",
    "ax.plot(alpha, cv_log_error_array,c='g')\n",
    "for i, txt in enumerate(np.round(cv_log_error_array,3)):\n",
    "    ax.annotate((alpha[i],np.round(txt,3)), (alpha[i],cv_log_error_array[i]))\n",
    "plt.grid()\n",
    "plt.title(\"Cross Validation Error for each alpha\")\n",
    "plt.xlabel(\"Alpha i's\")\n",
    "plt.ylabel(\"Error measure\")\n",
    "plt.show()\n",
    "\n",
    "\n",
    "best_alpha = np.argmin(cv_log_error_array)\n",
    "clf = SGDClassifier(alpha=alpha[best_alpha], penalty='l2', loss='log', random_state=42)\n",
    "clf.fit(train2_text_feature_onehotCoding, y_train)\n",
    "sig_clf = CalibratedClassifierCV(clf, method=\"sigmoid\")\n",
    "sig_clf.fit(train2_text_feature_onehotCoding, y_train)\n",
    "\n",
    "predict_y = sig_clf.predict_proba(train2_text_feature_onehotCoding)\n",
    "print('For values of best alpha = ', alpha[best_alpha], \"The train log loss is:\",log_loss(y_train, predict_y, labels=clf.classes_, eps=1e-15))\n",
    "predict_y = sig_clf.predict_proba(cv2_text_feature_onehotCoding)\n",
    "print('For values of best alpha = ', alpha[best_alpha], \"The cross validation log loss is:\",log_loss(y_cv, predict_y, labels=clf.classes_, eps=1e-15))\n",
    "predict_y = sig_clf.predict_proba(test2_text_feature_onehotCoding)\n",
    "print('For values of best alpha = ', alpha[best_alpha], \"The test log loss is:\",log_loss(y_test, predict_y, labels=clf.classes_, eps=1e-15))\n"
   ]
  },
  {
   "cell_type": "markdown",
   "metadata": {
    "colab_type": "text",
    "id": "s6AqmMa0OQym"
   },
   "source": [
    "<p style=\"font-size:18px;\"> <b>Q.</b> Is the Text feature stable across all the data sets (Test, Train, Cross validation)?</p>\n",
    "<p style=\"font-size:16px;\"> <b>Ans.</b> Not sure! But lets be very sure using the below analysis.  </p>"
   ]
  },
  {
   "cell_type": "code",
   "execution_count": 32,
   "metadata": {
    "colab": {},
    "colab_type": "code",
    "collapsed": true,
    "id": "p_cUhp-ZOQyn"
   },
   "outputs": [],
   "source": [
    "def get_intersec_text(df):\n",
    "    df_text_vec = CountVectorizer(min_df=3)\n",
    "    df_text_fea = df_text_vec.fit_transform(df['Gene_Variation_Text'])\n",
    "    df_text_features = df_text_vec.get_feature_names()\n",
    "\n",
    "    df_text_fea_counts = df_text_fea.sum(axis=0).A1\n",
    "    df_text_fea_dict = dict(zip(list(df_text_features),df_text_fea_counts))\n",
    "    len1 = len(set(df_text_features))\n",
    "    len2 = len(set(train_text_features) & set(df_text_features))\n",
    "    return len1,len2"
   ]
  },
  {
   "cell_type": "code",
   "execution_count": null,
   "metadata": {
    "collapsed": true
   },
   "outputs": [],
   "source": []
  },
  {
   "cell_type": "code",
   "execution_count": 33,
   "metadata": {
    "colab": {},
    "colab_type": "code",
    "id": "yjNmkGN9OQyo",
    "outputId": "a201cc3e-76ca-4fde-e2dd-932733853c2b"
   },
   "outputs": [
    {
     "name": "stdout",
     "output_type": "stream",
     "text": [
      "5.252 % of word of test data appeared in train data\n",
      "5.82 % of word of Cross Validation appeared in train data\n"
     ]
    }
   ],
   "source": [
    "len1,len2 = get_intersec_text(test_df)\n",
    "print(np.round((len2/len1)*100, 3), \"% of word of test data appeared in train data\")\n",
    "len1,len2 = get_intersec_text(cv_df)\n",
    "print(np.round((len2/len1)*100, 3), \"% of word of Cross Validation appeared in train data\")"
   ]
  },
  {
   "cell_type": "markdown",
   "metadata": {
    "colab_type": "text",
    "id": "J87b3_pEOQyE"
   },
   "source": [
    "<h3>3.2.3 Univariate Analysis on Gene_Variation Feature</h3>"
   ]
  },
  {
   "cell_type": "markdown",
   "metadata": {
    "colab_type": "text",
    "id": "Go1Lmf9tOQyF"
   },
   "source": [
    "1. How many unique words are present in train data?\n",
    "2. How are word frequencies distributed?\n",
    "3. How to featurize text field?\n",
    "4. Is the text feature useful in predicitng y_i?\n",
    "5. Is the text feature stable across train, test and CV datasets?"
   ]
  },
  {
   "cell_type": "code",
   "execution_count": 34,
   "metadata": {
    "colab": {},
    "colab_type": "code",
    "collapsed": true,
    "id": "xV59LrzTOQyF"
   },
   "outputs": [],
   "source": [
    "# cls_text is a data frame\n",
    "# for every row in data fram consider the 'TEXT'\n",
    "# split the words by space\n",
    "# make a dict with those words\n",
    "# increment its count whenever we see that word\n",
    "\n",
    "def extract_dictionary_paddle(cls_text):\n",
    "    dictionary = defaultdict(int)\n",
    "    for index, row in cls_text.iterrows():\n",
    "        for word in row['Gene_Variation'].split():\n",
    "            dictionary[word] +=1\n",
    "    return dictionary"
   ]
  },
  {
   "cell_type": "code",
   "execution_count": 35,
   "metadata": {
    "colab": {},
    "colab_type": "code",
    "collapsed": true,
    "id": "p8Y15a_1OQyH"
   },
   "outputs": [],
   "source": [
    "import math\n",
    "#https://stackoverflow.com/a/1602964\n",
    "def get_text_responsecoding(df):\n",
    "    text_feature_responseCoding = np.zeros((df.shape[0],9))\n",
    "    for i in range(0,9):\n",
    "        row_index = 0\n",
    "        for index, row in df.iterrows():\n",
    "            sum_prob = 0\n",
    "            for word in row['Gene_Variation'].split():\n",
    "                sum_prob += math.log(((dict_list[i].get(word,0)+10 )/(total_dict.get(word,0)+90)))\n",
    "            text_feature_responseCoding[row_index][i] = math.exp(sum_prob/len(row['Gene_Variation'].split()))\n",
    "            row_index += 1\n",
    "    return text_feature_responseCoding"
   ]
  },
  {
   "cell_type": "code",
   "execution_count": 36,
   "metadata": {
    "colab": {},
    "colab_type": "code",
    "id": "FnAaW3teOQyL",
    "outputId": "19a8f77b-6a9d-4454-8475-c59b340827d3"
   },
   "outputs": [
    {
     "name": "stdout",
     "output_type": "stream",
     "text": [
      "Total number of unique words in train data : 166\n"
     ]
    }
   ],
   "source": [
    "# building a CountVectorizer with all the words that occured minimum 3 times in train data\n",
    "text_vectorizer = TfidfVectorizer(min_df=3,ngram_range=(1,2),max_features=1500,use_idf= True)\n",
    "train_text_feature_onehotCoding = text_vectorizer.fit_transform(train_df['Gene_Variation'])\n",
    "# getting all the feature names (words)\n",
    "train_text_features= text_vectorizer.get_feature_names()\n",
    "\n",
    "# train_text_feature_onehotCoding.sum(axis=0).A1 will sum every row and returns (1*number of features) vector\n",
    "train_text_fea_counts = train_text_feature_onehotCoding.sum(axis=0).A1\n",
    "\n",
    "# zip(list(text_features),text_fea_counts) will zip a word with its number of times it occured\n",
    "text_fea_dict = dict(zip(list(train_text_features),train_text_fea_counts))\n",
    "\n",
    "\n",
    "print(\"Total number of unique words in train data :\", len(train_text_features))"
   ]
  },
  {
   "cell_type": "code",
   "execution_count": 37,
   "metadata": {
    "colab": {},
    "colab_type": "code",
    "collapsed": true,
    "id": "lO_CtltnOQyR"
   },
   "outputs": [],
   "source": [
    "dict_list = []\n",
    "# dict_list =[] contains 9 dictoinaries each corresponds to a class\n",
    "for i in range(1,10):\n",
    "    cls_text = train_df[train_df['Class']==i]\n",
    "    # build a word dict based on the words in that class\n",
    "    dict_list.append(extract_dictionary_paddle(cls_text))\n",
    "    # append it to dict_list\n",
    "\n",
    "# dict_list[i] is build on i'th  class text data\n",
    "# total_dict is buid on whole training text data\n",
    "total_dict = extract_dictionary_paddle(train_df)\n",
    "\n",
    "\n",
    "confuse_array = []\n",
    "for i in train_text_features:\n",
    "    ratios = []\n",
    "    max_val = -1\n",
    "    for j in range(0,9):\n",
    "        ratios.append((dict_list[j][i]+10 )/(total_dict[i]+90))\n",
    "    confuse_array.append(ratios)\n",
    "confuse_array = np.array(confuse_array)"
   ]
  },
  {
   "cell_type": "code",
   "execution_count": 38,
   "metadata": {
    "colab": {},
    "colab_type": "code",
    "collapsed": true,
    "id": "uaI8RUu0OQyU"
   },
   "outputs": [],
   "source": [
    "#response coding of text features\n",
    "train_text_feature_responseCoding  = get_text_responsecoding(train_df)\n",
    "test_text_feature_responseCoding  = get_text_responsecoding(test_df)\n",
    "cv_text_feature_responseCoding  = get_text_responsecoding(cv_df)"
   ]
  },
  {
   "cell_type": "code",
   "execution_count": 39,
   "metadata": {
    "colab": {},
    "colab_type": "code",
    "collapsed": true,
    "id": "ZYqYSUjoOQyV"
   },
   "outputs": [],
   "source": [
    "# https://stackoverflow.com/a/16202486\n",
    "# we convert each row values such that they sum to 1  \n",
    "train11_text_feature_responseCoding = (train_text_feature_responseCoding.T/train_text_feature_responseCoding.sum(axis=1)).T\n",
    "test11_text_feature_responseCoding = (test_text_feature_responseCoding.T/test_text_feature_responseCoding.sum(axis=1)).T\n",
    "cv11_text_feature_responseCoding = (cv_text_feature_responseCoding.T/cv_text_feature_responseCoding.sum(axis=1)).T"
   ]
  },
  {
   "cell_type": "code",
   "execution_count": 40,
   "metadata": {
    "colab": {},
    "colab_type": "code",
    "collapsed": true,
    "id": "3UEk7cxGOQyX"
   },
   "outputs": [],
   "source": [
    "# don't forget to normalize every feature\n",
    "train12_text_feature_onehotCoding = normalize(train_text_feature_onehotCoding, axis=0)\n",
    "\n",
    "# we use the same vectorizer that was trained on train data\n",
    "test_text_feature_onehotCoding = text_vectorizer.transform(test_df['Gene_Variation'])\n",
    "# don't forget to normalize every feature\n",
    "test12_text_feature_onehotCoding = normalize(test_text_feature_onehotCoding, axis=0)\n",
    "\n",
    "# we use the same vectorizer that was trained on train data\n",
    "cv_text_feature_onehotCoding = text_vectorizer.transform(cv_df['Gene_Variation'])\n",
    "# don't forget to normalize every feature\n",
    "cv12_text_feature_onehotCoding = normalize(cv_text_feature_onehotCoding, axis=0)"
   ]
  },
  {
   "cell_type": "code",
   "execution_count": 41,
   "metadata": {
    "colab": {},
    "colab_type": "code",
    "collapsed": true,
    "id": "Ox21AjDkOQyZ"
   },
   "outputs": [],
   "source": [
    "#https://stackoverflow.com/a/2258273/4084039\n",
    "sorted_text_fea_dict = dict(sorted(text_fea_dict.items(), key=lambda x: x[1] , reverse=True))\n",
    "sorted_text_occur = np.array(list(sorted_text_fea_dict.values()))"
   ]
  },
  {
   "cell_type": "code",
   "execution_count": 42,
   "metadata": {
    "colab": {},
    "colab_type": "code",
    "id": "gT0OrfaTOQyb",
    "outputId": "7dcd0214-afd8-4a7c-ee17-f26e7281975e"
   },
   "outputs": [
    {
     "name": "stdout",
     "output_type": "stream",
     "text": [
      "Counter({3.0: 14, 4.0: 6, 14.784556611492434: 4, 7.0: 4, 3.6626669693387144: 4, 18.0: 3, 3.4972864392399048: 3, 2.5165596077042749: 3, 27.777715676881947: 2, 10.0: 2, 9.8026695994996231: 2, 6.8164991201909526: 2, 6.8034568461653695: 2, 6.0: 2, 5.7214167537919796: 2, 5.0: 2, 3.8224583552652307: 2, 2.8423741630653789: 2, 1.6736836524162726: 2, 167.0096063363095: 1, 101.87371348970848: 1, 97.298084117405836: 1, 79.0: 1, 73.160909465964295: 1, 62.37918504405193: 1, 53.192692380354941: 1, 44.733022988270761: 1, 40.439939699134747: 1, 39.715349572076867: 1, 38.91809330209032: 1, 38.713915449593671: 1, 31.861530256020156: 1, 31.31069727229692: 1, 30.54612104910948: 1, 30.290982677175485: 1, 30.087061056510002: 1, 29.731173847974713: 1, 29.167046327158538: 1, 28.871689085749885: 1, 28.299793256360598: 1, 28.163554586923407: 1, 26.525452946126023: 1, 26.0: 1, 24.690153007672805: 1, 20.0: 1, 19.796163074114492: 1, 19.576078694809489: 1, 19.346093228881301: 1, 18.779771689793066: 1, 18.384190476110795: 1, 16.385244573529903: 1, 15.392436803247936: 1, 15.195715809481172: 1, 14.720627972241051: 1, 13.773555263314325: 1, 13.386285887548885: 1, 13.061981592175449: 1, 13.0: 1, 12.791255297356612: 1, 12.777118344356794: 1, 12.602880526281297: 1, 12.374936132669125: 1, 11.0: 1, 10.784817370458839: 1, 10.68678367859054: 1, 10.643053377522914: 1, 10.443686957433689: 1, 9.7416123878646896: 1, 9.6179156930506284: 1, 9.4205852925502516: 1, 8.9093601362660806: 1, 8.8069511248617474: 1, 8.6236776977192573: 1, 8.4306288225810029: 1, 8.4171545857675945: 1, 8.0: 1, 7.8115405269612257: 1, 7.6299310992840601: 1, 6.8880395564609733: 1, 6.7143652386982318: 1, 6.5056821973095369: 1, 6.3417966202620892: 1, 6.1666619944565042: 1, 5.8219102489857262: 1, 5.8091226221086423: 1, 5.6443656878095378: 1, 5.6310328710943676: 1, 5.2733227643429332: 1, 4.8278918098322121: 1, 4.8153940532557513: 1, 4.6528926119684009: 1, 4.4807844218006139: 1, 4.3972328281410755: 1, 4.3871957180242731: 1, 4.3364385024239116: 1, 4.0595387327354233: 1, 3.8346194699011904: 1, 3.5318234660925718: 1, 3.4953546014623162: 1, 3.4440197782304867: 1, 3.3446921911896066: 1, 3.1906166495979149: 1, 2.788969442117061: 1, 2.7520660730958286: 1, 2.6983441806391095: 1, 2.674185444638896: 1, 2.6375153859253766: 1, 2.6247706236876387: 1, 2.5826812503188479: 1, 2.5377219584095667: 1, 2.5048006218619152: 1, 2.4923704392205961: 1, 2.3483708892777919: 1, 2.3370835996221699: 1, 2.3123233366490643: 1, 2.2607526392136323: 1, 2.2140691031689013: 1, 2.1205580554229768: 1, 2.079511041292295: 1, 1.9653454848341063: 1, 1.8444610664959615: 1, 1.3581783482799616: 1})\n"
     ]
    }
   ],
   "source": [
    "# Number of words for a given frequency.\n",
    "print(Counter(sorted_text_occur))"
   ]
  },
  {
   "cell_type": "code",
   "execution_count": 43,
   "metadata": {
    "colab": {},
    "colab_type": "code",
    "id": "1sys81mqOQyh",
    "outputId": "9e15531f-4120-4079-9802-1923bea0c4d4"
   },
   "outputs": [
    {
     "name": "stdout",
     "output_type": "stream",
     "text": [
      "For values of alpha =  1e-05 The log loss is: 1.07904937777\n",
      "For values of alpha =  0.0001 The log loss is: 1.0765180233\n",
      "For values of alpha =  0.001 The log loss is: 1.0829681496\n",
      "For values of alpha =  0.01 The log loss is: 1.11876284855\n",
      "For values of alpha =  0.1 The log loss is: 1.21170191477\n",
      "For values of alpha =  1 The log loss is: 1.22964491808\n"
     ]
    },
    {
     "data": {
      "image/png": "[encoded data removed]",
      "text/plain": [
       "<matplotlib.figure.Figure at 0x34ab3870>"
      ]
     },
     "metadata": {},
     "output_type": "display_data"
    },
    {
     "name": "stdout",
     "output_type": "stream",
     "text": [
      "For values of best alpha =  0.0001 The train log loss is: 1.02696399714\n",
      "For values of best alpha =  0.0001 The cross validation log loss is: 1.0765180233\n",
      "For values of best alpha =  0.0001 The test log loss is: 1.15227853169\n"
     ]
    }
   ],
   "source": [
    "# Train a Logistic regression+Calibration model using text features whicha re on-hot encoded\n",
    "alpha = [10 ** x for x in range(-5, 1)]\n",
    "\n",
    "# read more about SGDClassifier() at http://scikit-learn.org/stable/modules/generated/sklearn.linear_model.SGDClassifier.html\n",
    "# ------------------------------\n",
    "# default parameters\n",
    "# SGDClassifier(loss=’hinge’, penalty=’l2’, alpha=0.0001, l1_ratio=0.15, fit_intercept=True, max_iter=None, tol=None, \n",
    "# shuffle=True, verbose=0, epsilon=0.1, n_jobs=1, random_state=None, learning_rate=’optimal’, eta0=0.0, power_t=0.5, \n",
    "# class_weight=None, warm_start=False, average=False, n_iter=None)\n",
    "\n",
    "# some of methods\n",
    "# fit(X, y[, coef_init, intercept_init, …])\tFit linear model with Stochastic Gradient Descent.\n",
    "# predict(X)\tPredict class labels for samples in X.\n",
    "\n",
    "#-------------------------------\n",
    "# video link: \n",
    "#------------------------------\n",
    "\n",
    "\n",
    "cv_log_error_array=[]\n",
    "for i in alpha:\n",
    "    clf = SGDClassifier(alpha=i, penalty='l2', loss='log', random_state=42)\n",
    "    clf.fit(train12_text_feature_onehotCoding, y_train)\n",
    "    \n",
    "    sig_clf = CalibratedClassifierCV(clf, method=\"sigmoid\")\n",
    "    sig_clf.fit(train12_text_feature_onehotCoding, y_train)\n",
    "    predict_y = sig_clf.predict_proba(cv12_text_feature_onehotCoding)\n",
    "    cv_log_error_array.append(log_loss(y_cv, predict_y, labels=clf.classes_, eps=1e-15))\n",
    "    print('For values of alpha = ', i, \"The log loss is:\",log_loss(y_cv, predict_y, labels=clf.classes_, eps=1e-15))\n",
    "\n",
    "fig, ax = plt.subplots()\n",
    "ax.plot(alpha, cv_log_error_array,c='g')\n",
    "for i, txt in enumerate(np.round(cv_log_error_array,3)):\n",
    "    ax.annotate((alpha[i],np.round(txt,3)), (alpha[i],cv_log_error_array[i]))\n",
    "plt.grid()\n",
    "plt.title(\"Cross Validation Error for each alpha\")\n",
    "plt.xlabel(\"Alpha i's\")\n",
    "plt.ylabel(\"Error measure\")\n",
    "plt.show()\n",
    "\n",
    "\n",
    "best_alpha = np.argmin(cv_log_error_array)\n",
    "clf = SGDClassifier(alpha=alpha[best_alpha], penalty='l2', loss='log', random_state=42)\n",
    "clf.fit(train12_text_feature_onehotCoding, y_train)\n",
    "sig_clf = CalibratedClassifierCV(clf, method=\"sigmoid\")\n",
    "sig_clf.fit(train12_text_feature_onehotCoding, y_train)\n",
    "\n",
    "predict_y = sig_clf.predict_proba(train12_text_feature_onehotCoding)\n",
    "print('For values of best alpha = ', alpha[best_alpha], \"The train log loss is:\",log_loss(y_train, predict_y, labels=clf.classes_, eps=1e-15))\n",
    "predict_y = sig_clf.predict_proba(cv12_text_feature_onehotCoding)\n",
    "print('For values of best alpha = ', alpha[best_alpha], \"The cross validation log loss is:\",log_loss(y_cv, predict_y, labels=clf.classes_, eps=1e-15))\n",
    "predict_y = sig_clf.predict_proba(test12_text_feature_onehotCoding)\n",
    "print('For values of best alpha = ', alpha[best_alpha], \"The test log loss is:\",log_loss(y_test, predict_y, labels=clf.classes_, eps=1e-15))\n"
   ]
  },
  {
   "cell_type": "markdown",
   "metadata": {
    "colab_type": "text",
    "id": "s6AqmMa0OQym"
   },
   "source": [
    "<p style=\"font-size:18px;\"> <b>Q.</b> Is the Text feature stable across all the data sets (Test, Train, Cross validation)?</p>\n",
    "<p style=\"font-size:16px;\"> <b>Ans.</b> Not sure! But lets be very sure using the below analysis.  </p>"
   ]
  },
  {
   "cell_type": "code",
   "execution_count": 44,
   "metadata": {
    "colab": {},
    "colab_type": "code",
    "collapsed": true,
    "id": "p_cUhp-ZOQyn"
   },
   "outputs": [],
   "source": [
    "def get_intersec_text(df):\n",
    "    df_text_vec = CountVectorizer(min_df=3)\n",
    "    df_text_fea = df_text_vec.fit_transform(df['Gene_Variation_Text'])\n",
    "    df_text_features = df_text_vec.get_feature_names()\n",
    "\n",
    "    df_text_fea_counts = df_text_fea.sum(axis=0).A1\n",
    "    df_text_fea_dict = dict(zip(list(df_text_features),df_text_fea_counts))\n",
    "    len1 = len(set(df_text_features))\n",
    "    len2 = len(set(train_text_features) & set(df_text_features))\n",
    "    return len1,len2"
   ]
  },
  {
   "cell_type": "code",
   "execution_count": 45,
   "metadata": {
    "colab": {},
    "colab_type": "code",
    "id": "yjNmkGN9OQyo",
    "outputId": "a201cc3e-76ca-4fde-e2dd-932733853c2b",
    "scrolled": true
   },
   "outputs": [
    {
     "name": "stdout",
     "output_type": "stream",
     "text": [
      "0.487 % of word of test data appeared in train data\n",
      "0.524 % of word of Cross Validation appeared in train data\n"
     ]
    }
   ],
   "source": [
    "len1,len2 = get_intersec_text(test_df)\n",
    "print(np.round((len2/len1)*100, 3), \"% of word of test data appeared in train data\")\n",
    "len1,len2 = get_intersec_text(cv_df)\n",
    "print(np.round((len2/len1)*100, 3), \"% of word of Cross Validation appeared in train data\")"
   ]
  },
  {
   "cell_type": "code",
   "execution_count": 46,
   "metadata": {
    "colab": {},
    "colab_type": "code",
    "collapsed": true,
    "id": "glsAAhozOQv3"
   },
   "outputs": [],
   "source": [
    "# code for response coding with Laplace smoothing.\n",
    "# alpha : used for laplace smoothing\n",
    "# feature: ['gene', 'variation']\n",
    "# df: ['train_df', 'test_df', 'cv_df']\n",
    "# algorithm\n",
    "# ----------\n",
    "# Consider all unique values and the number of occurances of given feature in train data dataframe\n",
    "# build a vector (1*9) , the first element = (number of times it occured in class1 + 10*alpha / number of time it occurred in total data+90*alpha)\n",
    "# gv_dict is like a look up table, for every gene it store a (1*9) representation of it\n",
    "# for a value of feature in df:\n",
    "# if it is in train data:\n",
    "# we add the vector that was stored in 'gv_dict' look up table to 'gv_fea'\n",
    "# if it is not there is train:\n",
    "# we add [1/9, 1/9, 1/9, 1/9,1/9, 1/9, 1/9, 1/9, 1/9] to 'gv_fea'\n",
    "# return 'gv_fea'\n",
    "# ----------------------\n",
    "\n",
    "# get_gv_fea_dict: Get Gene varaition Feature Dict\n",
    "def get_gv_fea_dict(alpha, feature, df):\n",
    "    # value_count: it contains a dict like\n",
    "    # print(train_df['Gene'].value_counts())\n",
    "    # output:\n",
    "    #        {BRCA1      174\n",
    "    #         TP53       106\n",
    "    #         EGFR        86\n",
    "    #         BRCA2       75\n",
    "    #         PTEN        69\n",
    "    #         KIT         61\n",
    "    #         BRAF        60\n",
    "    #         ERBB2       47\n",
    "    #         PDGFRA      46\n",
    "    #         ...}\n",
    "    # print(train_df['Variation'].value_counts())\n",
    "    # output:\n",
    "    # {\n",
    "    # Truncating_Mutations                     63\n",
    "    # Deletion                                 43\n",
    "    # Amplification                            43\n",
    "    # Fusions                                  22\n",
    "    # Overexpression                            3\n",
    "    # E17K                                      3\n",
    "    # Q61L                                      3\n",
    "    # S222D                                     2\n",
    "    # P130S                                     2\n",
    "    # ...\n",
    "    # }\n",
    "    value_count = train_df[feature].value_counts()\n",
    "    \n",
    "    # gv_dict : Gene Variation Dict, which contains the probability array for each gene/variation\n",
    "    gv_dict = dict()\n",
    "    \n",
    "    # denominator will contain the number of time that particular feature occured in whole data\n",
    "    for i, denominator in value_count.items():\n",
    "        # vec will contain (p(yi==1/Gi) probability of gene/variation belongs to perticular class\n",
    "        # vec is 9 diamensional vector\n",
    "        vec = []\n",
    "        for k in range(1,10):\n",
    "            # print(train_df.loc[(train_df['Class']==1) & (train_df['Gene']=='BRCA1')])\n",
    "            #         ID   Gene             Variation  Class  \n",
    "            # 2470  2470  BRCA1                S1715C      1   \n",
    "            # 2486  2486  BRCA1                S1841R      1   \n",
    "            # 2614  2614  BRCA1                   M1R      1   \n",
    "            # 2432  2432  BRCA1                L1657P      1   \n",
    "            # 2567  2567  BRCA1                T1685A      1   \n",
    "            # 2583  2583  BRCA1                E1660G      1   \n",
    "            # 2634  2634  BRCA1                W1718L      1   \n",
    "            # cls_cnt.shape[0] will return the number of rows\n",
    "\n",
    "            cls_cnt = train_df.loc[(train_df['Class']==k) & (train_df[feature]==i)]\n",
    "            \n",
    "            # cls_cnt.shape[0](numerator) will contain the number of time that particular feature occured in whole data\n",
    "            vec.append((cls_cnt.shape[0] + alpha*10)/ (denominator + 90*alpha))\n",
    "\n",
    "        # we are adding the gene/variation to the dict as key and vec as value\n",
    "        gv_dict[i]=vec\n",
    "    return gv_dict\n",
    "\n",
    "# Get Gene variation feature\n",
    "def get_gv_feature(alpha, feature, df):\n",
    "    # print(gv_dict)\n",
    "    #     {'BRCA1': [0.20075757575757575, 0.03787878787878788, 0.068181818181818177, 0.13636363636363635, 0.25, 0.19318181818181818, 0.03787878787878788, 0.03787878787878788, 0.03787878787878788], \n",
    "    #      'TP53': [0.32142857142857145, 0.061224489795918366, 0.061224489795918366, 0.27040816326530615, 0.061224489795918366, 0.066326530612244902, 0.051020408163265307, 0.051020408163265307, 0.056122448979591837], \n",
    "    #      'EGFR': [0.056818181818181816, 0.21590909090909091, 0.0625, 0.068181818181818177, 0.068181818181818177, 0.0625, 0.34659090909090912, 0.0625, 0.056818181818181816], \n",
    "    #      'BRCA2': [0.13333333333333333, 0.060606060606060608, 0.060606060606060608, 0.078787878787878782, 0.1393939393939394, 0.34545454545454546, 0.060606060606060608, 0.060606060606060608, 0.060606060606060608], \n",
    "    #      'PTEN': [0.069182389937106917, 0.062893081761006289, 0.069182389937106917, 0.46540880503144655, 0.075471698113207544, 0.062893081761006289, 0.069182389937106917, 0.062893081761006289, 0.062893081761006289], \n",
    "    #      'KIT': [0.066225165562913912, 0.25165562913907286, 0.072847682119205295, 0.072847682119205295, 0.066225165562913912, 0.066225165562913912, 0.27152317880794702, 0.066225165562913912, 0.066225165562913912], \n",
    "    #      'BRAF': [0.066666666666666666, 0.17999999999999999, 0.073333333333333334, 0.073333333333333334, 0.093333333333333338, 0.080000000000000002, 0.29999999999999999, 0.066666666666666666, 0.066666666666666666],\n",
    "    #      ...\n",
    "    #     }\n",
    "    gv_dict = get_gv_fea_dict(alpha, feature, df)\n",
    "    # value_count is similar in get_gv_fea_dict\n",
    "    value_count = train_df[feature].value_counts()\n",
    "    \n",
    "    # gv_fea: Gene_variation feature, it will contain the feature for each feature value in the data\n",
    "    gv_fea = []\n",
    "    # for every feature values in the given data frame we will check if it is there in the train data then we will add the feature to gv_fea\n",
    "    # if not we will add [1/9,1/9,1/9,1/9,1/9,1/9,1/9,1/9,1/9] to gv_fea\n",
    "    for index, row in df.iterrows():\n",
    "        if row[feature] in dict(value_count).keys():\n",
    "            gv_fea.append(gv_dict[row[feature]])\n",
    "        else:\n",
    "            gv_fea.append([1/9,1/9,1/9,1/9,1/9,1/9,1/9,1/9,1/9])\n",
    "#             gv_fea.append([-1,-1,-1,-1,-1,-1,-1,-1,-1])\n",
    "    return gv_fea"
   ]
  },
  {
   "cell_type": "markdown",
   "metadata": {
    "colab_type": "text",
    "id": "ShBOxDTyOQv5"
   },
   "source": [
    "when we caculate the probability of a feature belongs to any particular class, we apply laplace smoothing\n",
    "<li>(numerator + 10\\*alpha) / (denominator + 90\\*alpha) </li>"
   ]
  },
  {
   "cell_type": "markdown",
   "metadata": {
    "colab_type": "text",
    "id": "Burwv7NcOQv6"
   },
   "source": [
    "<h3>3.2.1 Univariate Analysis on Gene Feature</h3>"
   ]
  },
  {
   "cell_type": "markdown",
   "metadata": {
    "colab_type": "text",
    "id": "xvrxgsHNOQv7"
   },
   "source": [
    "<p style=\"font-size:18px;\"> <b>Q1.</b> Gene, What type of feature it is ?</p>\n",
    "<p style=\"font-size:16px;\"><b>Ans.</b> Gene is a categorical variable </p>\n",
    "<p style=\"font-size:18px;\"> <b>Q2.</b> How many categories are there and How they are distributed?</p>"
   ]
  },
  {
   "cell_type": "code",
   "execution_count": 47,
   "metadata": {
    "colab": {},
    "colab_type": "code",
    "id": "r4VErpbnOQv8",
    "outputId": "22f53282-bc40-474b-c939-7dcf706033c8"
   },
   "outputs": [
    {
     "name": "stdout",
     "output_type": "stream",
     "text": [
      "Number of Unique Genes : 225\n",
      "BRCA1     168\n",
      "TP53      103\n",
      "EGFR       99\n",
      "BRCA2      79\n",
      "PTEN       74\n",
      "BRAF       65\n",
      "KIT        54\n",
      "ERBB2      46\n",
      "ALK        42\n",
      "PDGFRA     40\n",
      "Name: Gene, dtype: int64\n"
     ]
    }
   ],
   "source": [
    "unique_genes = train_df['Gene'].value_counts()\n",
    "print('Number of Unique Genes :', unique_genes.shape[0])\n",
    "# the top 10 genes that occured most\n",
    "print(unique_genes.head(10))"
   ]
  },
  {
   "cell_type": "code",
   "execution_count": 48,
   "metadata": {
    "colab": {},
    "colab_type": "code",
    "id": "T5cMcwH-OQwD",
    "outputId": "5f043133-6293-4b95-bd59-ddcfeb9a28e7",
    "scrolled": true
   },
   "outputs": [
    {
     "name": "stdout",
     "output_type": "stream",
     "text": [
      "Ans: There are 225 different categories of genes in the train data, and they are distibuted as follows\n"
     ]
    }
   ],
   "source": [
    "print(\"Ans: There are\", unique_genes.shape[0] ,\"different categories of genes in the train data, and they are distibuted as follows\",)"
   ]
  },
  {
   "cell_type": "code",
   "execution_count": 49,
   "metadata": {
    "colab": {},
    "colab_type": "code",
    "id": "94tkkWJFOQwK",
    "outputId": "153fad44-85d0-4e8e-a300-70b87b552f03"
   },
   "outputs": [
    {
     "data": {
      "image/png": "[encoded data removed]",
      "text/plain": [
       "<matplotlib.figure.Figure at 0x32fd7050>"
      ]
     },
     "metadata": {},
     "output_type": "display_data"
    }
   ],
   "source": [
    "s = sum(unique_genes.values);\n",
    "h = unique_genes.values/s;\n",
    "plt.plot(h, label=\"Histrogram of Genes\")\n",
    "plt.xlabel('Index of a Gene')\n",
    "plt.ylabel('Number of Occurances')\n",
    "plt.legend()\n",
    "plt.grid()\n",
    "plt.show()\n"
   ]
  },
  {
   "cell_type": "code",
   "execution_count": 50,
   "metadata": {
    "colab": {},
    "colab_type": "code",
    "id": "GSYysPfLOQwP",
    "outputId": "bba66e8a-e270-42be-c94a-b8671af5cb8d"
   },
   "outputs": [
    {
     "data": {
      "image/png": "[encoded data removed]",
      "text/plain": [
       "<matplotlib.figure.Figure at 0x32fd7a10>"
      ]
     },
     "metadata": {},
     "output_type": "display_data"
    }
   ],
   "source": [
    "c = np.cumsum(h)\n",
    "plt.plot(c,label='Cumulative distribution of Genes')\n",
    "plt.grid()\n",
    "plt.legend()\n",
    "plt.show()"
   ]
  },
  {
   "cell_type": "markdown",
   "metadata": {
    "colab_type": "text",
    "id": "KA0msTHPOQwT"
   },
   "source": [
    "<p style=\"font-size:18px;\"> <b>Q3.</b> How to featurize this Gene feature ?</p>\n",
    "\n",
    "<p style=\"font-size:16px;\"><b>Ans.</b>there are two ways we can featurize this variable\n",
    "check out this video: https://www.appliedaicourse.com/course/applied-ai-course-online/lessons/handling-categorical-and-numerical-features/\n",
    "<ol><li>One hot Encoding</li><li>Response coding</li></ol></p>\n",
    "<p> We will choose the appropriate featurization based on the ML model we use.  For this problem of multi-class classification with categorical features, one-hot encoding is better for Logistic regression while response coding is better for Random Forests. </p>"
   ]
  },
  {
   "cell_type": "code",
   "execution_count": 51,
   "metadata": {
    "colab": {},
    "colab_type": "code",
    "collapsed": true,
    "id": "TcsbuDqcOQwU"
   },
   "outputs": [],
   "source": [
    "#response-coding of the Gene feature\n",
    "# alpha is used for laplace smoothing\n",
    "alpha = 1\n",
    "# train gene feature\n",
    "train_gene_feature_responseCoding = np.array(get_gv_feature(alpha, \"Gene\", train_df))\n",
    "# test gene feature\n",
    "test_gene_feature_responseCoding = np.array(get_gv_feature(alpha, \"Gene\", test_df))\n",
    "# cross validation gene feature\n",
    "cv_gene_feature_responseCoding = np.array(get_gv_feature(alpha, \"Gene\", cv_df))"
   ]
  },
  {
   "cell_type": "code",
   "execution_count": 52,
   "metadata": {
    "colab": {},
    "colab_type": "code",
    "id": "CejFANCDOQwb",
    "outputId": "a41edb6a-e47d-44a7-ef3d-3bd4217bd3f9"
   },
   "outputs": [
    {
     "name": "stdout",
     "output_type": "stream",
     "text": [
      "train_gene_feature_responseCoding is converted feature using respone coding method. The shape of gene feature: (2124, 9)\n"
     ]
    }
   ],
   "source": [
    "print(\"train_gene_feature_responseCoding is converted feature using respone coding method. The shape of gene feature:\", train_gene_feature_responseCoding.shape)"
   ]
  },
  {
   "cell_type": "code",
   "execution_count": 53,
   "metadata": {
    "colab": {},
    "colab_type": "code",
    "collapsed": true,
    "id": "7TiLWR3LOQwq"
   },
   "outputs": [],
   "source": [
    "# one-hot encoding of Gene feature.\n",
    "gene_vectorizer = TfidfVectorizer()\n",
    "train_gene_feature_onehotCoding = gene_vectorizer.fit_transform(train_df['Gene'])\n",
    "test_gene_feature_onehotCoding = gene_vectorizer.transform(test_df['Gene'])\n",
    "cv_gene_feature_onehotCoding = gene_vectorizer.transform(cv_df['Gene'])"
   ]
  },
  {
   "cell_type": "code",
   "execution_count": 54,
   "metadata": {
    "colab": {},
    "colab_type": "code",
    "id": "foYJ4tJnOQwt",
    "outputId": "7ef274c9-c886-4b7b-fe27-aedf4c5509cc"
   },
   "outputs": [
    {
     "data": {
      "text/plain": [
       "197      EGFR\n",
       "2451    BRCA1\n",
       "2520    BRCA1\n",
       "1437     SPOP\n",
       "1046     TSC2\n",
       "Name: Gene, dtype: object"
      ]
     },
     "execution_count": 54,
     "metadata": {},
     "output_type": "execute_result"
    }
   ],
   "source": [
    "train_df['Gene'].head()"
   ]
  },
  {
   "cell_type": "code",
   "execution_count": 55,
   "metadata": {
    "colab": {},
    "colab_type": "code",
    "id": "7aohGapoOQwx",
    "outputId": "55e5439a-e0ea-4957-dbfe-b817214a3ffa"
   },
   "outputs": [
    {
     "data": {
      "text/plain": [
       "['abl1',\n",
       " 'acvr1',\n",
       " 'ago2',\n",
       " 'akt1',\n",
       " 'akt2',\n",
       " 'akt3',\n",
       " 'alk',\n",
       " 'apc',\n",
       " 'ar',\n",
       " 'araf',\n",
       " 'arid1b',\n",
       " 'arid2',\n",
       " 'asxl2',\n",
       " 'atm',\n",
       " 'atr',\n",
       " 'aurka',\n",
       " 'aurkb',\n",
       " 'b2m',\n",
       " 'bap1',\n",
       " 'bard1',\n",
       " 'bcl2',\n",
       " 'bcor',\n",
       " 'braf',\n",
       " 'brca1',\n",
       " 'brca2',\n",
       " 'brip1',\n",
       " 'btk',\n",
       " 'card11',\n",
       " 'carm1',\n",
       " 'casp8',\n",
       " 'cbl',\n",
       " 'ccnd1',\n",
       " 'ccnd2',\n",
       " 'ccnd3',\n",
       " 'ccne1',\n",
       " 'cdh1',\n",
       " 'cdk12',\n",
       " 'cdk4',\n",
       " 'cdk6',\n",
       " 'cdkn1a',\n",
       " 'cdkn1b',\n",
       " 'cdkn2a',\n",
       " 'cdkn2b',\n",
       " 'cdkn2c',\n",
       " 'cebpa',\n",
       " 'chek2',\n",
       " 'cic',\n",
       " 'crebbp',\n",
       " 'ctcf',\n",
       " 'ctla4',\n",
       " 'ctnnb1',\n",
       " 'ddr2',\n",
       " 'dicer1',\n",
       " 'dnmt3a',\n",
       " 'dnmt3b',\n",
       " 'egfr',\n",
       " 'eif1ax',\n",
       " 'elf3',\n",
       " 'ep300',\n",
       " 'epas1',\n",
       " 'epcam',\n",
       " 'erbb2',\n",
       " 'erbb3',\n",
       " 'erbb4',\n",
       " 'ercc2',\n",
       " 'ercc3',\n",
       " 'ercc4',\n",
       " 'erg',\n",
       " 'errfi1',\n",
       " 'esr1',\n",
       " 'etv6',\n",
       " 'ewsr1',\n",
       " 'ezh2',\n",
       " 'fam58a',\n",
       " 'fanca',\n",
       " 'fat1',\n",
       " 'fbxw7',\n",
       " 'fgf4',\n",
       " 'fgfr1',\n",
       " 'fgfr2',\n",
       " 'fgfr3',\n",
       " 'fgfr4',\n",
       " 'flt3',\n",
       " 'foxa1',\n",
       " 'foxl2',\n",
       " 'foxo1',\n",
       " 'foxp1',\n",
       " 'gata3',\n",
       " 'gna11',\n",
       " 'gnaq',\n",
       " 'gnas',\n",
       " 'h3f3a',\n",
       " 'hla',\n",
       " 'hnf1a',\n",
       " 'hras',\n",
       " 'idh1',\n",
       " 'idh2',\n",
       " 'igf1r',\n",
       " 'ikbke',\n",
       " 'inpp4b',\n",
       " 'jak1',\n",
       " 'jak2',\n",
       " 'jun',\n",
       " 'kdm5c',\n",
       " 'kdm6a',\n",
       " 'kdr',\n",
       " 'keap1',\n",
       " 'kit',\n",
       " 'kmt2a',\n",
       " 'kmt2c',\n",
       " 'kmt2d',\n",
       " 'knstrn',\n",
       " 'kras',\n",
       " 'lats2',\n",
       " 'map2k1',\n",
       " 'map2k2',\n",
       " 'map2k4',\n",
       " 'map3k1',\n",
       " 'mapk1',\n",
       " 'mdm2',\n",
       " 'med12',\n",
       " 'mef2b',\n",
       " 'men1',\n",
       " 'met',\n",
       " 'mga',\n",
       " 'mlh1',\n",
       " 'mpl',\n",
       " 'msh2',\n",
       " 'msh6',\n",
       " 'mtor',\n",
       " 'myc',\n",
       " 'mycn',\n",
       " 'myd88',\n",
       " 'ncor1',\n",
       " 'nf1',\n",
       " 'nf2',\n",
       " 'nfe2l2',\n",
       " 'nfkbia',\n",
       " 'nkx2',\n",
       " 'notch1',\n",
       " 'notch2',\n",
       " 'npm1',\n",
       " 'nras',\n",
       " 'nsd1',\n",
       " 'ntrk1',\n",
       " 'ntrk2',\n",
       " 'ntrk3',\n",
       " 'nup93',\n",
       " 'pbrm1',\n",
       " 'pdgfra',\n",
       " 'pdgfrb',\n",
       " 'pik3ca',\n",
       " 'pik3cb',\n",
       " 'pik3cd',\n",
       " 'pik3r1',\n",
       " 'pik3r2',\n",
       " 'pim1',\n",
       " 'pms1',\n",
       " 'pms2',\n",
       " 'pole',\n",
       " 'ppp2r1a',\n",
       " 'ppp6c',\n",
       " 'prdm1',\n",
       " 'pten',\n",
       " 'ptpn11',\n",
       " 'ptprd',\n",
       " 'ptprt',\n",
       " 'rac1',\n",
       " 'rad21',\n",
       " 'rad50',\n",
       " 'rad51c',\n",
       " 'rad54l',\n",
       " 'raf1',\n",
       " 'rasa1',\n",
       " 'rb1',\n",
       " 'rbm10',\n",
       " 'ret',\n",
       " 'rheb',\n",
       " 'rhoa',\n",
       " 'rictor',\n",
       " 'rit1',\n",
       " 'rnf43',\n",
       " 'ros1',\n",
       " 'rras2',\n",
       " 'runx1',\n",
       " 'rxra',\n",
       " 'rybp',\n",
       " 'sdhb',\n",
       " 'sdhc',\n",
       " 'setd2',\n",
       " 'sf3b1',\n",
       " 'shoc2',\n",
       " 'shq1',\n",
       " 'smad2',\n",
       " 'smad3',\n",
       " 'smad4',\n",
       " 'smarca4',\n",
       " 'smo',\n",
       " 'sos1',\n",
       " 'sox9',\n",
       " 'spop',\n",
       " 'src',\n",
       " 'srsf2',\n",
       " 'stat3',\n",
       " 'stk11',\n",
       " 'tcf7l2',\n",
       " 'tert',\n",
       " 'tet1',\n",
       " 'tet2',\n",
       " 'tgfbr1',\n",
       " 'tgfbr2',\n",
       " 'tmprss2',\n",
       " 'tp53',\n",
       " 'tp53bp1',\n",
       " 'tsc1',\n",
       " 'tsc2',\n",
       " 'u2af1',\n",
       " 'vegfa',\n",
       " 'vhl',\n",
       " 'whsc1',\n",
       " 'whsc1l1',\n",
       " 'xpo1',\n",
       " 'xrcc2',\n",
       " 'yap1']"
      ]
     },
     "execution_count": 55,
     "metadata": {},
     "output_type": "execute_result"
    }
   ],
   "source": [
    "gene_vectorizer.get_feature_names()"
   ]
  },
  {
   "cell_type": "code",
   "execution_count": 56,
   "metadata": {
    "colab": {},
    "colab_type": "code",
    "id": "RnMPvg4OOQw0",
    "outputId": "50876d1f-0e50-409c-9455-e320bde9082f"
   },
   "outputs": [
    {
     "name": "stdout",
     "output_type": "stream",
     "text": [
      "train_gene_feature_onehotCoding is converted feature using one-hot encoding method. The shape of gene feature: (2124, 224)\n"
     ]
    }
   ],
   "source": [
    "print(\"train_gene_feature_onehotCoding is converted feature using one-hot encoding method. The shape of gene feature:\", train_gene_feature_onehotCoding.shape)"
   ]
  },
  {
   "cell_type": "markdown",
   "metadata": {
    "colab_type": "text",
    "id": "dKDkc6TeOQw-"
   },
   "source": [
    "<p style=\"font-size:18px;\"> <b>Q4.</b> How good is this gene feature  in predicting y_i?</p>"
   ]
  },
  {
   "cell_type": "markdown",
   "metadata": {
    "colab_type": "text",
    "id": "vJ-891DNOQw_"
   },
   "source": [
    "There are many ways to estimate how good a feature is, in predicting y_i. One of the good methods is to build a proper ML model using just this feature. In this case, we will build a logistic regression model using only Gene feature (one hot encoded) to predict y_i."
   ]
  },
  {
   "cell_type": "code",
   "execution_count": 57,
   "metadata": {
    "colab": {},
    "colab_type": "code",
    "id": "3lcCW-oEOQxA",
    "outputId": "358383a1-b788-4825-f2de-612c15db2c5d"
   },
   "outputs": [
    {
     "name": "stdout",
     "output_type": "stream",
     "text": [
      "For values of alpha =  1e-05 The log loss is: 1.1910486108\n",
      "For values of alpha =  0.0001 The log loss is: 1.16209520974\n",
      "For values of alpha =  0.001 The log loss is: 1.19269092752\n",
      "For values of alpha =  0.01 The log loss is: 1.29212128122\n",
      "For values of alpha =  0.1 The log loss is: 1.40667271664\n",
      "For values of alpha =  1 The log loss is: 1.44662987845\n"
     ]
    },
    {
     "data": {
      "image/png": "[encoded data removed]",
      "text/plain": [
       "<matplotlib.figure.Figure at 0x3483d9b0>"
      ]
     },
     "metadata": {},
     "output_type": "display_data"
    },
    {
     "name": "stdout",
     "output_type": "stream",
     "text": [
      "For values of best alpha =  0.0001 The train log loss is: 1.01495005064\n",
      "For values of best alpha =  0.0001 The cross validation log loss is: 1.16209520974\n",
      "For values of best alpha =  0.0001 The test log loss is: 1.18447022513\n"
     ]
    }
   ],
   "source": [
    "\n",
    "\n",
    "\n",
    "alpha = [10 ** x for x in range(-5, 1)] # hyperparam for SGD classifier.\n",
    "\n",
    "# read more about SGDClassifier() at http://scikit-learn.org/stable/modules/generated/sklearn.linear_model.SGDClassifier.html\n",
    "# ------------------------------\n",
    "# default parameters\n",
    "# SGDClassifier(loss=’hinge’, penalty=’l2’, alpha=0.0001, l1_ratio=0.15, fit_intercept=True, max_iter=None, tol=None, \n",
    "# shuffle=True, verbose=0, epsilon=0.1, n_jobs=1, random_state=None, learning_rate=’optimal’, eta0=0.0, power_t=0.5, \n",
    "# class_weight=None, warm_start=False, average=False, n_iter=None)\n",
    "\n",
    "# some of methods\n",
    "# fit(X, y[, coef_init, intercept_init, …])\tFit linear model with Stochastic Gradient Descent.\n",
    "# predict(X)\tPredict class labels for samples in X.\n",
    "\n",
    "#-------------------------------\n",
    "# video link: \n",
    "#------------------------------\n",
    "\n",
    "\n",
    "cv_log_error_array=[]\n",
    "for i in alpha:\n",
    "    clf = SGDClassifier(alpha=i, penalty='l2', loss='log', random_state=42)\n",
    "    clf.fit(train_gene_feature_onehotCoding, y_train)\n",
    "    sig_clf = CalibratedClassifierCV(clf, method=\"sigmoid\")\n",
    "    sig_clf.fit(train_gene_feature_onehotCoding, y_train)\n",
    "    predict_y = sig_clf.predict_proba(cv_gene_feature_onehotCoding)\n",
    "    cv_log_error_array.append(log_loss(y_cv, predict_y, labels=clf.classes_, eps=1e-15))\n",
    "    print('For values of alpha = ', i, \"The log loss is:\",log_loss(y_cv, predict_y, labels=clf.classes_, eps=1e-15))\n",
    "\n",
    "fig, ax = plt.subplots()\n",
    "ax.plot(alpha, cv_log_error_array,c='g')\n",
    "for i, txt in enumerate(np.round(cv_log_error_array,3)):\n",
    "    ax.annotate((alpha[i],np.round(txt,3)), (alpha[i],cv_log_error_array[i]))\n",
    "plt.grid()\n",
    "plt.title(\"Cross Validation Error for each alpha\")\n",
    "plt.xlabel(\"Alpha i's\")\n",
    "plt.ylabel(\"Error measure\")\n",
    "plt.show()\n",
    "\n",
    "\n",
    "best_alpha = np.argmin(cv_log_error_array)\n",
    "clf = SGDClassifier(alpha=alpha[best_alpha], penalty='l2', loss='log', random_state=42)\n",
    "clf.fit(train_gene_feature_onehotCoding, y_train)\n",
    "sig_clf = CalibratedClassifierCV(clf, method=\"sigmoid\")\n",
    "sig_clf.fit(train_gene_feature_onehotCoding, y_train)\n",
    "\n",
    "predict_y = sig_clf.predict_proba(train_gene_feature_onehotCoding)\n",
    "print('For values of best alpha = ', alpha[best_alpha], \"The train log loss is:\",log_loss(y_train, predict_y, labels=clf.classes_, eps=1e-15))\n",
    "predict_y = sig_clf.predict_proba(cv_gene_feature_onehotCoding)\n",
    "print('For values of best alpha = ', alpha[best_alpha], \"The cross validation log loss is:\",log_loss(y_cv, predict_y, labels=clf.classes_, eps=1e-15))\n",
    "predict_y = sig_clf.predict_proba(test_gene_feature_onehotCoding)\n",
    "print('For values of best alpha = ', alpha[best_alpha], \"The test log loss is:\",log_loss(y_test, predict_y, labels=clf.classes_, eps=1e-15))\n"
   ]
  },
  {
   "cell_type": "markdown",
   "metadata": {
    "colab_type": "text",
    "id": "AZjuFgxwOQxE"
   },
   "source": [
    "<p style=\"font-size:18px;\"> <b>Q5.</b> Is the Gene feature stable across all the data sets (Test, Train, Cross validation)?</p>\n",
    "<p style=\"font-size:16px;\"> <b>Ans.</b> Yes, it is. Otherwise, the CV and Test errors would be significantly more than train error. </p>"
   ]
  },
  {
   "cell_type": "code",
   "execution_count": 58,
   "metadata": {
    "colab": {},
    "colab_type": "code",
    "id": "PjY8VwyuOQxK",
    "outputId": "2cba8438-2273-46f0-b43f-942f62e31536"
   },
   "outputs": [
    {
     "name": "stdout",
     "output_type": "stream",
     "text": [
      "Q6. How many data points in Test and CV datasets are covered by the  225  genes in train dataset?\n",
      "Ans\n",
      "1. In test data 636 out of 665 : 95.6390977443609\n",
      "2. In cross validation data 513 out of  532 : 96.42857142857143\n"
     ]
    }
   ],
   "source": [
    "print(\"Q6. How many data points in Test and CV datasets are covered by the \", unique_genes.shape[0], \" genes in train dataset?\")\n",
    "\n",
    "test_coverage=test_df[test_df['Gene'].isin(list(set(train_df['Gene'])))].shape[0]\n",
    "cv_coverage=cv_df[cv_df['Gene'].isin(list(set(train_df['Gene'])))].shape[0]\n",
    "\n",
    "print('Ans\\n1. In test data',test_coverage, 'out of',test_df.shape[0], \":\",(test_coverage/test_df.shape[0])*100)\n",
    "print('2. In cross validation data',cv_coverage, 'out of ',cv_df.shape[0],\":\" ,(cv_coverage/cv_df.shape[0])*100)"
   ]
  },
  {
   "cell_type": "markdown",
   "metadata": {
    "colab_type": "text",
    "id": "GZ8dUhbbOQxN"
   },
   "source": [
    "<h3>3.2.2 Univariate Analysis on Variation Feature</h3>"
   ]
  },
  {
   "cell_type": "markdown",
   "metadata": {
    "colab_type": "text",
    "id": "ZH8TKwYjOQxO"
   },
   "source": [
    "<p style=\"font-size:18px;\"> <b>Q7.</b> Variation, What type of feature is it ?</p>\n",
    "<p style=\"font-size:16px;\"><b>Ans.</b> Variation is a categorical variable </p>\n",
    "<p style=\"font-size:18px;\"> <b>Q8.</b> How many categories are there?</p>"
   ]
  },
  {
   "cell_type": "code",
   "execution_count": 59,
   "metadata": {
    "colab": {},
    "colab_type": "code",
    "id": "ipBDKwsoOQxP",
    "outputId": "eadee41d-e613-4601-d605-5d48d1157284"
   },
   "outputs": [
    {
     "name": "stdout",
     "output_type": "stream",
     "text": [
      "Number of Unique Variations : 1934\n",
      "Truncating_Mutations    54\n",
      "Deletion                51\n",
      "Amplification           43\n",
      "Fusions                 19\n",
      "Overexpression           4\n",
      "G12V                     3\n",
      "T58I                     3\n",
      "A146V                    2\n",
      "G13V                     2\n",
      "E17K                     2\n",
      "Name: Variation, dtype: int64\n"
     ]
    }
   ],
   "source": [
    "unique_variations = train_df['Variation'].value_counts()\n",
    "print('Number of Unique Variations :', unique_variations.shape[0])\n",
    "# the top 10 variations that occured most\n",
    "print(unique_variations.head(10))"
   ]
  },
  {
   "cell_type": "code",
   "execution_count": 60,
   "metadata": {
    "colab": {},
    "colab_type": "code",
    "id": "K9wWS-NYOQxV",
    "outputId": "c391bf04-d611-4d0e-b720-3c3d270defa3",
    "scrolled": true
   },
   "outputs": [
    {
     "name": "stdout",
     "output_type": "stream",
     "text": [
      "Ans: There are 1934 different categories of variations in the train data, and they are distibuted as follows\n"
     ]
    }
   ],
   "source": [
    "print(\"Ans: There are\", unique_variations.shape[0] ,\"different categories of variations in the train data, and they are distibuted as follows\",)"
   ]
  },
  {
   "cell_type": "code",
   "execution_count": 61,
   "metadata": {
    "colab": {},
    "colab_type": "code",
    "id": "B7NmwrkpOQxk",
    "outputId": "eb46584d-d5b4-4e82-aac4-37fd2f22515d"
   },
   "outputs": [
    {
     "data": {
      "image/png": "[encoded data removed]",
      "text/plain": [
       "<matplotlib.figure.Figure at 0x34abc5f0>"
      ]
     },
     "metadata": {},
     "output_type": "display_data"
    }
   ],
   "source": [
    "s = sum(unique_variations.values);\n",
    "h = unique_variations.values/s;\n",
    "plt.plot(h, label=\"Histrogram of Variations\")\n",
    "plt.xlabel('Index of a Variation')\n",
    "plt.ylabel('Number of Occurances')\n",
    "plt.legend()\n",
    "plt.grid()\n",
    "plt.show()"
   ]
  },
  {
   "cell_type": "code",
   "execution_count": 62,
   "metadata": {
    "colab": {},
    "colab_type": "code",
    "id": "9sWC9-MXOQxo",
    "outputId": "3f6a6acc-d848-4cf0-c8ab-a39b91ab48a7",
    "scrolled": true
   },
   "outputs": [
    {
     "name": "stdout",
     "output_type": "stream",
     "text": [
      "[ 0.02542373  0.04943503  0.06967985 ...,  0.99905838  0.99952919  1.        ]\n"
     ]
    },
    {
     "data": {
      "image/png": "[encoded data removed]",
      "text/plain": [
       "<matplotlib.figure.Figure at 0x329df310>"
      ]
     },
     "metadata": {},
     "output_type": "display_data"
    }
   ],
   "source": [
    "c = np.cumsum(h)\n",
    "print(c)\n",
    "plt.plot(c,label='Cumulative distribution of Variations')\n",
    "plt.grid()\n",
    "plt.legend()\n",
    "plt.show()"
   ]
  },
  {
   "cell_type": "markdown",
   "metadata": {
    "colab_type": "text",
    "id": "e_jKtHYZOQxt"
   },
   "source": [
    "<p style=\"font-size:18px;\"> <b>Q9.</b> How to featurize this Variation feature ?</p>\n",
    "\n",
    "<p style=\"font-size:16px;\"><b>Ans.</b>There are two ways we can featurize this variable\n",
    "check out this video: https://www.appliedaicourse.com/course/applied-ai-course-online/lessons/handling-categorical-and-numerical-features/\n",
    "<ol><li>One hot Encoding</li><li>Response coding</li></ol></p>\n",
    "<p> We will be using both these methods to featurize the Variation Feature </p>"
   ]
  },
  {
   "cell_type": "code",
   "execution_count": 63,
   "metadata": {
    "colab": {},
    "colab_type": "code",
    "collapsed": true,
    "id": "3FG82Rp2OQxt"
   },
   "outputs": [],
   "source": [
    "# alpha is used for laplace smoothing\n",
    "alpha = 1\n",
    "# train gene feature\n",
    "train_variation_feature_responseCoding = np.array(get_gv_feature(alpha, \"Variation\", train_df))\n",
    "# test gene feature\n",
    "test_variation_feature_responseCoding = np.array(get_gv_feature(alpha, \"Variation\", test_df))\n",
    "# cross validation gene feature\n",
    "cv_variation_feature_responseCoding = np.array(get_gv_feature(alpha, \"Variation\", cv_df))"
   ]
  },
  {
   "cell_type": "code",
   "execution_count": 64,
   "metadata": {
    "colab": {},
    "colab_type": "code",
    "id": "FETgZxHEOQxw",
    "outputId": "af57ed48-b196-4e43-979d-10967e810459"
   },
   "outputs": [
    {
     "name": "stdout",
     "output_type": "stream",
     "text": [
      "train_variation_feature_responseCoding is a converted feature using the response coding method. The shape of Variation feature: (2124, 9)\n"
     ]
    }
   ],
   "source": [
    "print(\"train_variation_feature_responseCoding is a converted feature using the response coding method. The shape of Variation feature:\", train_variation_feature_responseCoding.shape)"
   ]
  },
  {
   "cell_type": "code",
   "execution_count": 65,
   "metadata": {
    "colab": {},
    "colab_type": "code",
    "collapsed": true,
    "id": "ruAYi3HwOQxy"
   },
   "outputs": [],
   "source": [
    "# one-hot encoding of variation feature.\n",
    "variation_vectorizer = TfidfVectorizer()\n",
    "train_variation_feature_onehotCoding = variation_vectorizer.fit_transform(train_df['Variation'])\n",
    "test_variation_feature_onehotCoding = variation_vectorizer.transform(test_df['Variation'])\n",
    "cv_variation_feature_onehotCoding = variation_vectorizer.transform(cv_df['Variation'])"
   ]
  },
  {
   "cell_type": "code",
   "execution_count": 66,
   "metadata": {
    "colab": {},
    "colab_type": "code",
    "id": "pUdraWMYOQx3",
    "outputId": "bdd245b0-9379-40fd-bd85-14c69b311650"
   },
   "outputs": [
    {
     "name": "stdout",
     "output_type": "stream",
     "text": [
      "train_variation_feature_onehotEncoded is converted feature using the onne-hot encoding method. The shape of Variation feature: (2124, 1960)\n"
     ]
    }
   ],
   "source": [
    "print(\"train_variation_feature_onehotEncoded is converted feature using the onne-hot encoding method. The shape of Variation feature:\", train_variation_feature_onehotCoding.shape)"
   ]
  },
  {
   "cell_type": "markdown",
   "metadata": {
    "colab_type": "text",
    "id": "hhg1JfPtOQx7"
   },
   "source": [
    "<p style=\"font-size:18px;\"> <b>Q10.</b> How good is this Variation feature  in predicting y_i?</p>"
   ]
  },
  {
   "cell_type": "markdown",
   "metadata": {
    "colab_type": "text",
    "id": "1zjZ4FBNOQx9"
   },
   "source": [
    "Let's build a model just like the earlier!"
   ]
  },
  {
   "cell_type": "code",
   "execution_count": 67,
   "metadata": {
    "colab": {},
    "colab_type": "code",
    "id": "RDa2yRKfOQx9",
    "outputId": "d93b4e13-e709-4ca0-a703-3c3df48884f7",
    "scrolled": false
   },
   "outputs": [
    {
     "name": "stdout",
     "output_type": "stream",
     "text": [
      "For values of alpha =  1e-05 The log loss is: 1.6963050883\n",
      "For values of alpha =  0.0001 The log loss is: 1.68890381639\n",
      "For values of alpha =  0.001 The log loss is: 1.69299606207\n",
      "For values of alpha =  0.01 The log loss is: 1.69715134923\n",
      "For values of alpha =  0.1 The log loss is: 1.70440111647\n",
      "For values of alpha =  1 The log loss is: 1.70855817605\n"
     ]
    },
    {
     "data": {
      "image/png": "[encoded data removed]",
      "text/plain": [
       "<matplotlib.figure.Figure at 0x322a03b0>"
      ]
     },
     "metadata": {},
     "output_type": "display_data"
    },
    {
     "name": "stdout",
     "output_type": "stream",
     "text": [
      "For values of best alpha =  0.0001 The train log loss is: 0.792307463551\n",
      "For values of best alpha =  0.0001 The cross validation log loss is: 1.68890381639\n",
      "For values of best alpha =  0.0001 The test log loss is: 1.71061459004\n"
     ]
    }
   ],
   "source": [
    "alpha = [10 ** x for x in range(-5, 1)]\n",
    "\n",
    "# read more about SGDClassifier() at http://scikit-learn.org/stable/modules/generated/sklearn.linear_model.SGDClassifier.html\n",
    "# ------------------------------\n",
    "# default parameters\n",
    "# SGDClassifier(loss=’hinge’, penalty=’l2’, alpha=0.0001, l1_ratio=0.15, fit_intercept=True, max_iter=None, tol=None, \n",
    "# shuffle=True, verbose=0, epsilon=0.1, n_jobs=1, random_state=None, learning_rate=’optimal’, eta0=0.0, power_t=0.5, \n",
    "# class_weight=None, warm_start=False, average=False, n_iter=None)\n",
    "\n",
    "# some of methods\n",
    "# fit(X, y[, coef_init, intercept_init, …])\tFit linear model with Stochastic Gradient Descent.\n",
    "# predict(X)\tPredict class labels for samples in X.\n",
    "\n",
    "#-------------------------------\n",
    "# video link: \n",
    "#------------------------------\n",
    "\n",
    "\n",
    "cv_log_error_array=[]\n",
    "for i in alpha:\n",
    "    clf = SGDClassifier(alpha=i, penalty='l2', loss='log', random_state=42)\n",
    "    clf.fit(train_variation_feature_onehotCoding, y_train)\n",
    "    \n",
    "    sig_clf = CalibratedClassifierCV(clf, method=\"sigmoid\")\n",
    "    sig_clf.fit(train_variation_feature_onehotCoding, y_train)\n",
    "    predict_y = sig_clf.predict_proba(cv_variation_feature_onehotCoding)\n",
    "    \n",
    "    cv_log_error_array.append(log_loss(y_cv, predict_y, labels=clf.classes_, eps=1e-15))\n",
    "    print('For values of alpha = ', i, \"The log loss is:\",log_loss(y_cv, predict_y, labels=clf.classes_, eps=1e-15))\n",
    "\n",
    "fig, ax = plt.subplots()\n",
    "ax.plot(alpha, cv_log_error_array,c='g')\n",
    "for i, txt in enumerate(np.round(cv_log_error_array,3)):\n",
    "    ax.annotate((alpha[i],np.round(txt,3)), (alpha[i],cv_log_error_array[i]))\n",
    "plt.grid()\n",
    "plt.title(\"Cross Validation Error for each alpha\")\n",
    "plt.xlabel(\"Alpha i's\")\n",
    "plt.ylabel(\"Error measure\")\n",
    "plt.show()\n",
    "\n",
    "\n",
    "best_alpha = np.argmin(cv_log_error_array)\n",
    "clf = SGDClassifier(alpha=alpha[best_alpha], penalty='l2', loss='log', random_state=42)\n",
    "clf.fit(train_variation_feature_onehotCoding, y_train)\n",
    "sig_clf = CalibratedClassifierCV(clf, method=\"sigmoid\")\n",
    "sig_clf.fit(train_variation_feature_onehotCoding, y_train)\n",
    "\n",
    "predict_y = sig_clf.predict_proba(train_variation_feature_onehotCoding)\n",
    "print('For values of best alpha = ', alpha[best_alpha], \"The train log loss is:\",log_loss(y_train, predict_y, labels=clf.classes_, eps=1e-15))\n",
    "predict_y = sig_clf.predict_proba(cv_variation_feature_onehotCoding)\n",
    "print('For values of best alpha = ', alpha[best_alpha], \"The cross validation log loss is:\",log_loss(y_cv, predict_y, labels=clf.classes_, eps=1e-15))\n",
    "predict_y = sig_clf.predict_proba(test_variation_feature_onehotCoding)\n",
    "print('For values of best alpha = ', alpha[best_alpha], \"The test log loss is:\",log_loss(y_test, predict_y, labels=clf.classes_, eps=1e-15))\n"
   ]
  },
  {
   "cell_type": "markdown",
   "metadata": {
    "colab_type": "text",
    "id": "gO-gq3cFOQyB"
   },
   "source": [
    "<p style=\"font-size:18px;\"> <b>Q11.</b> Is the Variation feature stable across all the data sets (Test, Train, Cross validation)?</p>\n",
    "<p style=\"font-size:16px;\"> <b>Ans.</b> Not sure! But lets be very sure using the below analysis. </p>"
   ]
  },
  {
   "cell_type": "code",
   "execution_count": 68,
   "metadata": {
    "colab": {},
    "colab_type": "code",
    "id": "pBZ5v2yBOQyB",
    "outputId": "1cd66f72-ed15-463d-fda0-6bad80b3cee4",
    "scrolled": true
   },
   "outputs": [
    {
     "name": "stdout",
     "output_type": "stream",
     "text": [
      "Q12. How many data points are covered by total  1934  genes in test and cross validation data sets?\n",
      "Ans\n",
      "1. In test data 65 out of 665 : 9.774436090225564\n",
      "2. In cross validation data 66 out of  532 : 12.406015037593985\n"
     ]
    }
   ],
   "source": [
    "print(\"Q12. How many data points are covered by total \", unique_variations.shape[0], \" genes in test and cross validation data sets?\")\n",
    "test_coverage=test_df[test_df['Variation'].isin(list(set(train_df['Variation'])))].shape[0]\n",
    "cv_coverage=cv_df[cv_df['Variation'].isin(list(set(train_df['Variation'])))].shape[0]\n",
    "print('Ans\\n1. In test data',test_coverage, 'out of',test_df.shape[0], \":\",(test_coverage/test_df.shape[0])*100)\n",
    "print('2. In cross validation data',cv_coverage, 'out of ',cv_df.shape[0],\":\" ,(cv_coverage/cv_df.shape[0])*100)"
   ]
  },
  {
   "cell_type": "markdown",
   "metadata": {
    "colab_type": "text",
    "id": "J87b3_pEOQyE"
   },
   "source": [
    "<h3>3.2.3 Univariate Analysis on Text Feature</h3>"
   ]
  },
  {
   "cell_type": "markdown",
   "metadata": {
    "colab_type": "text",
    "id": "Go1Lmf9tOQyF"
   },
   "source": [
    "1. How many unique words are present in train data?\n",
    "2. How are word frequencies distributed?\n",
    "3. How to featurize text field?\n",
    "4. Is the text feature useful in predicitng y_i?\n",
    "5. Is the text feature stable across train, test and CV datasets?"
   ]
  },
  {
   "cell_type": "code",
   "execution_count": 69,
   "metadata": {
    "colab": {},
    "colab_type": "code",
    "collapsed": true,
    "id": "xV59LrzTOQyF"
   },
   "outputs": [],
   "source": [
    "# cls_text is a data frame\n",
    "# for every row in data fram consider the 'TEXT'\n",
    "# split the words by space\n",
    "# make a dict with those words\n",
    "# increment its count whenever we see that word\n",
    "\n",
    "def extract_dictionary_paddle(cls_text):\n",
    "    dictionary = defaultdict(int)\n",
    "    for index, row in cls_text.iterrows():\n",
    "        for word in row['TEXT'].split():\n",
    "            dictionary[word] +=1\n",
    "    return dictionary"
   ]
  },
  {
   "cell_type": "code",
   "execution_count": 70,
   "metadata": {
    "colab": {},
    "colab_type": "code",
    "collapsed": true,
    "id": "p8Y15a_1OQyH"
   },
   "outputs": [],
   "source": [
    "import math\n",
    "#https://stackoverflow.com/a/1602964\n",
    "def get_text_responsecoding(df):\n",
    "    text_feature_responseCoding = np.zeros((df.shape[0],9))\n",
    "    for i in range(0,9):\n",
    "        row_index = 0\n",
    "        for index, row in df.iterrows():\n",
    "            sum_prob = 0\n",
    "            for word in row['TEXT'].split():\n",
    "                sum_prob += math.log(((dict_list[i].get(word,0)+10 )/(total_dict.get(word,0)+90)))\n",
    "            text_feature_responseCoding[row_index][i] = math.exp(sum_prob/len(row['TEXT'].split()))\n",
    "            row_index += 1\n",
    "    return text_feature_responseCoding"
   ]
  },
  {
   "cell_type": "code",
   "execution_count": 71,
   "metadata": {
    "colab": {},
    "colab_type": "code",
    "id": "FnAaW3teOQyL",
    "outputId": "19a8f77b-6a9d-4454-8475-c59b340827d3"
   },
   "outputs": [
    {
     "name": "stdout",
     "output_type": "stream",
     "text": [
      "Total number of unique words in train data : 1000\n"
     ]
    }
   ],
   "source": [
    "# building a CountVectorizer with all the words that occured minimum 3 times in train data\n",
    "text_vectorizer = TfidfVectorizer(max_features=1000)\n",
    "train_text_feature_onehotCoding = text_vectorizer.fit_transform(train_df['TEXT'])\n",
    "# getting all the feature names (words)\n",
    "train_text_features= text_vectorizer.get_feature_names()\n",
    "\n",
    "# train_text_feature_onehotCoding.sum(axis=0).A1 will sum every row and returns (1*number of features) vector\n",
    "train_text_fea_counts = train_text_feature_onehotCoding.sum(axis=0).A1\n",
    "\n",
    "# zip(list(text_features),text_fea_counts) will zip a word with its number of times it occured\n",
    "text_fea_dict = dict(zip(list(train_text_features),train_text_fea_counts))\n",
    "\n",
    "\n",
    "print(\"Total number of unique words in train data :\", len(train_text_features))"
   ]
  },
  {
   "cell_type": "code",
   "execution_count": 72,
   "metadata": {
    "colab": {},
    "colab_type": "code",
    "collapsed": true,
    "id": "lO_CtltnOQyR"
   },
   "outputs": [],
   "source": [
    "dict_list = []\n",
    "# dict_list =[] contains 9 dictoinaries each corresponds to a class\n",
    "for i in range(1,10):\n",
    "    cls_text = train_df[train_df['Class']==i]\n",
    "    # build a word dict based on the words in that class\n",
    "    dict_list.append(extract_dictionary_paddle(cls_text))\n",
    "    # append it to dict_list\n",
    "\n",
    "# dict_list[i] is build on i'th  class text data\n",
    "# total_dict is buid on whole training text data\n",
    "total_dict = extract_dictionary_paddle(train_df)\n",
    "\n",
    "\n",
    "confuse_array = []\n",
    "for i in train_text_features:\n",
    "    ratios = []\n",
    "    max_val = -1\n",
    "    for j in range(0,9):\n",
    "        ratios.append((dict_list[j][i]+10 )/(total_dict[i]+90))\n",
    "    confuse_array.append(ratios)\n",
    "confuse_array = np.array(confuse_array)"
   ]
  },
  {
   "cell_type": "code",
   "execution_count": 73,
   "metadata": {
    "colab": {},
    "colab_type": "code",
    "collapsed": true,
    "id": "uaI8RUu0OQyU"
   },
   "outputs": [],
   "source": [
    "#response coding of text features\n",
    "train_text_feature_responseCoding  = get_text_responsecoding(train_df)\n",
    "test_text_feature_responseCoding  = get_text_responsecoding(test_df)\n",
    "cv_text_feature_responseCoding  = get_text_responsecoding(cv_df)"
   ]
  },
  {
   "cell_type": "code",
   "execution_count": 74,
   "metadata": {
    "colab": {},
    "colab_type": "code",
    "collapsed": true,
    "id": "ZYqYSUjoOQyV"
   },
   "outputs": [],
   "source": [
    "# https://stackoverflow.com/a/16202486\n",
    "# we convert each row values such that they sum to 1  \n",
    "train_text_feature_responseCoding = (train_text_feature_responseCoding.T/train_text_feature_responseCoding.sum(axis=1)).T\n",
    "test_text_feature_responseCoding = (test_text_feature_responseCoding.T/test_text_feature_responseCoding.sum(axis=1)).T\n",
    "cv_text_feature_responseCoding = (cv_text_feature_responseCoding.T/cv_text_feature_responseCoding.sum(axis=1)).T"
   ]
  },
  {
   "cell_type": "code",
   "execution_count": 75,
   "metadata": {
    "colab": {},
    "colab_type": "code",
    "collapsed": true,
    "id": "3UEk7cxGOQyX"
   },
   "outputs": [],
   "source": [
    "# don't forget to normalize every feature\n",
    "train_text_feature_onehotCoding = normalize(train_text_feature_onehotCoding, axis=0)\n",
    "\n",
    "# we use the same vectorizer that was trained on train data\n",
    "test_text_feature_onehotCoding = text_vectorizer.transform(test_df['TEXT'])\n",
    "# don't forget to normalize every feature\n",
    "test_text_feature_onehotCoding = normalize(test_text_feature_onehotCoding, axis=0)\n",
    "\n",
    "# we use the same vectorizer that was trained on train data\n",
    "cv_text_feature_onehotCoding = text_vectorizer.transform(cv_df['TEXT'])\n",
    "# don't forget to normalize every feature\n",
    "cv_text_feature_onehotCoding = normalize(cv_text_feature_onehotCoding, axis=0)"
   ]
  },
  {
   "cell_type": "code",
   "execution_count": null,
   "metadata": {
    "collapsed": true
   },
   "outputs": [],
   "source": []
  },
  {
   "cell_type": "code",
   "execution_count": 76,
   "metadata": {
    "colab": {},
    "colab_type": "code",
    "collapsed": true,
    "id": "Ox21AjDkOQyZ"
   },
   "outputs": [],
   "source": [
    "#https://stackoverflow.com/a/2258273/4084039\n",
    "sorted_text_fea_dict = dict(sorted(text_fea_dict.items(), key=lambda x: x[1] , reverse=True))\n",
    "sorted_text_occur = np.array(list(sorted_text_fea_dict.values()))"
   ]
  },
  {
   "cell_type": "code",
   "execution_count": 77,
   "metadata": {
    "colab": {},
    "colab_type": "code",
    "id": "gT0OrfaTOQyb",
    "outputId": "7dcd0214-afd8-4a7c-ee17-f26e7281975e"
   },
   "outputs": [
    {
     "name": "stdout",
     "output_type": "stream",
     "text": [
      "Counter({245.88166498527278: 1, 179.82159179511257: 1, 134.05989870322057: 1, 130.29459475070541: 1, 129.75436667160531: 1, 121.97234277331032: 1, 121.63651946289058: 1, 115.78315991193355: 1, 109.63707911267619: 1, 106.63500724801639: 1, 105.32216078608: 1, 93.089602787907623: 1, 87.18291111208309: 1, 85.672793952922333: 1, 82.283598325169748: 1, 82.172828274372861: 1, 79.687429410701995: 1, 78.01494984190056: 1, 77.566546222376004: 1, 77.46785770388388: 1, 74.574460059270095: 1, 74.484209318091814: 1, 70.907400701525717: 1, 69.050798017985485: 1, 67.205977772291732: 1, 65.706200572138357: 1, 64.666038820347055: 1, 63.649654802783559: 1, 63.419570059199977: 1, 63.256947168473808: 1, 63.025249864824637: 1, 62.944043490574224: 1, 62.727743949327227: 1, 61.899484701226626: 1, 58.974781443179744: 1, 58.437185358034249: 1, 56.184265763721456: 1, 55.279575921812253: 1, 53.436044498155098: 1, 53.098619837615558: 1, 52.001723067613469: 1, 49.24548732359213: 1, 48.622676118284694: 1, 48.617889444883623: 1, 47.216129521908769: 1, 46.702110405746836: 1, 46.25614438223807: 1, 45.526205348164218: 1, 45.260776425252466: 1, 45.181084266948496: 1, 43.588740460826934: 1, 43.430414035235977: 1, 42.989448028819517: 1, 42.867934914365748: 1, 42.69287093648844: 1, 42.220969520116597: 1, 42.164069556612397: 1, 42.010819368476625: 1, 41.46540568225425: 1, 41.418674418063169: 1, 41.358950702059431: 1, 41.250907811646215: 1, 40.76420914087776: 1, 40.630504500394309: 1, 39.980477790931239: 1, 39.666560559175942: 1, 39.23310406431758: 1, 38.650300878932477: 1, 38.649810048527705: 1, 38.601540607414726: 1, 38.570179378580221: 1, 38.146689167910999: 1, 37.76392190280685: 1, 36.43454856580064: 1, 36.094130337945693: 1, 36.04077657615337: 1, 36.026912588435358: 1, 35.790835162189239: 1, 35.669347621038632: 1, 35.412571703510572: 1, 35.347459571823158: 1, 35.207473704834698: 1, 35.098873574583187: 1, 35.027593023682883: 1, 34.794833205036269: 1, 34.590965677207002: 1, 34.393643405150293: 1, 33.955564719070381: 1, 33.661789470121541: 1, 33.446350591727906: 1, 33.389872151577826: 1, 32.836021200086449: 1, 32.659894956983941: 1, 32.385240247102658: 1, 32.317242654848343: 1, 32.180940822976893: 1, 32.078944534103016: 1, 32.029326486748687: 1, 31.887901088447713: 1, 31.770324244929036: 1, 31.724286998140247: 1, 31.670451797932316: 1, 31.551632944748143: 1, 31.536003068083463: 1, 31.481255677120451: 1, 31.457806081677404: 1, 31.357153964081895: 1, 31.167854698635537: 1, 31.148499587320142: 1, 31.118068180632815: 1, 31.02770595773411: 1, 30.996240573035251: 1, 30.958425393097709: 1, 30.918207262308467: 1, 30.910266609353098: 1, 30.864450265639665: 1, 30.79324805844033: 1, 30.758307780313324: 1, 30.261278574964873: 1, 30.069965676258569: 1, 29.671449486655707: 1, 29.450681632121171: 1, 29.34480921659685: 1, 29.051747699906109: 1, 28.960534883720371: 1, 28.543030638041291: 1, 28.526444170878694: 1, 28.5254458012407: 1, 28.515983863873391: 1, 28.336789627454163: 1, 28.140074311567062: 1, 28.131289580689451: 1, 27.771069497430826: 1, 27.735368910155557: 1, 27.475864036918473: 1, 27.468727990023922: 1, 27.450227360782883: 1, 27.287306683326943: 1, 26.941509466790819: 1, 26.919256694917301: 1, 26.891140594974861: 1, 26.835417894527698: 1, 26.452611241546791: 1, 26.436364439593163: 1, 26.43294541272089: 1, 26.426567228101646: 1, 26.210434510335087: 1, 26.198996306701378: 1, 26.187341908744379: 1, 25.728335956930295: 1, 25.654060052435312: 1, 25.643547519398954: 1, 25.522591616972718: 1, 25.501230233627826: 1, 25.420445118186116: 1, 25.276993853575178: 1, 25.239374739024374: 1, 25.235097117848479: 1, 25.23015545663084: 1, 25.026389976038253: 1, 24.8815921653439: 1, 24.784696800574487: 1, 24.72435844332967: 1, 24.6289111259604: 1, 24.580209895544169: 1, 24.314374166014289: 1, 24.240634641519293: 1, 24.114727477082639: 1, 24.094831065959578: 1, 24.078744027852597: 1, 24.069869559406524: 1, 23.99606273288779: 1, 23.975184570153068: 1, 23.796601654478938: 1, 23.767682008500199: 1, 23.70980771439546: 1, 23.54148945057295: 1, 23.497819684364032: 1, 23.27795203525832: 1, 23.209755547915677: 1, 23.166410097076401: 1, 23.134473999686769: 1, 23.091330459482119: 1, 23.0793295559189: 1, 23.061075967934737: 1, 22.95549164919645: 1, 22.826018853749304: 1, 22.680781525989065: 1, 22.628198623878603: 1, 22.624824010197713: 1, 22.594358974767225: 1, 22.587732123056288: 1, 22.568677729721319: 1, 22.511464672364522: 1, 22.501056347181304: 1, 22.386558826305205: 1, 22.298604074244249: 1, 22.205176006391575: 1, 22.204887653226809: 1, 22.160078322606573: 1, 22.146867303362832: 1, 22.142145437786631: 1, 22.05157625071482: 1, 21.965138104841156: 1, 21.954134685694836: 1, 21.883506439950612: 1, 21.883464415555167: 1, 21.838675364588607: 1, 21.802563001239058: 1, 21.602493550792179: 1, 21.600879215655802: 1, 21.588040877664113: 1, 21.545869719866168: 1, 21.509945439171588: 1, 21.509423202695974: 1, 21.50256845982495: 1, 21.349024539300249: 1, 21.274604169828997: 1, 21.236540944516971: 1, 21.213875276075232: 1, 21.112867141854906: 1, 21.03838223304184: 1, 21.016658583119671: 1, 20.990333332040564: 1, 20.975604912299509: 1, 20.941637486222017: 1, 20.933342015088058: 1, 20.886968049510081: 1, 20.871967894272515: 1, 20.844847538832834: 1, 20.704466124094786: 1, 20.681194754804505: 1, 20.636286455879283: 1, 20.421058541627133: 1, 20.402135239017795: 1, 20.362498372494549: 1, 20.319931095870743: 1, 20.299345374350789: 1, 20.251647910259301: 1, 20.222158164633445: 1, 20.12971909436391: 1, 20.075705742911442: 1, 20.036507846646252: 1, 20.027464970654592: 1, 19.972733356717132: 1, 19.938194897755455: 1, 19.86736478799055: 1, 19.864118531819567: 1, 19.855229083348988: 1, 19.829854829915128: 1, 19.819191317177335: 1, 19.73828329361514: 1, 19.677688307938375: 1, 19.660044788746358: 1, 19.632823763843188: 1, 19.595528515176699: 1, 19.510070054418694: 1, 19.480408808683055: 1, 19.450410378562513: 1, 19.404746528489689: 1, 19.403631402819197: 1, 19.324138681402427: 1, 19.322078799757719: 1, 19.300079419350602: 1, 19.294638792870494: 1, 19.2406408254746: 1, 19.229697767254073: 1, 19.175778172319863: 1, 19.134472519787764: 1, 19.12412840546013: 1, 19.10805030746328: 1, 19.106427236336881: 1, 19.08607488983278: 1, 19.066240452510609: 1, 19.046814069007603: 1, 19.039383676351431: 1, 18.909724760170352: 1, 18.906743683078105: 1, 18.858745394081982: 1, 18.800385608669529: 1, 18.742964054453022: 1, 18.705399677540292: 1, 18.645154666580691: 1, 18.567892879442983: 1, 18.565121678797833: 1, 18.564275606105966: 1, 18.550352821682115: 1, 18.511652044041178: 1, 18.378083971751181: 1, 18.32656964098534: 1, 18.282083392452492: 1, 18.273911228577127: 1, 18.263364037961722: 1, 18.251732895571596: 1, 18.240752923549703: 1, 18.202613953228589: 1, 18.159013171417467: 1, 18.108446778345844: 1, 18.099028786067556: 1, 18.092435476038698: 1, 18.07990323637862: 1, 18.02767959613217: 1, 17.999487036545357: 1, 17.881788276562126: 1, 17.865152126030047: 1, 17.863219228591813: 1, 17.825440830580295: 1, 17.758877399383969: 1, 17.74288863208735: 1, 17.697845269909166: 1, 17.692376405397432: 1, 17.638698928467736: 1, 17.572169253808561: 1, 17.464040683702347: 1, 17.42965460905776: 1, 17.415141450519304: 1, 17.411935038136818: 1, 17.383312090317091: 1, 17.361608158692793: 1, 17.281491137678639: 1, 17.277376780842904: 1, 17.268391320060644: 1, 17.22436392259835: 1, 17.208804031521435: 1, 17.196909846395869: 1, 17.187990920644694: 1, 17.157745913808299: 1, 17.144072914209932: 1, 17.139906527576638: 1, 17.105188803846243: 1, 17.070402834517065: 1, 17.05807849310963: 1, 17.025587888205976: 1, 16.99301741263875: 1, 16.964205636811876: 1, 16.895869935989364: 1, 16.872309431957039: 1, 16.870369026049893: 1, 16.866853793612496: 1, 16.862977082205951: 1, 16.853148836519001: 1, 16.826103394525632: 1, 16.821670578827032: 1, 16.8018205429047: 1, 16.800989069782805: 1, 16.792327049279937: 1, 16.773658454761957: 1, 16.676900309325518: 1, 16.666457029841794: 1, 16.638975414479653: 1, 16.635517974234929: 1, 16.576408301520832: 1, 16.493915692238016: 1, 16.307534879077831: 1, 16.307113647066533: 1, 16.241542494412933: 1, 16.224139047681952: 1, 16.221954707064175: 1, 16.215300909641613: 1, 16.21443835803812: 1, 16.213870579369324: 1, 16.185671853329335: 1, 16.159543503231642: 1, 16.12619438478934: 1, 16.124772992186688: 1, 16.112733444895774: 1, 16.080541835645707: 1, 16.064289185440735: 1, 16.035695006325852: 1, 16.025438973259849: 1, 15.99131781169984: 1, 15.987044436588464: 1, 15.981909780715526: 1, 15.969742976114661: 1, 15.933847845622093: 1, 15.911261079802058: 1, 15.85567306088463: 1, 15.850119966301547: 1, 15.841929742642987: 1, 15.766679344603316: 1, 15.720875719155893: 1, 15.660301602630987: 1, 15.620977542202787: 1, 15.587320834775406: 1, 15.521184816489454: 1, 15.485074518047362: 1, 15.48344637645519: 1, 15.478437746047117: 1, 15.438887669960932: 1, 15.42240447186157: 1, 15.421655678550895: 1, 15.364514609381757: 1, 15.300616139656302: 1, 15.293096423477973: 1, 15.281537356466897: 1, 15.281060111015321: 1, 15.183602577660059: 1, 15.165778864708697: 1, 15.15038568124899: 1, 15.149856825315595: 1, 15.142095664227814: 1, 15.116736730420161: 1, 15.086920575981576: 1, 15.086568278682449: 1, 15.082421298355793: 1, 15.001982277991127: 1, 14.989655225791234: 1, 14.977979720947799: 1, 14.9530244843736: 1, 14.952161387828076: 1, 14.926452405500296: 1, 14.922868352924517: 1, 14.920178964069251: 1, 14.87417418087912: 1, 14.814774948738135: 1, 14.776814966025526: 1, 14.767110408716356: 1, 14.730755440622794: 1, 14.699769348612051: 1, 14.699260865522652: 1, 14.692535214985387: 1, 14.629999611022678: 1, 14.613331246781657: 1, 14.61254237131222: 1, 14.597656248960789: 1, 14.595280488894817: 1, 14.593769066844347: 1, 14.578917490724846: 1, 14.576189327571903: 1, 14.565322577282112: 1, 14.565195895312181: 1, 14.523193031245299: 1, 14.518705810010482: 1, 14.50546370887446: 1, 14.503187725921336: 1, 14.501564247748552: 1, 14.474021512324727: 1, 14.459555842557508: 1, 14.456607205806852: 1, 14.429257043720957: 1, 14.427611759907991: 1, 14.41909163694185: 1, 14.404350170175192: 1, 14.34461728542329: 1, 14.338745989377534: 1, 14.326920741042992: 1, 14.296271964613256: 1, 14.285704331098447: 1, 14.282065047824707: 1, 14.265347932900783: 1, 14.222317696265286: 1, 14.21558787271495: 1, 14.183480390826015: 1, 14.162807148035425: 1, 14.134644587211852: 1, 14.107387580625414: 1, 14.068373013757: 1, 14.061125877244283: 1, 14.049005776187606: 1, 14.020583259735815: 1, 14.020526471139592: 1, 14.008121386747632: 1, 13.994376909030551: 1, 13.988832010747847: 1, 13.986030208764571: 1, 13.974945739507337: 1, 13.971529852720693: 1, 13.957636756548046: 1, 13.886659255476019: 1, 13.881626462539636: 1, 13.743326038937159: 1, 13.713623103923707: 1, 13.708138510746036: 1, 13.696420665254967: 1, 13.675160282864898: 1, 13.649968328602839: 1, 13.585125729737651: 1, 13.575702024223496: 1, 13.5725495806296: 1, 13.562527124889046: 1, 13.512365478582019: 1, 13.511922024116625: 1, 13.498229334050322: 1, 13.480341166771215: 1, 13.473981930213535: 1, 13.465382219593062: 1, 13.442239592261112: 1, 13.438992868636323: 1, 13.430727383533563: 1, 13.415263939661308: 1, 13.413807784483149: 1, 13.385886410977617: 1, 13.375132660793023: 1, 13.373368574550506: 1, 13.285569211834046: 1, 13.275159129406587: 1, 13.242243041428209: 1, 13.241901690403601: 1, 13.221655365579053: 1, 13.219754760687303: 1, 13.190590578450019: 1, 13.189505793985056: 1, 13.180717803713122: 1, 13.180170364217361: 1, 13.165019346385371: 1, 13.146546351704547: 1, 13.059120990953812: 1, 13.058907436207168: 1, 13.055662868968657: 1, 13.055598852563902: 1, 13.049929755435382: 1, 13.019552791395055: 1, 12.990571273640851: 1, 12.959383048719408: 1, 12.942561991793532: 1, 12.902421354110134: 1, 12.887851394662812: 1, 12.887639948234799: 1, 12.879626001012483: 1, 12.878701898503625: 1, 12.841236716694825: 1, 12.77568289132414: 1, 12.769803326928088: 1, 12.740495722266122: 1, 12.733090657102931: 1, 12.731104546885158: 1, 12.724679810049189: 1, 12.718704071799836: 1, 12.68773371702242: 1, 12.660143698622134: 1, 12.653733200634335: 1, 12.629743637747577: 1, 12.622907802519897: 1, 12.592429760952617: 1, 12.591332379128463: 1, 12.585138454009748: 1, 12.581794492018494: 1, 12.539035902744969: 1, 12.533924855997144: 1, 12.507393229712902: 1, 12.466565326792264: 1, 12.459325155725907: 1, 12.451926796260867: 1, 12.440706478374681: 1, 12.418294833141905: 1, 12.411992012881313: 1, 12.404999639402648: 1, 12.369632878341305: 1, 12.297266212750051: 1, 12.28464254297246: 1, 12.279636643309004: 1, 12.271119072797518: 1, 12.216119974601522: 1, 12.195226369607138: 1, 12.176218468768706: 1, 12.161669893918198: 1, 12.155249470662628: 1, 12.152963310169957: 1, 12.144998661192014: 1, 12.140117651533702: 1, 12.133849839894138: 1, 12.127210420052617: 1, 12.118645091018987: 1, 12.094803264942502: 1, 12.08708659332471: 1, 12.071553764843705: 1, 12.070197527959253: 1, 12.058141375934099: 1, 12.022311517880308: 1, 12.018238205115297: 1, 12.01617264155395: 1, 11.984705985942103: 1, 11.984020641501688: 1, 11.981413272139058: 1, 11.977173914882339: 1, 11.9751096207324: 1, 11.963741902412183: 1, 11.954582117493265: 1, 11.919104120530948: 1, 11.860521116419696: 1, 11.855491221676745: 1, 11.834727842305574: 1, 11.813413256889611: 1, 11.802620724553144: 1, 11.78633962525479: 1, 11.777750336986541: 1, 11.764702061347185: 1, 11.743635866583542: 1, 11.734475447191933: 1, 11.670971503378695: 1, 11.664414631940481: 1, 11.644646342092289: 1, 11.622233894470909: 1, 11.61651105271622: 1, 11.591066803692055: 1, 11.573210816179619: 1, 11.565168818854852: 1, 11.558442157127498: 1, 11.538808758237712: 1, 11.528778856467198: 1, 11.527311643524607: 1, 11.503494490653649: 1, 11.474890546269025: 1, 11.389981483268855: 1, 11.386753132055988: 1, 11.372740827310844: 1, 11.366984421393663: 1, 11.364922174697835: 1, 11.360615365116365: 1, 11.34601656899806: 1, 11.323471414348715: 1, 11.301640713970325: 1, 11.300590661250062: 1, 11.258825951561585: 1, 11.231004973059369: 1, 11.225196619848603: 1, 11.221782293493479: 1, 11.201969123412095: 1, 11.194532305163262: 1, 11.172449464994941: 1, 11.166845292010455: 1, 11.14987015773: 1, 11.148125128199306: 1, 11.134468191656401: 1, 11.126945084855626: 1, 11.112099035135774: 1, 11.091514728235694: 1, 11.083120546405402: 1, 11.078114541475047: 1, 11.07725215463361: 1, 11.061444919947476: 1, 11.060722752842223: 1, 11.007020173153343: 1, 11.00338476940618: 1, 11.002085645602239: 1, 10.998910561209623: 1, 10.998743201622167: 1, 10.967120713555984: 1, 10.958507867563341: 1, 10.954672174505912: 1, 10.941876073001403: 1, 10.940647742969672: 1, 10.938434285561787: 1, 10.910403042737821: 1, 10.905078968603778: 1, 10.902914028556623: 1, 10.899488782297116: 1, 10.89433591470199: 1, 10.881995968563743: 1, 10.867921802451095: 1, 10.834681656474983: 1, 10.817746896844294: 1, 10.806679180379913: 1, 10.801443882604765: 1, 10.77421178985974: 1, 10.744410717834411: 1, 10.742416139166249: 1, 10.733106724877556: 1, 10.718623471823356: 1, 10.700130367579666: 1, 10.696002773944077: 1, 10.693546401113029: 1, 10.692028123797851: 1, 10.681534504707493: 1, 10.677562907340684: 1, 10.677471519788501: 1, 10.665348730833008: 1, 10.664774874646: 1, 10.662373320139116: 1, 10.657661299347755: 1, 10.621912567935944: 1, 10.604052827627736: 1, 10.597788239534072: 1, 10.596796007732486: 1, 10.548572758872861: 1, 10.540882033816118: 1, 10.517327524707262: 1, 10.494659933734575: 1, 10.473506367160903: 1, 10.468588778381436: 1, 10.464549822146754: 1, 10.452155328641616: 1, 10.433463919164899: 1, 10.416397207674176: 1, 10.41247962596424: 1, 10.386690706612663: 1, 10.384784527833899: 1, 10.375996081364852: 1, 10.28929459628673: 1, 10.289226508910376: 1, 10.278864017453435: 1, 10.277224382697531: 1, 10.275795940578053: 1, 10.269636291841598: 1, 10.247228055594396: 1, 10.243676441969557: 1, 10.234050528454443: 1, 10.231181693039476: 1, 10.214340865722825: 1, 10.207756686812042: 1, 10.201615984890143: 1, 10.181514905085159: 1, 10.180082436596409: 1, 10.172751893818839: 1, 10.166080324750569: 1, 10.1631751207946: 1, 10.157868234038045: 1, 10.150479639554217: 1, 10.123209076119432: 1, 10.103842470049516: 1, 10.090607291518362: 1, 10.088852589312893: 1, 10.087036708738355: 1, 10.080531791393771: 1, 10.043630644524921: 1, 10.016301204668158: 1, 9.9890967884384239: 1, 9.9871222024648478: 1, 9.9659621828687239: 1, 9.959245324028009: 1, 9.9548731749637511: 1, 9.9536455428031836: 1, 9.9480518329929275: 1, 9.9351493473948267: 1, 9.900992554940343: 1, 9.8855860361619783: 1, 9.8834608726382402: 1, 9.8722687972385383: 1, 9.8648048048791406: 1, 9.8444721860327675: 1, 9.8416503622649731: 1, 9.8358785612273323: 1, 9.8277722684634927: 1, 9.8108856052769564: 1, 9.8101959921638482: 1, 9.8035056964299248: 1, 9.7930012174666228: 1, 9.7914752845847577: 1, 9.7850332206712132: 1, 9.7848502580076619: 1, 9.7824396084129326: 1, 9.7467369149574807: 1, 9.7423544633833536: 1, 9.7262960600787558: 1, 9.7192209299528489: 1, 9.7181252715630873: 1, 9.7111889760278238: 1, 9.6986313743798007: 1, 9.6786732942912952: 1, 9.6780899615245133: 1, 9.6768123059501736: 1, 9.666214586668131: 1, 9.6563102388283131: 1, 9.6193809445649094: 1, 9.6178898252772562: 1, 9.6098480590445821: 1, 9.6067153754764512: 1, 9.5968694549439064: 1, 9.5953437055905333: 1, 9.5845803840583148: 1, 9.5727073268572553: 1, 9.5696128257450042: 1, 9.5559696262282756: 1, 9.5494599139506438: 1, 9.5396313376302455: 1, 9.5162513194076688: 1, 9.5136258579135351: 1, 9.5004417975833153: 1, 9.4899090609718932: 1, 9.4741459700041553: 1, 9.4734377840580333: 1, 9.4692868038715829: 1, 9.4486808346466482: 1, 9.4076162983884828: 1, 9.366293012029729: 1, 9.3594160243144273: 1, 9.3458324135818316: 1, 9.3372930887056764: 1, 9.3352666028201714: 1, 9.3351947864319964: 1, 9.3270145877777075: 1, 9.3055218815900442: 1, 9.3011902451351141: 1, 9.2790981506266501: 1, 9.2761777251354314: 1, 9.2712115846159708: 1, 9.2631351259628278: 1, 9.2547326486399921: 1, 9.2467725164887504: 1, 9.2393762143628511: 1, 9.2182535464897448: 1, 9.2167786609272451: 1, 9.2126937305435472: 1, 9.1989969143951278: 1, 9.1941561575752591: 1, 9.1825420991325775: 1, 9.1781930011364921: 1, 9.1760901343169845: 1, 9.1699954636567291: 1, 9.1649721886976021: 1, 9.1624635051331627: 1, 9.1445644777560648: 1, 9.1299384906438057: 1, 9.1237054202268411: 1, 9.1178373965703283: 1, 9.1032205105105124: 1, 9.0967582548857813: 1, 9.0947125228543246: 1, 9.0892079845995735: 1, 9.0848640769511029: 1, 9.0802548396729765: 1, 9.0440646414563659: 1, 9.041887813306559: 1, 9.0358774614838602: 1, 9.0169771773811522: 1, 9.0097697478597052: 1, 9.0069669217867823: 1, 9.0018792379419281: 1, 8.9866860930581147: 1, 8.9719948121100561: 1, 8.9599239439243004: 1, 8.9467131887377178: 1, 8.923751334456222: 1, 8.9224892550049439: 1, 8.9150114075042932: 1, 8.8992813821937276: 1, 8.8991066400041046: 1, 8.8875196854410881: 1, 8.8843590799308405: 1, 8.8832932102217832: 1, 8.8731435405704087: 1, 8.8669905648897451: 1, 8.8495837694402457: 1, 8.8475413956442797: 1, 8.8466681176601956: 1, 8.8434337944138619: 1, 8.8370491769575956: 1, 8.8282403401350944: 1, 8.8144509215813844: 1, 8.7874880609208237: 1, 8.7848114499922296: 1, 8.7795699992064495: 1, 8.775658188535326: 1, 8.7615641631113519: 1, 8.7536518758416513: 1, 8.7523850935902239: 1, 8.7512115532252768: 1, 8.7444663100423483: 1, 8.741201706479357: 1, 8.7226293160253494: 1, 8.7146530201588899: 1, 8.70997287260729: 1, 8.6838402308367719: 1, 8.6825223154140172: 1, 8.6731220317260735: 1, 8.6651522362686624: 1, 8.6590628791185864: 1, 8.6438156707349059: 1, 8.6074493477493181: 1, 8.5998355827714494: 1, 8.5935169551763266: 1, 8.5803807981268765: 1, 8.569502354949881: 1, 8.569113574165744: 1, 8.5543374368898313: 1, 8.5481888626904787: 1, 8.5383086887364659: 1, 8.5299753853021745: 1, 8.5241381068258608: 1, 8.5036218809216226: 1, 8.5027739907394722: 1, 8.4977985994506149: 1, 8.4945498664758645: 1, 8.487036888858583: 1, 8.4666202837094406: 1, 8.4427325732263672: 1, 8.4424630068823241: 1, 8.4062957809142826: 1, 8.4015048508602561: 1, 8.388817583903327: 1, 8.3835128775209284: 1, 8.3743311923160562: 1, 8.3603846886365254: 1, 8.3452219563169336: 1, 8.3398361139733161: 1, 8.329757321664335: 1, 8.3147087558468584: 1, 8.2966187394732938: 1, 8.2801731189579151: 1, 8.2772647768540342: 1, 8.2605105974409483: 1, 8.243108351713536: 1, 8.2363562926322142: 1, 8.2339638197743863: 1, 8.2083170774995775: 1, 8.2052844434420535: 1, 8.2048936559501033: 1, 8.1964705488226777: 1, 8.1913410584049124: 1, 8.1896651960775344: 1, 8.1887924340426874: 1, 8.1666965890305914: 1, 8.159457063761602: 1, 8.1270120127749337: 1, 8.0743902718994498: 1, 8.056654179951531: 1, 8.0566140566643316: 1, 8.0288544256805956: 1, 8.0203493459280644: 1, 7.9927177090216306: 1, 7.9901802748635999: 1, 7.987220494845972: 1, 7.9850872109731066: 1, 7.9705711790642981: 1, 7.9673562437700083: 1, 7.9195406968288813: 1, 7.9151064704891887: 1, 7.9144397970833609: 1, 7.9092186171553056: 1, 7.9021192612938282: 1, 7.9010327333125936: 1, 7.8971856624792505: 1, 7.8970447573472891: 1, 7.8913341961654311: 1, 7.8863659259583425: 1, 7.8745739200030087: 1, 7.8715637840982247: 1, 7.852184143313556: 1, 7.8389855660716323: 1, 7.835493086616685: 1, 7.8273469495704706: 1, 7.8139992296243435: 1, 7.7876231837899628: 1, 7.7804824131731491: 1, 7.7666024347668836: 1, 7.7627482936453038: 1, 7.7452568589382196: 1, 7.7143070679736532: 1, 7.681542126724322: 1, 7.631198378980832: 1, 7.615235426244908: 1, 7.6145923864432952: 1, 7.5940504630099328: 1, 7.575562805451697: 1, 7.5726929125556239: 1, 7.5660749415899167: 1, 7.5480104761690159: 1, 7.5452442009329435: 1, 7.5314787433153425: 1, 7.5286218615457186: 1, 7.516100461046336: 1, 7.4971001055156989: 1, 7.4761981647049929: 1, 7.4652428046360129: 1, 7.417418724305052: 1, 7.4146733612467566: 1, 7.395325952049479: 1, 7.3856187343069655: 1, 7.3652602330912691: 1, 7.3645051275432358: 1, 7.3639465941904412: 1, 7.3467388333987893: 1, 7.3457588804731593: 1, 7.3248564846697723: 1, 7.3229621871273185: 1, 7.301358657818497: 1, 7.2714233260175805: 1, 7.259618465101136: 1, 7.2441673629550349: 1, 7.2417181769034977: 1, 7.2181430556909865: 1, 7.1898041492281903: 1, 7.1843538340545967: 1, 7.1461195453963953: 1, 7.13120274860501: 1, 7.1281991308139112: 1, 7.1109257610625134: 1, 7.1102953358852652: 1, 7.0863214178638696: 1, 7.0286891770276414: 1, 6.9824870438304183: 1, 6.9442022286315304: 1, 6.9380029898398945: 1, 6.9277664626483491: 1, 6.8642056147311239: 1, 6.8552090064739497: 1, 6.8362010732982927: 1, 6.8241955316338503: 1, 6.8198610977590839: 1, 6.77606758604876: 1, 6.772792493024248: 1, 6.7710011030538899: 1, 6.7485081600915917: 1, 6.7439625938405863: 1, 6.5986875928470639: 1, 6.5936888434322896: 1, 6.5635728063472332: 1, 6.5605218281747444: 1, 6.5417376900067161: 1, 6.1923758910239179: 1})\n"
     ]
    }
   ],
   "source": [
    "# Number of words for a given frequency.\n",
    "print(Counter(sorted_text_occur))"
   ]
  },
  {
   "cell_type": "code",
   "execution_count": 78,
   "metadata": {
    "colab": {},
    "colab_type": "code",
    "id": "1sys81mqOQyh",
    "outputId": "9e15531f-4120-4079-9802-1923bea0c4d4"
   },
   "outputs": [
    {
     "name": "stdout",
     "output_type": "stream",
     "text": [
      "For values of alpha =  1e-05 The log loss is: 0.964867110332\n",
      "For values of alpha =  0.0001 The log loss is: 0.994308962492\n",
      "For values of alpha =  0.001 The log loss is: 1.34140196822\n",
      "For values of alpha =  0.01 The log loss is: 2.02882374278\n",
      "For values of alpha =  0.1 The log loss is: 2.11123632546\n",
      "For values of alpha =  1 The log loss is: 2.08886594668\n"
     ]
    },
    {
     "data": {
      "image/png": "[encoded data removed]",
      "text/plain": [
       "<matplotlib.figure.Figure at 0x3235a550>"
      ]
     },
     "metadata": {},
     "output_type": "display_data"
    },
    {
     "name": "stdout",
     "output_type": "stream",
     "text": [
      "For values of best alpha =  1e-05 The train log loss is: 0.755873070643\n",
      "For values of best alpha =  1e-05 The cross validation log loss is: 0.964867110332\n",
      "For values of best alpha =  1e-05 The test log loss is: 1.12263187329\n"
     ]
    }
   ],
   "source": [
    "# Train a Logistic regression+Calibration model using text features whicha re on-hot encoded\n",
    "alpha = [10 ** x for x in range(-5, 1)]\n",
    "\n",
    "# read more about SGDClassifier() at http://scikit-learn.org/stable/modules/generated/sklearn.linear_model.SGDClassifier.html\n",
    "# ------------------------------\n",
    "# default parameters\n",
    "# SGDClassifier(loss=’hinge’, penalty=’l2’, alpha=0.0001, l1_ratio=0.15, fit_intercept=True, max_iter=None, tol=None, \n",
    "# shuffle=True, verbose=0, epsilon=0.1, n_jobs=1, random_state=None, learning_rate=’optimal’, eta0=0.0, power_t=0.5, \n",
    "# class_weight=None, warm_start=False, average=False, n_iter=None)\n",
    "\n",
    "# some of methods\n",
    "# fit(X, y[, coef_init, intercept_init, …])\tFit linear model with Stochastic Gradient Descent.\n",
    "# predict(X)\tPredict class labels for samples in X.\n",
    "\n",
    "#-------------------------------\n",
    "# video link: \n",
    "#------------------------------\n",
    "\n",
    "\n",
    "cv_log_error_array=[]\n",
    "for i in alpha:\n",
    "    clf = SGDClassifier(alpha=i, penalty='l2', loss='log', random_state=42)\n",
    "    clf.fit(train_text_feature_onehotCoding, y_train)\n",
    "    \n",
    "    sig_clf = CalibratedClassifierCV(clf, method=\"sigmoid\")\n",
    "    sig_clf.fit(train_text_feature_onehotCoding, y_train)\n",
    "    predict_y = sig_clf.predict_proba(cv_text_feature_onehotCoding)\n",
    "    cv_log_error_array.append(log_loss(y_cv, predict_y, labels=clf.classes_, eps=1e-15))\n",
    "    print('For values of alpha = ', i, \"The log loss is:\",log_loss(y_cv, predict_y, labels=clf.classes_, eps=1e-15))\n",
    "\n",
    "fig, ax = plt.subplots()\n",
    "ax.plot(alpha, cv_log_error_array,c='g')\n",
    "for i, txt in enumerate(np.round(cv_log_error_array,3)):\n",
    "    ax.annotate((alpha[i],np.round(txt,3)), (alpha[i],cv_log_error_array[i]))\n",
    "plt.grid()\n",
    "plt.title(\"Cross Validation Error for each alpha\")\n",
    "plt.xlabel(\"Alpha i's\")\n",
    "plt.ylabel(\"Error measure\")\n",
    "plt.show()\n",
    "\n",
    "\n",
    "best_alpha = np.argmin(cv_log_error_array)\n",
    "clf = SGDClassifier(alpha=alpha[best_alpha], penalty='l2', loss='log', random_state=42)\n",
    "clf.fit(train_text_feature_onehotCoding, y_train)\n",
    "sig_clf = CalibratedClassifierCV(clf, method=\"sigmoid\")\n",
    "sig_clf.fit(train_text_feature_onehotCoding, y_train)\n",
    "\n",
    "predict_y = sig_clf.predict_proba(train_text_feature_onehotCoding)\n",
    "print('For values of best alpha = ', alpha[best_alpha], \"The train log loss is:\",log_loss(y_train, predict_y, labels=clf.classes_, eps=1e-15))\n",
    "predict_y = sig_clf.predict_proba(cv_text_feature_onehotCoding)\n",
    "print('For values of best alpha = ', alpha[best_alpha], \"The cross validation log loss is:\",log_loss(y_cv, predict_y, labels=clf.classes_, eps=1e-15))\n",
    "predict_y = sig_clf.predict_proba(test_text_feature_onehotCoding)\n",
    "print('For values of best alpha = ', alpha[best_alpha], \"The test log loss is:\",log_loss(y_test, predict_y, labels=clf.classes_, eps=1e-15))\n"
   ]
  },
  {
   "cell_type": "markdown",
   "metadata": {
    "colab_type": "text",
    "id": "s6AqmMa0OQym"
   },
   "source": [
    "<p style=\"font-size:18px;\"> <b>Q.</b> Is the Text feature stable across all the data sets (Test, Train, Cross validation)?</p>\n",
    "<p style=\"font-size:16px;\"> <b>Ans.</b> Yes, it seems like! </p>"
   ]
  },
  {
   "cell_type": "code",
   "execution_count": 79,
   "metadata": {
    "colab": {},
    "colab_type": "code",
    "collapsed": true,
    "id": "p_cUhp-ZOQyn"
   },
   "outputs": [],
   "source": [
    "def get_intersec_text(df):\n",
    "    df_text_vec = TfidfVectorizer(min_df=3)\n",
    "    df_text_fea = df_text_vec.fit_transform(df['TEXT'])\n",
    "    df_text_features = df_text_vec.get_feature_names()\n",
    "\n",
    "    df_text_fea_counts = df_text_fea.sum(axis=0).A1\n",
    "    df_text_fea_dict = dict(zip(list(df_text_features),df_text_fea_counts))\n",
    "    len1 = len(set(df_text_features))\n",
    "    len2 = len(set(train_text_features) & set(df_text_features))\n",
    "    return len1,len2"
   ]
  },
  {
   "cell_type": "code",
   "execution_count": 80,
   "metadata": {
    "colab": {},
    "colab_type": "code",
    "id": "yjNmkGN9OQyo",
    "outputId": "a201cc3e-76ca-4fde-e2dd-932733853c2b"
   },
   "outputs": [
    {
     "name": "stdout",
     "output_type": "stream",
     "text": [
      "3.503 % of word of test data appeared in train data\n",
      "3.879 % of word of Cross Validation appeared in train data\n"
     ]
    }
   ],
   "source": [
    "len1,len2 = get_intersec_text(test_df)\n",
    "print(np.round((len2/len1)*100, 3), \"% of word of test data appeared in train data\")\n",
    "len1,len2 = get_intersec_text(cv_df)\n",
    "print(np.round((len2/len1)*100, 3), \"% of word of Cross Validation appeared in train data\")"
   ]
  },
  {
   "cell_type": "markdown",
   "metadata": {
    "colab_type": "text",
    "id": "XXWA-CNqOQys"
   },
   "source": [
    "<h1>4. Machine Learning Models</h1>"
   ]
  },
  {
   "cell_type": "code",
   "execution_count": 81,
   "metadata": {
    "colab": {},
    "colab_type": "code",
    "collapsed": true,
    "id": "EKJzoIyQOQys"
   },
   "outputs": [],
   "source": [
    "#Data preparation for ML models.\n",
    "\n",
    "#Misc. functionns for ML models\n",
    "\n",
    "\n",
    "def predict_and_plot_confusion_matrix(train_x, train_y,test_x, test_y, clf):\n",
    "    clf.fit(train_x, train_y)\n",
    "    sig_clf = CalibratedClassifierCV(clf, method=\"sigmoid\")\n",
    "    sig_clf.fit(train_x, train_y)\n",
    "    pred_y = sig_clf.predict(test_x)\n",
    "\n",
    "    # for calculating log_loss we willl provide the array of probabilities belongs to each class\n",
    "    print(\"Log loss :\",log_loss(test_y, sig_clf.predict_proba(test_x)))\n",
    "    # calculating the number of data points that are misclassified\n",
    "    print(\"Number of mis-classified points :\", np.count_nonzero((pred_y- test_y))/test_y.shape[0])\n",
    "    plot_confusion_matrix(test_y, pred_y)"
   ]
  },
  {
   "cell_type": "code",
   "execution_count": 82,
   "metadata": {
    "colab": {},
    "colab_type": "code",
    "collapsed": true,
    "id": "XmI-EZ-XOQyv"
   },
   "outputs": [],
   "source": [
    "def report_log_loss(train_x, train_y, test_x, test_y,  clf):\n",
    "    clf.fit(train_x, train_y)\n",
    "    sig_clf = CalibratedClassifierCV(clf, method=\"sigmoid\")\n",
    "    sig_clf.fit(train_x, train_y)\n",
    "    sig_clf_probs = sig_clf.predict_proba(test_x)\n",
    "    return log_loss(test_y, sig_clf_probs, eps=1e-15)"
   ]
  },
  {
   "cell_type": "code",
   "execution_count": 83,
   "metadata": {
    "colab": {},
    "colab_type": "code",
    "collapsed": true,
    "id": "m68G02CbOQyw"
   },
   "outputs": [],
   "source": [
    "# this function will be used just for naive bayes\n",
    "# for the given indices, we will print the name of the features\n",
    "# and we will check whether the feature present in the test point text or not\n",
    "def get_impfeature_names(indices, text, gene, var, no_features):\n",
    "    gene_count_vec = TfidfVectorizer()\n",
    "    var_count_vec = TfidfVectorizer()\n",
    "    text_count_vec = TfidfVectorizer(max_features=1000)\n",
    "    text_vectorizer1 = TfidfVectorizer(min_df=3,max_features=1500,use_idf= True)\n",
    "    text_vectorizer2 = TfidfVectorizer(min_df=3,ngram_range=(1,2),max_features=1500,use_idf= True)\n",
    "    \n",
    "    gene_variation_vec = text_vectorizer2.fit_transform(train_df['Gene_Variation'])\n",
    "    gene_variation_text_vec= text_vectorizer1.fit_transform(train_df['Gene_Variation_Text'])\n",
    "    gene_vec = gene_count_vec.fit(train_df['Gene'])\n",
    "    var_vec  = var_count_vec.fit(train_df['Variation'])\n",
    "    text_vec = text_count_vec.fit(train_df['TEXT'])\n",
    "    \n",
    "    fea1_len = len(gene_count_vec.get_feature_names())\n",
    "    fea2_len = len(var_count_vec.get_feature_names())\n",
    "    fea3_len=len(text_vectorizer2.get_feature_names())\n",
    "    fea4_len=len(text_vectorizer1.get_feature_names())\n",
    "    fea5_len=len(text_count_vec.get_feature_names())\n",
    "\n",
    "    \n",
    "    word_present = 0\n",
    "    for i,v in enumerate(indices):\n",
    "        if (v < fea1_len):\n",
    "            word = gene_count_vec.get_feature_names()[v]\n",
    "            yes_no = True if word == gene else False\n",
    "            if yes_no:\n",
    "                word_present += 1\n",
    "                print(i, \"Gene feature [{}] present in test data point [{}]\".format(word,yes_no))\n",
    "        elif (v < fea1_len+fea2_len):\n",
    "            word = var_count_vec.get_feature_names()[v-(fea1_len)]\n",
    "            yes_no = True if word == var else False\n",
    "            if yes_no:\n",
    "                word_present += 1\n",
    "                print(i, \"variation feature [{}] present in test data point [{}]\".format(word,yes_no))\n",
    "        elif(v<fea1_len+fea2_len+fea5_len):\n",
    "            word = text_count_vec.get_feature_names()[v-(fea1_len+fea2_len)]\n",
    "            yes_no = True if word in text.split() else False\n",
    "            if yes_no:\n",
    "                word_present += 1\n",
    "                print(i, \"Text feature [{}] present in test data point [{}]\".format(word,yes_no))\n",
    "        elif(v<fea1_len+fea2_len+fea5_len+fea4_len):\n",
    "            word = text_vectorizer1.get_feature_names()[v-(fea1_len+fea2_len+fea5_len)]\n",
    "            yes_no = True if word == gene else False\n",
    "            if yes_no:\n",
    "                word_present += 1\n",
    "                print(i, \"Gene feature [{}] present in test data point [{}]\".format(word,yes_no))\n",
    "        else:\n",
    "            word =text_vectorizer2.get_feature_names()[v-(fea1_len+fea2_len+fea5_len+fea4_len)]\n",
    "            yes_no = True if word == gene else False\n",
    "            if yes_no:\n",
    "                word_present += 1\n",
    "                print(i, \"Gene feature [{}] present in test data point [{}]\".format(word,yes_no))\n",
    "\n",
    "    print(\"Out of the top \",no_features,\" features \", word_present, \"are present in query point\")"
   ]
  },
  {
   "cell_type": "markdown",
   "metadata": {
    "colab_type": "text",
    "id": "Gd7PORPUOQyy"
   },
   "source": [
    "<p style=\"font-size:24px;text-align:Center\"> <b>Stacking the three types of features </b><p>"
   ]
  },
  {
   "cell_type": "code",
   "execution_count": 215,
   "metadata": {
    "colab": {},
    "colab_type": "code",
    "collapsed": true,
    "id": "W1VYFJb_OQyy"
   },
   "outputs": [],
   "source": [
    "# merging gene, variance and text features\n",
    "\n",
    "# building train, test and cross validation data sets\n",
    "# a = [[1, 2], \n",
    "#      [3, 4]]\n",
    "# b = [[4, 5], \n",
    "#      [6, 7]]\n",
    "# hstack(a, b) = [[1, 2, 4, 5],\n",
    "#                [ 3, 4, 6, 7]]\n",
    "\n",
    "train_gene_var_onehotCoding = hstack((train_gene_feature_onehotCoding,train_variation_feature_onehotCoding))\n",
    "test_gene_var_onehotCoding = hstack((test_gene_feature_onehotCoding,test_variation_feature_onehotCoding))\n",
    "cv_gene_var_onehotCoding = hstack((cv_gene_feature_onehotCoding,cv_variation_feature_onehotCoding))\n",
    "\n"
   ]
  },
  {
   "cell_type": "code",
   "execution_count": 216,
   "metadata": {
    "collapsed": true
   },
   "outputs": [],
   "source": [
    "\n",
    "train_x_onehotCoding = hstack((train_gene_var_onehotCoding, train_text_feature_onehotCoding)).tocsr()\n",
    "# train_x_onehotCoding = hstack((train_x_onehotCoding, train2_text_feature_onehotCoding)).tocsr()\n",
    "train_x_onehotCoding = hstack((train_x_onehotCoding, train12_text_feature_onehotCoding)).tocsr()"
   ]
  },
  {
   "cell_type": "code",
   "execution_count": 217,
   "metadata": {
    "collapsed": true
   },
   "outputs": [],
   "source": [
    "# train_x_onehotCoding = hstack((train_x_onehotCoding,(np.array(train_df['LEN']).T).shape)).tocsr()\n",
    "\n",
    "train_y = np.array(list(train_df['Class']))\n"
   ]
  },
  {
   "cell_type": "code",
   "execution_count": 218,
   "metadata": {
    "collapsed": true
   },
   "outputs": [],
   "source": [
    "\n",
    "test_x_onehotCoding = hstack((test_gene_var_onehotCoding, test_text_feature_onehotCoding)).tocsr()\n",
    "# test_x_onehotCoding = hstack((test_x_onehotCoding, test2_text_feature_onehotCoding)).tocsr()\n",
    "test_x_onehotCoding = hstack((test_x_onehotCoding, test12_text_feature_onehotCoding)).tocsr()\n",
    "\n",
    "# test_x_onehotCoding = hstack((test_x_onehotCoding, test_df['LEN'])).tocsr()\n",
    "\n",
    "\n",
    "test_y = np.array(list(test_df['Class']))\n",
    "\n",
    "cv_x_onehotCoding = hstack((cv_gene_var_onehotCoding, cv_text_feature_onehotCoding)).tocsr()\n",
    "# cv_x_onehotCoding = hstack((cv_x_onehotCoding, cv2_text_feature_onehotCoding)).tocsr()\n",
    "cv_x_onehotCoding = hstack((cv_x_onehotCoding, cv12_text_feature_onehotCoding)).tocsr()\n",
    "\n",
    "# cv_x_onehotCoding = hstack((cv_x_onehotCoding, cv_df['LEN'])).tocsr()\n",
    "\n",
    "\n",
    "cv_y = np.array(list(cv_df['Class']))"
   ]
  },
  {
   "cell_type": "code",
   "execution_count": 219,
   "metadata": {
    "collapsed": true
   },
   "outputs": [],
   "source": [
    "\n",
    "train_gene_var_responseCoding = np.hstack((train_gene_feature_responseCoding,train_variation_feature_responseCoding))\n",
    "test_gene_var_responseCoding = np.hstack((test_gene_feature_responseCoding,test_variation_feature_responseCoding))\n",
    "cv_gene_var_responseCoding = np.hstack((cv_gene_feature_responseCoding,cv_variation_feature_responseCoding))\n",
    "\n",
    "train_x_responseCoding = np.hstack((train_gene_var_responseCoding, train_text_feature_responseCoding))\n",
    "test_x_responseCoding = np.hstack((test_gene_var_responseCoding, test_text_feature_responseCoding))\n",
    "cv_x_responseCoding = np.hstack((cv_gene_var_responseCoding, cv_text_feature_responseCoding))\n",
    "\n",
    "# train_x_responseCoding = np.hstack((train_x_responseCoding, train1_text_feature_responseCoding))\n",
    "# test_x_responseCoding = np.hstack((test_x_responseCoding, test1_text_feature_responseCoding))\n",
    "# cv_x_responseCoding = np.hstack((cv_x_responseCoding, cv1_text_feature_responseCoding))\n",
    "\n",
    "train_x_responseCoding = np.hstack((train_x_responseCoding, train11_text_feature_responseCoding))\n",
    "test_x_responseCoding = np.hstack((test_x_responseCoding, test11_text_feature_responseCoding))\n",
    "cv_x_responseCoding = np.hstack((cv_x_responseCoding, cv11_text_feature_responseCoding))"
   ]
  },
  {
   "cell_type": "code",
   "execution_count": 220,
   "metadata": {
    "colab": {},
    "colab_type": "code",
    "id": "dmSks_ifOQyz",
    "outputId": "ed490809-43be-4080-b4c5-ec1c4ba101ab"
   },
   "outputs": [
    {
     "name": "stdout",
     "output_type": "stream",
     "text": [
      "One hot encoding features :\n",
      "(number of data points * number of features) in train data =  (2124, 3350)\n",
      "(number of data points * number of features) in test data =  (665, 3350)\n",
      "(number of data points * number of features) in cross validation data = (532, 3350)\n"
     ]
    }
   ],
   "source": [
    "print(\"One hot encoding features :\")\n",
    "print(\"(number of data points * number of features) in train data = \", train_x_onehotCoding.shape)\n",
    "print(\"(number of data points * number of features) in test data = \", test_x_onehotCoding.shape)\n",
    "print(\"(number of data points * number of features) in cross validation data =\", cv_x_onehotCoding.shape)"
   ]
  },
  {
   "cell_type": "code",
   "execution_count": 221,
   "metadata": {
    "colab": {},
    "colab_type": "code",
    "id": "gqhwbE-ZOQy1",
    "outputId": "f2f122ed-2b8a-4784-fbc9-5a34562ed234"
   },
   "outputs": [
    {
     "name": "stdout",
     "output_type": "stream",
     "text": [
      " Response encoding features :\n",
      "(number of data points * number of features) in train data =  (2124, 36)\n",
      "(number of data points * number of features) in test data =  (665, 36)\n",
      "(number of data points * number of features) in cross validation data = (532, 36)\n"
     ]
    }
   ],
   "source": [
    "print(\" Response encoding features :\")\n",
    "print(\"(number of data points * number of features) in train data = \", train_x_responseCoding.shape)\n",
    "print(\"(number of data points * number of features) in test data = \", test_x_responseCoding.shape)\n",
    "print(\"(number of data points * number of features) in cross validation data =\", cv_x_responseCoding.shape)"
   ]
  },
  {
   "cell_type": "code",
   "execution_count": 222,
   "metadata": {
    "collapsed": true
   },
   "outputs": [],
   "source": [
    "# This function plots the confusion matrices given y_i, y_i_hat.\n",
    "def plot_confusion_matrix(test_y, predict_y):\n",
    "    C = confusion_matrix(test_y, predict_y)\n",
    "    # C = 9,9 matrix, each cell (i,j) represents number of points of class i are predicted class j\n",
    "    \n",
    "    A =(((C.T)/(C.sum(axis=1))).T)\n",
    "    #divid each element of the confusion matrix with the sum of elements in that column\n",
    "    \n",
    "    # C = [[1, 2],\n",
    "    #     [3, 4]]\n",
    "    # C.T = [[1, 3],\n",
    "    #        [2, 4]]\n",
    "    # C.sum(axis = 1)  axis=0 corresonds to columns and axis=1 corresponds to rows in two diamensional array\n",
    "    # C.sum(axix =1) = [[3, 7]]\n",
    "    # ((C.T)/(C.sum(axis=1))) = [[1/3, 3/7]\n",
    "    #                           [2/3, 4/7]]\n",
    "\n",
    "    # ((C.T)/(C.sum(axis=1))).T = [[1/3, 2/3]\n",
    "    #                           [3/7, 4/7]]\n",
    "    # sum of row elements = 1\n",
    "    \n",
    "    B =(C/C.sum(axis=0))\n",
    "    #divid each element of the confusion matrix with the sum of elements in that row\n",
    "    # C = [[1, 2],\n",
    "    #     [3, 4]]\n",
    "    # C.sum(axis = 0)  axis=0 corresonds to columns and axis=1 corresponds to rows in two diamensional array\n",
    "    # C.sum(axix =0) = [[4, 6]]\n",
    "    # (C/C.sum(axis=0)) = [[1/4, 2/6],\n",
    "    #                      [3/4, 4/6]] \n",
    "    \n",
    "    labels = [1,2,3,4,5,6,7,8,9]\n",
    "    # representing A in heatmap format\n",
    "    print(\"-\"*20, \"Confusion matrix\", \"-\"*20)\n",
    "    plt.figure(figsize=(20,7))\n",
    "    sns.heatmap(C, annot=True, cmap=\"YlGnBu\", fmt=\".3f\", xticklabels=labels, yticklabels=labels)\n",
    "    plt.xlabel('Predicted Class')\n",
    "    plt.ylabel('Original Class')\n",
    "    plt.show()\n",
    "\n",
    "    print(\"-\"*20, \"Precision matrix (Columm Sum=1)\", \"-\"*20)\n",
    "    plt.figure(figsize=(20,7))\n",
    "    sns.heatmap(B, annot=True, cmap=\"YlGnBu\", fmt=\".3f\", xticklabels=labels, yticklabels=labels)\n",
    "    plt.xlabel('Predicted Class')\n",
    "    plt.ylabel('Original Class')\n",
    "    plt.show()\n",
    "    \n",
    "    # representing B in heatmap format\n",
    "    print(\"-\"*20, \"Recall matrix (Row sum=1)\", \"-\"*20)\n",
    "    plt.figure(figsize=(20,7))\n",
    "    sns.heatmap(A, annot=True, cmap=\"YlGnBu\", fmt=\".3f\", xticklabels=labels, yticklabels=labels)\n",
    "    plt.xlabel('Predicted Class')\n",
    "    plt.ylabel('Original Class')\n",
    "    plt.show()"
   ]
  },
  {
   "cell_type": "markdown",
   "metadata": {
    "colab_type": "text",
    "id": "hs4v7Fc1OQzj"
   },
   "source": [
    "<h2>4.3. Logistic Regression</h2>"
   ]
  },
  {
   "cell_type": "markdown",
   "metadata": {
    "colab_type": "text",
    "id": "Hj1NGUOnOQzj"
   },
   "source": [
    "<h3>4.3.1. With Class balancing</h3>"
   ]
  },
  {
   "cell_type": "markdown",
   "metadata": {
    "colab_type": "text",
    "id": "_OsvP1C6OQzk"
   },
   "source": [
    "<h4>4.3.1.1. Hyper paramter tuning</h4>"
   ]
  },
  {
   "cell_type": "code",
   "execution_count": 225,
   "metadata": {},
   "outputs": [
    {
     "name": "stdout",
     "output_type": "stream",
     "text": [
      "for alpha = 1e-06\n",
      "Log Loss : 1.02664678557\n",
      "for alpha = 1e-05\n",
      "Log Loss : 0.943199212537\n",
      "for alpha = 0.0001\n",
      "Log Loss : 0.903943694125\n",
      "for alpha = 0.001\n",
      "Log Loss : 0.938781155526\n",
      "for alpha = 0.01\n",
      "Log Loss : 1.15571111159\n",
      "for alpha = 0.1\n",
      "Log Loss : 1.63048219204\n",
      "for alpha = 1\n",
      "Log Loss : 1.78911268391\n",
      "for alpha = 10\n",
      "Log Loss : 1.80713031113\n",
      "for alpha = 100\n",
      "Log Loss : 1.80929035582\n",
      "for alpha = 1000\n",
      "Log Loss : 1.80345543244\n"
     ]
    },
    {
     "data": {
      "image/png": "[encoded data removed]",
      "text/plain": [
       "<matplotlib.figure.Figure at 0x32205cd0>"
      ]
     },
     "metadata": {},
     "output_type": "display_data"
    }
   ],
   "source": [
    "\n",
    "# read more about SGDClassifier() at http://scikit-learn.org/stable/modules/generated/sklearn.linear_model.SGDClassifier.html\n",
    "# ------------------------------\n",
    "# default parameters\n",
    "# SGDClassifier(loss=’hinge’, penalty=’l2’, alpha=0.0001, l1_ratio=0.15, fit_intercept=True, max_iter=None, tol=None, \n",
    "# shuffle=True, verbose=0, epsilon=0.1, n_jobs=1, random_state=None, learning_rate=’optimal’, eta0=0.0, power_t=0.5, \n",
    "# class_weight=None, warm_start=False, average=False, n_iter=None)\n",
    "\n",
    "# some of methods\n",
    "# fit(X, y[, coef_init, intercept_init, …])\tFit linear model with Stochastic Gradient Descent.\n",
    "# predict(X)\tPredict class labels for samples in X.\n",
    "\n",
    "#-------------------------------\n",
    "# video link: https://www.appliedaicourse.com/course/applied-ai-course-online/lessons/geometric-intuition-1/\n",
    "#------------------------------\n",
    "\n",
    "\n",
    "# find more about CalibratedClassifierCV here at http://scikit-learn.org/stable/modules/generated/sklearn.calibration.CalibratedClassifierCV.html\n",
    "# ----------------------------\n",
    "# default paramters\n",
    "# sklearn.calibration.CalibratedClassifierCV(base_estimator=None, method=’sigmoid’, cv=3)\n",
    "#\n",
    "# some of the methods of CalibratedClassifierCV()\n",
    "# fit(X, y[, sample_weight])\tFit the calibrated model\n",
    "# get_params([deep])\tGet parameters for this estimator.\n",
    "# predict(X)\tPredict the target of new samples.\n",
    "# predict_proba(X)\tPosterior probabilities of classification\n",
    "#-------------------------------------\n",
    "# video link:\n",
    "#-------------------------------------\n",
    "\n",
    "alpha = [10 ** x for x in range(-6, 4)]\n",
    "cv_log_error_array = []\n",
    "for i in alpha:\n",
    "    print(\"for alpha =\", i)\n",
    "    clf = SGDClassifier(class_weight='balanced', alpha=i, penalty='l2', loss='log', random_state=42)\n",
    "    clf.fit(train_x_onehotCoding, train_y)\n",
    "    sig_clf = CalibratedClassifierCV(clf, method=\"sigmoid\",cv=10)\n",
    "    sig_clf.fit(train_x_onehotCoding, train_y)\n",
    "    sig_clf_probs = sig_clf.predict_proba(cv_x_onehotCoding)\n",
    "    cv_log_error_array.append(log_loss(cv_y, sig_clf_probs, labels=clf.classes_))\n",
    "    # to avoid rounding error while multiplying probabilites we use log-probability estimates\n",
    "    print(\"Log Loss :\",log_loss(cv_y, sig_clf_probs)) \n",
    "\n",
    "fig, ax = plt.subplots()\n",
    "ax.plot(alpha, cv_log_error_array,c='g')\n",
    "for i, txt in enumerate(np.round(cv_log_error_array,3)):\n",
    "    ax.annotate((alpha[i],str(txt)), (alpha[i],cv_log_error_array[i]))\n",
    "plt.grid()\n",
    "plt.title(\"Cross Validation Error for each alpha\")\n",
    "plt.xlabel(\"Alpha i's\")\n",
    "plt.ylabel(\"Error measure\")\n",
    "plt.show()\n",
    "\n"
   ]
  },
  {
   "cell_type": "code",
   "execution_count": 226,
   "metadata": {},
   "outputs": [
    {
     "name": "stdout",
     "output_type": "stream",
     "text": [
      "For values of best alpha =  0.0001 The train log loss is: 0.402542767358\n",
      "For values of best alpha =  0.0001 The cross validation log loss is: 0.903943694125\n",
      "For values of best alpha =  0.0001 The test log loss is: 1.00149756178\n"
     ]
    }
   ],
   "source": [
    "\n",
    "best_alpha = np.argmin(cv_log_error_array)\n",
    "clf = SGDClassifier(class_weight='balanced', alpha=alpha[best_alpha], penalty='l2', loss='log', random_state=42)\n",
    "clf.fit(train_x_onehotCoding, train_y)\n",
    "sig_clf = CalibratedClassifierCV(clf, method=\"sigmoid\", cv=10, )\n",
    "sig_clf.fit(train_x_onehotCoding, train_y)\n",
    "\n",
    "predict_y = sig_clf.predict_proba(train_x_onehotCoding)\n",
    "print('For values of best alpha = ', alpha[best_alpha], \"The train log loss is:\",log_loss(y_train, predict_y, labels=clf.classes_, eps=1e-15))\n",
    "predict_y = sig_clf.predict_proba(cv_x_onehotCoding)\n",
    "print('For values of best alpha = ', alpha[best_alpha], \"The cross validation log loss is:\",log_loss(y_cv, predict_y, labels=clf.classes_, eps=1e-15))\n",
    "predict_y = sig_clf.predict_proba(test_x_onehotCoding)\n",
    "print('For values of best alpha = ', alpha[best_alpha], \"The test log loss is:\",log_loss(y_test, predict_y, labels=clf.classes_, eps=1e-15))"
   ]
  },
  {
   "cell_type": "markdown",
   "metadata": {
    "colab_type": "text",
    "id": "d6sk6Z7NOQzp"
   },
   "source": [
    "<h4>4.3.1.2. Testing the model with best hyper paramters</h4>"
   ]
  },
  {
   "cell_type": "code",
   "execution_count": 227,
   "metadata": {
    "colab": {},
    "colab_type": "code",
    "id": "HEeyfXMIOQzp",
    "outputId": "34f85ffd-4d08-4e0a-8ac0-b8608a938bbe",
    "scrolled": false
   },
   "outputs": [
    {
     "name": "stdout",
     "output_type": "stream",
     "text": [
      "Log loss : 0.920710547367\n",
      "Number of mis-classified points : 0.33458646616541354\n",
      "-------------------- Confusion matrix --------------------\n"
     ]
    },
    {
     "data": {
      "image/png": "[encoded data removed]",
      "text/plain": [
       "<matplotlib.figure.Figure at 0x342f1130>"
      ]
     },
     "metadata": {},
     "output_type": "display_data"
    },
    {
     "name": "stdout",
     "output_type": "stream",
     "text": [
      "-------------------- Precision matrix (Columm Sum=1) --------------------\n"
     ]
    },
    {
     "data": {
      "image/png": "[encoded data removed]",
      "text/plain": [
       "<matplotlib.figure.Figure at 0x341fc2b0>"
      ]
     },
     "metadata": {},
     "output_type": "display_data"
    },
    {
     "name": "stdout",
     "output_type": "stream",
     "text": [
      "-------------------- Recall matrix (Row sum=1) --------------------\n"
     ]
    },
    {
     "data": {
      "image/png": "[encoded data removed]",
      "text/plain": [
       "<matplotlib.figure.Figure at 0x34aafaf0>"
      ]
     },
     "metadata": {},
     "output_type": "display_data"
    }
   ],
   "source": [
    "# read more about SGDClassifier() at http://scikit-learn.org/stable/modules/generated/sklearn.linear_model.SGDClassifier.html\n",
    "# ------------------------------\n",
    "# default parameters\n",
    "# SGDClassifier(loss=’hinge’, penalty=’l2’, alpha=0.0001, l1_ratio=0.15, fit_intercept=True, max_iter=None, tol=None, \n",
    "# shuffle=True, verbose=0, epsilon=0.1, n_jobs=1, random_state=None, learning_rate=’optimal’, eta0=0.0, power_t=0.5, \n",
    "# class_weight=None, warm_start=False, average=False, n_iter=None)\n",
    "\n",
    "# some of methods\n",
    "# fit(X, y[, coef_init, intercept_init, …])\tFit linear model with Stochastic Gradient Descent.\n",
    "# predict(X)\tPredict class labels for samples in X.\n",
    "\n",
    "#-------------------------------\n",
    "# video link: https://www.appliedaicourse.com/course/applied-ai-course-online/lessons/geometric-intuition-1/\n",
    "#------------------------------\n",
    "clf = SGDClassifier(class_weight='balanced', alpha=alpha[best_alpha], penalty='l2', loss='log', random_state=42)\n",
    "predict_and_plot_confusion_matrix(train_x_onehotCoding, train_y, cv_x_onehotCoding, cv_y, clf)"
   ]
  },
  {
   "cell_type": "markdown",
   "metadata": {
    "colab_type": "text",
    "id": "P9qgkiEwOQzq"
   },
   "source": [
    "<h4>4.3.1.3. Feature Importance</h4>"
   ]
  },
  {
   "cell_type": "code",
   "execution_count": 228,
   "metadata": {
    "colab": {},
    "colab_type": "code",
    "collapsed": true,
    "id": "cAN-uQIUOQzr"
   },
   "outputs": [],
   "source": [
    "def get_imp_feature_names(text, indices, removed_ind = []):\n",
    "    word_present = 0\n",
    "    tabulte_list = []\n",
    "    incresingorder_ind = 0\n",
    "    for i in indices:\n",
    "        if i < train_gene_feature_onehotCoding.shape[1]:\n",
    "            tabulte_list.append([incresingorder_ind, \"Gene\", \"Yes\"])\n",
    "        elif i< 18:\n",
    "            tabulte_list.append([incresingorder_ind,\"Variation\", \"Yes\"])\n",
    "        if ((i > 17) & (i not in removed_ind)) :\n",
    "            word = train_text_features[i]\n",
    "            yes_no = True if word in text.split() else False\n",
    "            if yes_no:\n",
    "                word_present += 1\n",
    "            tabulte_list.append([incresingorder_ind,train_text_features[i], yes_no])\n",
    "        incresingorder_ind += 1\n",
    "    print(word_present, \"most importent features are present in our query point\")\n",
    "    print(\"-\"*50)\n",
    "    print(\"The features that are most importent of the \",predicted_cls[0],\" class:\")\n",
    "    print (tabulate(tabulte_list, headers=[\"Index\",'Feature name', 'Present or Not']))"
   ]
  },
  {
   "cell_type": "markdown",
   "metadata": {
    "colab_type": "text",
    "id": "6UMOPzp5OQzs"
   },
   "source": [
    "<h5>4.3.1.3.1. Correctly Classified point</h5>"
   ]
  },
  {
   "cell_type": "code",
   "execution_count": 229,
   "metadata": {
    "colab": {},
    "colab_type": "code",
    "id": "vrELublWOQzs",
    "outputId": "0c33afb4-3594-4777-a290-a6d9e0a407ac",
    "scrolled": false
   },
   "outputs": [
    {
     "name": "stdout",
     "output_type": "stream",
     "text": [
      "Predicted Class : 4\n",
      "Predicted Class Probabilities: [[  1.68000000e-02   9.40000000e-03   1.70000000e-03   7.35600000e-01\n",
      "    6.20000000e-03   8.00000000e-04   2.19700000e-01   9.20000000e-03\n",
      "    7.00000000e-04]]\n",
      "Actual Class : 4\n",
      "--------------------------------------------------\n",
      "68 Text feature [inactivation] present in test data point [True]\n",
      "73 Text feature [tumorigenesis] present in test data point [True]\n",
      "82 Text feature [tgf] present in test data point [True]\n",
      "83 Text feature [suppressor] present in test data point [True]\n",
      "90 Text feature [missense] present in test data point [True]\n",
      "103 Text feature [right] present in test data point [True]\n",
      "104 Text feature [damage] present in test data point [True]\n",
      "123 Text feature [mammalian] present in test data point [True]\n",
      "125 Text feature [mm] present in test data point [True]\n",
      "134 Text feature [tagged] present in test data point [True]\n",
      "137 Text feature [show] present in test data point [True]\n",
      "143 Text feature [loss] present in test data point [True]\n",
      "184 Text feature [dominant] present in test data point [True]\n",
      "205 Text feature [lack] present in test data point [True]\n",
      "208 Text feature [proportion] present in test data point [True]\n",
      "223 Text feature [unable] present in test data point [True]\n",
      "243 Text feature [left] present in test data point [True]\n",
      "255 Text feature [staining] present in test data point [True]\n",
      "256 Text feature [cases] present in test data point [True]\n",
      "263 Text feature [larger] present in test data point [True]\n",
      "273 Text feature [functional] present in test data point [True]\n",
      "284 Text feature [families] present in test data point [True]\n",
      "287 Text feature [deletion] present in test data point [True]\n",
      "296 Text feature [via] present in test data point [True]\n",
      "301 Text feature [repair] present in test data point [True]\n",
      "302 Text feature [indicate] present in test data point [True]\n",
      "314 Text feature [1998] present in test data point [True]\n",
      "326 Text feature [fact] present in test data point [True]\n",
      "332 Text feature [substrate] present in test data point [True]\n",
      "335 Text feature [see] present in test data point [True]\n",
      "336 Text feature [suggesting] present in test data point [True]\n",
      "340 Text feature [reduced] present in test data point [True]\n",
      "341 Text feature [4a] present in test data point [True]\n",
      "343 Text feature [co] present in test data point [True]\n",
      "344 Text feature [tumours] present in test data point [True]\n",
      "345 Text feature [investigated] present in test data point [True]\n",
      "348 Text feature [high] present in test data point [True]\n",
      "360 Text feature [due] present in test data point [True]\n",
      "373 Text feature [nature] present in test data point [True]\n",
      "374 Text feature [tumour] present in test data point [True]\n",
      "386 Text feature [protein] present in test data point [True]\n",
      "389 Text feature [mice] present in test data point [True]\n",
      "392 Text feature [transfected] present in test data point [True]\n",
      "394 Text feature [phenotype] present in test data point [True]\n",
      "400 Text feature [elevated] present in test data point [True]\n",
      "402 Text feature [cycle] present in test data point [True]\n",
      "404 Text feature [contribute] present in test data point [True]\n",
      "407 Text feature [26] present in test data point [True]\n",
      "408 Text feature [represent] present in test data point [True]\n",
      "420 Text feature [plates] present in test data point [True]\n",
      "422 Text feature [groups] present in test data point [True]\n",
      "425 Text feature [genome] present in test data point [True]\n",
      "430 Text feature [regulation] present in test data point [True]\n",
      "432 Text feature [representative] present in test data point [True]\n",
      "433 Text feature [normal] present in test data point [True]\n",
      "435 Text feature [western] present in test data point [True]\n",
      "438 Text feature [changes] present in test data point [True]\n",
      "439 Text feature [altered] present in test data point [True]\n",
      "442 Text feature [flag] present in test data point [True]\n",
      "444 Text feature [whether] present in test data point [True]\n",
      "453 Text feature [linked] present in test data point [True]\n",
      "456 Text feature [primary] present in test data point [True]\n",
      "467 Text feature [pten] present in test data point [True]\n",
      "468 Text feature [seen] present in test data point [True]\n",
      "473 Text feature [lower] present in test data point [True]\n",
      "475 Text feature [university] present in test data point [True]\n",
      "476 Text feature [spop] present in test data point [True]\n",
      "477 Text feature [page] present in test data point [True]\n",
      "478 Text feature [large] present in test data point [True]\n",
      "479 Text feature [vs] present in test data point [True]\n",
      "481 Text feature [nf1] present in test data point [True]\n",
      "482 Text feature [activity] present in test data point [True]\n",
      "483 Text feature [kinases] present in test data point [True]\n",
      "489 Text feature [require] present in test data point [True]\n",
      "491 Text feature [times] present in test data point [True]\n",
      "492 Text feature [process] present in test data point [True]\n",
      "499 Text feature [function] present in test data point [True]\n",
      "Out of the top  500  features  77 are present in query point\n"
     ]
    }
   ],
   "source": [
    "# from tabulate import tabulate\n",
    "clf = SGDClassifier(class_weight='balanced', alpha=alpha[best_alpha], penalty='l2', loss='log', random_state=42)\n",
    "clf.fit(train_x_onehotCoding,train_y)\n",
    "test_point_index = 1\n",
    "no_feature = 500\n",
    "predicted_cls = sig_clf.predict(test_x_onehotCoding[test_point_index])\n",
    "print(\"Predicted Class :\", predicted_cls[0])\n",
    "print(\"Predicted Class Probabilities:\", np.round(sig_clf.predict_proba(test_x_onehotCoding[test_point_index]),4))\n",
    "print(\"Actual Class :\", test_y[test_point_index])\n",
    "indices = np.argsort(-clf.coef_)[predicted_cls-1][:,:no_feature]\n",
    "print(\"-\"*50)\n",
    "get_impfeature_names(indices[0], test_df['TEXT'].iloc[test_point_index],test_df['Gene'].iloc[test_point_index],test_df['Variation'].iloc[test_point_index], no_feature)"
   ]
  },
  {
   "cell_type": "markdown",
   "metadata": {
    "colab_type": "text",
    "id": "ONkuybENOQzu"
   },
   "source": [
    "<h5>4.3.1.3.2. Incorrectly Classified point</h5>"
   ]
  },
  {
   "cell_type": "code",
   "execution_count": 230,
   "metadata": {
    "colab": {},
    "colab_type": "code",
    "id": "YoIr_YdaOQzv",
    "outputId": "e0463c66-61ce-4a85-d535-16ac1e1dff6a",
    "scrolled": false
   },
   "outputs": [
    {
     "name": "stdout",
     "output_type": "stream",
     "text": [
      "Predicted Class : 7\n",
      "Predicted Class Probabilities: [[ 0.0168  0.1365  0.0052  0.0564  0.0546  0.0066  0.7106  0.0069  0.0063]]\n",
      "Actual Class : 7\n",
      "--------------------------------------------------\n",
      "6 Text feature [enhanced] present in test data point [True]\n",
      "8 Text feature [downstream] present in test data point [True]\n",
      "16 Text feature [oncogene] present in test data point [True]\n",
      "25 Text feature [overexpression] present in test data point [True]\n",
      "31 Text feature [3b] present in test data point [True]\n",
      "32 Text feature [activated] present in test data point [True]\n",
      "36 Text feature [signaling] present in test data point [True]\n",
      "53 Text feature [factor] present in test data point [True]\n",
      "68 Text feature [mapk] present in test data point [True]\n",
      "74 Text feature [constitutive] present in test data point [True]\n",
      "87 Text feature [inhibited] present in test data point [True]\n",
      "96 Text feature [pathways] present in test data point [True]\n",
      "114 Text feature [lung] present in test data point [True]\n",
      "121 Text feature [s3] present in test data point [True]\n",
      "124 Text feature [oncogenic] present in test data point [True]\n",
      "142 Text feature [erlotinib] present in test data point [True]\n",
      "178 Text feature [activating] present in test data point [True]\n",
      "207 Text feature [mechanisms] present in test data point [True]\n",
      "211 Text feature [inhibitor] present in test data point [True]\n",
      "223 Text feature [approximately] present in test data point [True]\n",
      "226 Text feature [2a] present in test data point [True]\n",
      "229 Text feature [fold] present in test data point [True]\n",
      "250 Text feature [adenocarcinoma] present in test data point [True]\n",
      "271 Text feature [regulated] present in test data point [True]\n",
      "326 Text feature [expressing] present in test data point [True]\n",
      "327 Text feature [effective] present in test data point [True]\n",
      "338 Text feature [mice] present in test data point [True]\n",
      "353 Text feature [genomic] present in test data point [True]\n",
      "373 Text feature [sirna] present in test data point [True]\n",
      "381 Text feature [fig] present in test data point [True]\n",
      "382 Text feature [sensitive] present in test data point [True]\n",
      "406 Text feature [presence] present in test data point [True]\n",
      "414 Text feature [positive] present in test data point [True]\n",
      "429 Text feature [ras] present in test data point [True]\n",
      "453 Text feature [day] present in test data point [True]\n",
      "457 Text feature [tyrosine] present in test data point [True]\n",
      "458 Text feature [cells] present in test data point [True]\n",
      "470 Text feature [size] present in test data point [True]\n",
      "474 Text feature [constitutively] present in test data point [True]\n",
      "487 Text feature [driven] present in test data point [True]\n",
      "489 Text feature [cdna] present in test data point [True]\n",
      "Out of the top  500  features  41 are present in query point\n"
     ]
    }
   ],
   "source": [
    "test_point_index = 80\n",
    "no_feature = 500\n",
    "predicted_cls = sig_clf.predict(test_x_onehotCoding[test_point_index])\n",
    "print(\"Predicted Class :\", predicted_cls[0])\n",
    "print(\"Predicted Class Probabilities:\", np.round(sig_clf.predict_proba(test_x_onehotCoding[test_point_index]),4))\n",
    "print(\"Actual Class :\", test_y[test_point_index])\n",
    "indices = np.argsort(-clf.coef_)[predicted_cls-1][:,:no_feature]\n",
    "print(\"-\"*50)\n",
    "get_impfeature_names(indices[0], test_df['TEXT'].iloc[test_point_index],test_df['Gene'].iloc[test_point_index],test_df['Variation'].iloc[test_point_index], no_feature)"
   ]
  },
  {
   "cell_type": "markdown",
   "metadata": {},
   "source": [
    "# CONCLUSION"
   ]
  },
  {
   "cell_type": "code",
   "execution_count": 7,
   "metadata": {
    "collapsed": true
   },
   "outputs": [],
   "source": [
    "from prettytable import PrettyTable\n",
    "\n",
    "table=PrettyTable(['MODEL','VECTORIZER','HYPERMETER','TRAIN LOG-LOSS','TEST LOG-LOSS','CV LOG-LOSS','MISCLASSIFIED IN %'])\n",
    "\n",
    "table.add_row(['LR WITH CLASS BALANCING','TFIDF','ALPHA= 0.0001','0.40254','1','0.9039','33.45%'])\n"
   ]
  },
  {
   "cell_type": "code",
   "execution_count": 9,
   "metadata": {},
   "outputs": [
    {
     "name": "stdout",
     "output_type": "stream",
     "text": [
      "+-------------------------+------------+---------------+----------------+---------------+-------------+--------------------+\n",
      "|          MODEL          | VECTORIZER |   HYPERMETER  | TRAIN LOG-LOSS | TEST LOG-LOSS | CV LOG-LOSS | MISCLASSIFIED IN % |\n",
      "+-------------------------+------------+---------------+----------------+---------------+-------------+--------------------+\n",
      "| LR WITH CLASS BALANCING |   TFIDF    | ALPHA= 0.0001 |    0.40254     |       1       |    0.9039   |       33.45%       |\n",
      "+-------------------------+------------+---------------+----------------+---------------+-------------+--------------------+\n",
      "LR -> Logistic Regression\n"
     ]
    }
   ],
   "source": [
    "print(table)\n",
    "print('LR -> Logistic Regression')"
   ]
  },
  {
   "cell_type": "markdown",
   "metadata": {},
   "source": [
    "### OBSERVATION"
   ]
  },
  {
   "cell_type": "markdown",
   "metadata": {},
   "source": [
    "### We have only used the feature 3 i.e., Gene_Variation feature which is super useful to lower the log loss to its minimal state and minimise the misclassified %"
   ]
  }
 ],
 "metadata": {
  "kernelspec": {
   "display_name": "Python 3",
   "language": "python",
   "name": "python3"
  },
  "language_info": {
   "codemirror_mode": {
    "name": "ipython",
    "version": 3
   },
   "file_extension": ".py",
   "mimetype": "text/x-python",
   "name": "python",
   "nbconvert_exporter": "python",
   "pygments_lexer": "ipython3",
   "version": "3.6.3"
  }
 },
 "nbformat": 4,
 "nbformat_minor": 2
}
